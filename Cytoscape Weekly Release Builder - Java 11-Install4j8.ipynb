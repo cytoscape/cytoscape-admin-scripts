{
 "cells": [
  {
   "cell_type": "markdown",
   "metadata": {},
   "source": [
    "## READ ME FIRST\n",
    "\n",
    "This notebook produces a weekly release from the `develop` branch of Cytoscape.\n",
    "\n",
    "The weekly release consists of Install4j generated installers that can be put on a public server to be downloaded by testers. This script will NOT push any code changes or resources to GitHub or Nexus or update any additional resources like the manual or API docs. \n",
    "\n",
    "This notebook is configured for the build server on which it is run. Notes have been made where local environment variables have been set.\n",
    "\n",
    "Before starting this process, it is a good idea to Restart and Clear Output for this notebook's Kernel.\n"
   ]
  },
  {
   "cell_type": "markdown",
   "metadata": {},
   "source": [
    "### 1. Set up Build Environment\n",
    "\n",
    "This sets up the build environment, including Java and Maven versions, and the root directory of the build.\n"
   ]
  },
  {
   "cell_type": "code",
   "execution_count": 1,
   "metadata": {},
   "outputs": [],
   "source": [
    "from subprocess import Popen, PIPE\n",
    "import os\n",
    "import shutil"
   ]
  },
  {
   "cell_type": "markdown",
   "metadata": {},
   "source": [
    "Set the notebook directory. Note that this is system dependent."
   ]
  },
  {
   "cell_type": "code",
   "execution_count": 2,
   "metadata": {},
   "outputs": [
    {
     "name": "stdout",
     "output_type": "stream",
     "text": [
      "/home/cybuilder/cytoscape-admin-scripts\n"
     ]
    }
   ],
   "source": [
    "NOTEBOOK_DIR = '/home/cybuilder/cytoscape-admin-scripts'\n",
    "\n",
    "print(NOTEBOOK_DIR)"
   ]
  },
  {
   "cell_type": "markdown",
   "metadata": {},
   "source": [
    "Set the Java environment. This is Java 11 for Cytoscape 3.8.0 and above.\n",
    "\n",
    "Note that this is system dependent, and may need to be changed to reflect the system's configuration."
   ]
  },
  {
   "cell_type": "code",
   "execution_count": 3,
   "metadata": {},
   "outputs": [
    {
     "name": "stdout",
     "output_type": "stream",
     "text": [
      "env: JAVA_HOME=/usr/lib/jvm/jre-11-openjdk\n"
     ]
    }
   ],
   "source": [
    "%env JAVA_HOME=/usr/lib/jvm/jre-11-openjdk"
   ]
  },
  {
   "cell_type": "markdown",
   "metadata": {},
   "source": [
    "Set the MAVEN_HOME environment variable, as well as point the path to the correct Maven binaries. \n",
    "\n",
    "Note that this is system dependent and may need to be changed to reflect the system's configuration."
   ]
  },
  {
   "cell_type": "code",
   "execution_count": 4,
   "metadata": {},
   "outputs": [
    {
     "name": "stdout",
     "output_type": "stream",
     "text": [
      "env: MAVEN_HOME=/opt/maven\n",
      "env: PATH=/opt/apache-maven-3.6.0/bin/:/usr/local/sbin:/usr/local/bin:/usr/sbin:/usr/bin\n"
     ]
    }
   ],
   "source": [
    "%env MAVEN_HOME=/opt/maven\n",
    "%env PATH=/opt/apache-maven-3.6.0/bin/:/usr/local/sbin:/usr/local/bin:/usr/sbin:/usr/bin"
   ]
  },
  {
   "cell_type": "markdown",
   "metadata": {},
   "source": [
    "Prepare the target directory and clone the cytoscape git repo."
   ]
  },
  {
   "cell_type": "code",
   "execution_count": 5,
   "metadata": {},
   "outputs": [
    {
     "name": "stdout",
     "output_type": "stream",
     "text": [
      "Changing to directory: /home/cybuilder/cytoscape-admin-scripts\n",
      "Cloning into 'cytoscape'...\n",
      "remote: Enumerating objects: 12, done.\u001b[K\n",
      "remote: Counting objects: 100% (12/12), done.\u001b[K\n",
      "remote: Compressing objects: 100% (11/11), done.\u001b[K\n",
      "remote: Total 541 (delta 3), reused 4 (delta 1), pack-reused 529\u001b[K\n",
      "Receiving objects: 100% (541/541), 363.77 KiB | 0 bytes/s, done.\n",
      "Resolving deltas: 100% (256/256), done.\n"
     ]
    }
   ],
   "source": [
    "print('Changing to directory: ' + NOTEBOOK_DIR)\n",
    "os.chdir(NOTEBOOK_DIR)\n",
    "\n",
    "# Point to build location (the directory to clone parent cytoscape into)\n",
    "BUILD_PARENT_DIR = os.path.join(os.getcwd(), 'install4j8_build')\n",
    "if not os.path.exists(BUILD_PARENT_DIR):\n",
    "    os.mkdir(BUILD_PARENT_DIR)\n",
    "else:\n",
    "    shutil.rmtree(BUILD_PARENT_DIR)\n",
    "    os.mkdir(BUILD_PARENT_DIR)\n",
    "\n",
    "os.chdir(BUILD_PARENT_DIR)\n",
    "![[ -d cytoscape ]] || git clone https://github.com/cytoscape/cytoscape\n",
    "CYTOSCAPE_ROOT_DIR = os.path.join(BUILD_PARENT_DIR, 'cytoscape')\n",
    "CYTOSCAPE_DIR = os.path.join(CYTOSCAPE_ROOT_DIR, 'cytoscape')\n",
    "\n",
    "def cd(directory=BUILD_PARENT_DIR, *subdirs):\n",
    "    if subdirs:\n",
    "        directory = os.path.join(directory, *subdirs)\n",
    "    if os.getcwd() != directory:\n",
    "        os.chdir(directory)"
   ]
  },
  {
   "cell_type": "code",
   "execution_count": 6,
   "metadata": {},
   "outputs": [],
   "source": [
    "STARTING_BRANCH = 'develop'     # develop for major release, release/3.X.X for minor release"
   ]
  },
  {
   "cell_type": "markdown",
   "metadata": {},
   "source": [
    "## 2. Pull the develop branch of Cytoscape\n",
    "\n",
    "Note that to execute the checkout step here, you will need to have set up an SSH key on this machine that does not use password validation, or else parts of the build will be stall when they require input. "
   ]
  },
  {
   "cell_type": "code",
   "execution_count": 7,
   "metadata": {},
   "outputs": [
    {
     "name": "stdout",
     "output_type": "stream",
     "text": [
      "Target directory = \n",
      "Cytoscape project will be cloned to: /home/cybuilder/cytoscape-admin-scripts/install4j8_build/cytoscape\n",
      "Cloning into 'cytoscape'...\n",
      "remote: Enumerating objects: 12, done.\u001b[K\n",
      "remote: Counting objects: 100% (12/12), done.\u001b[K\n",
      "remote: Compressing objects: 100% (11/11), done.\u001b[K\n",
      "remote: Total 541 (delta 3), reused 4 (delta 1), pack-reused 529\u001b[K\n",
      "Receiving objects: 100% (541/541), 363.77 KiB | 0 bytes/s, done.\n",
      "Resolving deltas: 100% (256/256), done.\n",
      "Cloning: parent (URI = git@github.com:cytoscape/cytoscape-parent.git)\n",
      "Cloning into 'parent'...\n",
      "remote: Enumerating objects: 41, done.\u001b[K\n",
      "remote: Counting objects: 100% (41/41), done.\u001b[K\n",
      "remote: Compressing objects: 100% (40/40), done.\u001b[K\n",
      "remote: Total 1610 (delta 20), reused 17 (delta 1), pack-reused 1569\u001b[K\n",
      "Receiving objects: 100% (1610/1610), 253.19 KiB | 0 bytes/s, done.\n",
      "Resolving deltas: 100% (605/605), done.\n",
      "~/cytoscape-admin-scripts/install4j8_build/cytoscape/cytoscape/parent ~/cytoscape-admin-scripts/install4j8_build/cytoscape/cytoscape\n",
      "Already on 'develop'\n",
      "~/cytoscape-admin-scripts/install4j8_build/cytoscape/cytoscape\n",
      "Cloning: api (URI = git@github.com:cytoscape/cytoscape-api.git)\n",
      "Cloning into 'api'...\n",
      "remote: Enumerating objects: 286, done.\u001b[K\n",
      "remote: Counting objects: 100% (286/286), done.\u001b[K\n",
      "remote: Compressing objects: 100% (191/191), done.\u001b[K\n",
      "remote: Total 24166 (delta 91), reused 214 (delta 33), pack-reused 23880\u001b[K\n",
      "Receiving objects: 100% (24166/24166), 5.89 MiB | 0 bytes/s, done.\n",
      "Resolving deltas: 100% (7791/7791), done.\n",
      "~/cytoscape-admin-scripts/install4j8_build/cytoscape/cytoscape/api ~/cytoscape-admin-scripts/install4j8_build/cytoscape/cytoscape\n",
      "Already on 'develop'\n",
      "~/cytoscape-admin-scripts/install4j8_build/cytoscape/cytoscape\n",
      "Cloning: impl (URI = git@github.com:cytoscape/cytoscape-impl.git)\n",
      "Cloning into 'impl'...\n",
      "remote: Enumerating objects: 408, done.\u001b[K\n",
      "remote: Counting objects: 100% (408/408), done.\u001b[K\n",
      "remote: Compressing objects: 100% (257/257), done.\u001b[K\n",
      "remote: Total 133442 (delta 100), reused 328 (delta 49), pack-reused 133034\u001b[K\n",
      "Receiving objects: 100% (133442/133442), 186.05 MiB | 48.35 MiB/s, done.\n",
      "Resolving deltas: 100% (54320/54320), done.\n",
      "~/cytoscape-admin-scripts/install4j8_build/cytoscape/cytoscape/impl ~/cytoscape-admin-scripts/install4j8_build/cytoscape/cytoscape\n",
      "Already on 'develop'\n",
      "~/cytoscape-admin-scripts/install4j8_build/cytoscape/cytoscape\n",
      "Cloning: support (URI = git@github.com:cytoscape/cytoscape-support.git)\n",
      "Cloning into 'support'...\n",
      "remote: Enumerating objects: 103, done.\u001b[K\n",
      "remote: Counting objects: 100% (103/103), done.\u001b[K\n",
      "remote: Compressing objects: 100% (86/86), done.\u001b[K\n",
      "remote: Total 5416 (delta 31), reused 67 (delta 9), pack-reused 5313\u001b[K\n",
      "Receiving objects: 100% (5416/5416), 567.09 KiB | 0 bytes/s, done.\n",
      "Resolving deltas: 100% (1828/1828), done.\n",
      "~/cytoscape-admin-scripts/install4j8_build/cytoscape/cytoscape/support ~/cytoscape-admin-scripts/install4j8_build/cytoscape/cytoscape\n",
      "Already on 'develop'\n",
      "~/cytoscape-admin-scripts/install4j8_build/cytoscape/cytoscape\n",
      "Cloning: gui-distribution (URI = git@github.com:cytoscape/cytoscape-gui-distribution.git)\n",
      "Cloning into 'gui-distribution'...\n",
      "remote: Enumerating objects: 231, done.\u001b[K\n",
      "remote: Counting objects: 100% (231/231), done.\u001b[K\n",
      "remote: Compressing objects: 100% (198/198), done.\u001b[K\n",
      "remote: Total 6407 (delta 99), reused 67 (delta 5), pack-reused 6176\u001b[K\n",
      "Receiving objects: 100% (6407/6407), 52.85 MiB | 51.45 MiB/s, done.\n",
      "Resolving deltas: 100% (2595/2595), done.\n",
      "~/cytoscape-admin-scripts/install4j8_build/cytoscape/cytoscape/gui-distribution ~/cytoscape-admin-scripts/install4j8_build/cytoscape/cytoscape\n",
      "Already on 'develop'\n",
      "~/cytoscape-admin-scripts/install4j8_build/cytoscape/cytoscape\n",
      "Cloning: app-developer (URI = git@github.com:cytoscape/cytoscape-app-developer.git)\n",
      "Cloning into 'app-developer'...\n",
      "remote: Enumerating objects: 10, done.\u001b[K\n",
      "remote: Counting objects: 100% (10/10), done.\u001b[K\n",
      "remote: Compressing objects: 100% (10/10), done.\u001b[K\n",
      "remote: Total 268 (delta 4), reused 5 (delta 0), pack-reused 258\u001b[K\n",
      "Receiving objects: 100% (268/268), 32.62 KiB | 0 bytes/s, done.\n",
      "Resolving deltas: 100% (124/124), done.\n",
      "~/cytoscape-admin-scripts/install4j8_build/cytoscape/cytoscape/app-developer ~/cytoscape-admin-scripts/install4j8_build/cytoscape/cytoscape\n",
      "Already on 'develop'\n",
      "~/cytoscape-admin-scripts/install4j8_build/cytoscape/cytoscape\n",
      "\\n\\n - Finished: here is the current status:\\n\n",
      "------------------------------------------------------------------------\n",
      "- .:\n",
      "\n",
      "# On branch develop\n",
      "nothing to commit, working directory clean\n",
      "------------------------------------------------------------------------\n",
      "- parent:\n",
      "\n",
      "# On branch develop\n",
      "nothing to commit, working directory clean\n",
      "------------------------------------------------------------------------\n",
      "- api:\n",
      "\n",
      "# On branch develop\n",
      "nothing to commit, working directory clean\n",
      "------------------------------------------------------------------------\n",
      "- impl:\n",
      "\n",
      "# On branch develop\n",
      "nothing to commit, working directory clean\n",
      "------------------------------------------------------------------------\n",
      "- support:\n",
      "\n",
      "# On branch develop\n",
      "nothing to commit, working directory clean\n",
      "------------------------------------------------------------------------\n",
      "- gui-distribution:\n",
      "\n",
      "# On branch develop\n",
      "nothing to commit, working directory clean\n",
      "------------------------------------------------------------------------\n",
      "- app-developer:\n",
      "\n",
      "# On branch develop\n",
      "nothing to commit, working directory clean\n",
      "------------------------------------------------------------------------\n",
      "------------------------------------------------------------------------\n",
      "Executing command: git checkout develop\n",
      "--in .\n",
      "Already on 'develop'\n",
      "------------------------------------------------------------------------\n",
      "--in parent\n",
      "Already on 'develop'\n",
      "------------------------------------------------------------------------\n",
      "--in api\n",
      "Already on 'develop'\n",
      "------------------------------------------------------------------------\n",
      "--in impl\n",
      "Already on 'develop'\n",
      "------------------------------------------------------------------------\n",
      "--in support\n",
      "Already on 'develop'\n",
      "------------------------------------------------------------------------\n",
      "--in gui-distribution\n",
      "Already on 'develop'\n",
      "------------------------------------------------------------------------\n",
      "--in app-developer\n",
      "Already on 'develop'\n",
      "------------------------------------------------------------------------\n"
     ]
    }
   ],
   "source": [
    "cd(CYTOSCAPE_ROOT_DIR)\n",
    "![[ -d cytoscape ]] || ./cy.sh init\n",
    "cd(CYTOSCAPE_DIR)\n",
    "!./cy.sh run-all \"git checkout {STARTING_BRANCH}\""
   ]
  },
  {
   "cell_type": "markdown",
   "metadata": {},
   "source": [
    "## 2a. Reset"
   ]
  },
  {
   "cell_type": "code",
   "execution_count": 8,
   "metadata": {},
   "outputs": [
    {
     "name": "stdout",
     "output_type": "stream",
     "text": [
      "------------------------------------------------------------------------\n",
      "Executing command: git clean -f -d\n",
      "--in .\n",
      "------------------------------------------------------------------------\n",
      "--in parent\n",
      "------------------------------------------------------------------------\n",
      "--in api\n",
      "------------------------------------------------------------------------\n",
      "--in impl\n",
      "------------------------------------------------------------------------\n",
      "--in support\n",
      "------------------------------------------------------------------------\n",
      "--in gui-distribution\n",
      "------------------------------------------------------------------------\n",
      "--in app-developer\n",
      "------------------------------------------------------------------------\n",
      "------------------------------------------------------------------------\n",
      "Executing command: git reset --hard\n",
      "--in .\n",
      "HEAD is now at 87a9a80 Update README.md\n",
      "------------------------------------------------------------------------\n",
      "--in parent\n",
      "HEAD is now at 5e23447 Add jacoco code coverage\n",
      "------------------------------------------------------------------------\n",
      "--in api\n",
      "HEAD is now at 5083c1d Optimizing renderer so that querying for hidden nodes/edges is much\n",
      "------------------------------------------------------------------------\n",
      "--in impl\n",
      "HEAD is now at 52573bc Adds a scroller to toolbar's popup menu when its height is larger than the effective screen height.\n",
      "------------------------------------------------------------------------\n",
      "--in support\n",
      "HEAD is now at cb5a31d Update .travis.yml\n",
      "------------------------------------------------------------------------\n",
      "--in gui-distribution\n",
      "HEAD is now at 75b50e5 Update jetty feature\n",
      "------------------------------------------------------------------------\n",
      "--in app-developer\n",
      "HEAD is now at 652de74 Merge branch 'java11' into develop\n",
      "------------------------------------------------------------------------\n"
     ]
    }
   ],
   "source": [
    "cd(CYTOSCAPE_DIR)\n",
    "!./cy.sh run-all 'git clean -f -d'\n",
    "!./cy.sh run-all 'git reset --hard'"
   ]
  },
  {
   "cell_type": "markdown",
   "metadata": {},
   "source": [
    "## 2. Verify status"
   ]
  },
  {
   "cell_type": "code",
   "execution_count": 9,
   "metadata": {
    "scrolled": false
   },
   "outputs": [
    {
     "name": "stdout",
     "output_type": "stream",
     "text": [
      "------------------------------------------------------------------------\r\n",
      "Executing command: git status\r\n",
      "--in .\r\n",
      "# On branch develop\r\n",
      "nothing to commit, working directory clean\r\n",
      "------------------------------------------------------------------------\r\n",
      "--in parent\r\n",
      "# On branch develop\r\n",
      "nothing to commit, working directory clean\r\n",
      "------------------------------------------------------------------------\r\n",
      "--in api\r\n",
      "# On branch develop\r\n",
      "nothing to commit, working directory clean\r\n",
      "------------------------------------------------------------------------\r\n",
      "--in impl\r\n",
      "# On branch develop\r\n",
      "nothing to commit, working directory clean\r\n",
      "------------------------------------------------------------------------\r\n",
      "--in support\r\n",
      "# On branch develop\r\n",
      "nothing to commit, working directory clean\r\n",
      "------------------------------------------------------------------------\r\n",
      "--in gui-distribution\r\n",
      "# On branch develop\r\n",
      "nothing to commit, working directory clean\r\n",
      "------------------------------------------------------------------------\r\n",
      "--in app-developer\r\n",
      "# On branch develop\r\n",
      "nothing to commit, working directory clean\r\n",
      "------------------------------------------------------------------------\r\n"
     ]
    }
   ],
   "source": [
    "cd(CYTOSCAPE_DIR)\n",
    "!./cy.sh run-all 'git status'"
   ]
  },
  {
   "cell_type": "markdown",
   "metadata": {},
   "source": [
    "## 3. Build Cytoscape and ensure no errors\n",
    "\n",
    "This may take a while. Expect to build subrepos first before building from the root directory\n",
    "\n",
    "Currently, you should expect two or so non-fatal javadoc-bundle-options related errors."
   ]
  },
  {
   "cell_type": "code",
   "execution_count": 10,
   "metadata": {},
   "outputs": [
    {
     "name": "stdout",
     "output_type": "stream",
     "text": [
      "Showing ERROR lines in build...\n",
      "[ERROR] Error fetching link: /home/cybuilder/cytoscape-admin-scripts/install4j8_build/cytoscape/cytoscape/api/app-api/target/javadoc-bundle-options. Ignored it.\r\n",
      "[ERROR] Error fetching link: /home/cybuilder/cytoscape-admin-scripts/install4j8_build/cytoscape/cytoscape/api/swing-app-api/target/javadoc-bundle-options. Ignored it.\r\n"
     ]
    }
   ],
   "source": [
    "cd(CYTOSCAPE_DIR)\n",
    "with open('build_output.txt', 'w') as outf:\n",
    "    process = Popen('mvn clean install -Dmaven.test.skip=true'.split(' '), \n",
    "                stdout=outf,\n",
    "                cwd=CYTOSCAPE_DIR)\n",
    "    process.wait()\n",
    "\n",
    "print(\"Showing ERROR lines in build...\")\n",
    "!cat build_output.txt | grep ERROR"
   ]
  },
  {
   "cell_type": "markdown",
   "metadata": {},
   "source": [
    "## 4. Build Cytoscape installers\n",
    "\n",
    "This requires Install4J to be configured on your machine and for the Install4j project file to point to the correct Mac signing file. The keystore password is set below (blank in this config), to be interpreted by the Install4j Maven plugin."
   ]
  },
  {
   "cell_type": "code",
   "execution_count": 13,
   "metadata": {
    "scrolled": true
   },
   "outputs": [
    {
     "name": "stdout",
     "output_type": "stream",
     "text": [
      "env: MAC_KEYSTORE_PASSWORD=\n",
      "[\u001b[1;34mINFO\u001b[m] Scanning for projects...\n",
      "[\u001b[1;33mWARNING\u001b[m] \n",
      "[\u001b[1;33mWARNING\u001b[m] Some problems were encountered while building the effective model for org.cytoscape.distribution:packaging:jar:3.8.0-SNAPSHOT\n",
      "[\u001b[1;33mWARNING\u001b[m] 'build.plugins.plugin.version' for org.sonatype.install4j:install4j-maven-plugin is missing. @ org.cytoscape.distribution:packaging:[unknown-version], /home/cybuilder/cytoscape-admin-scripts/install4j8_build/cytoscape/cytoscape/gui-distribution/packaging/pom.xml, line 104, column 15\n",
      "[\u001b[1;33mWARNING\u001b[m] \n",
      "[\u001b[1;33mWARNING\u001b[m] It is highly recommended to fix these problems because they threaten the stability of your build.\n",
      "[\u001b[1;33mWARNING\u001b[m] \n",
      "[\u001b[1;33mWARNING\u001b[m] For this reason, future Maven versions might no longer support building such malformed projects.\n",
      "[\u001b[1;33mWARNING\u001b[m] \n",
      "[\u001b[1;34mINFO\u001b[m] \n",
      "[\u001b[1;34mINFO\u001b[m] \u001b[1m----------------< \u001b[0;36morg.cytoscape.distribution:packaging\u001b[0;1m >----------------\u001b[m\n",
      "[\u001b[1;34mINFO\u001b[m] \u001b[1mBuilding Cytoscape Release Packaging 3.8.0-SNAPSHOT\u001b[m\n",
      "[\u001b[1;34mINFO\u001b[m] \u001b[1m--------------------------------[ jar ]---------------------------------\u001b[m\n",
      "Downloading from cytoscape_thirdparty: http://nrnb-nexus.ucsd.edu/repository/cytoscape_thirdparty/org/sonatype/install4j/install4j-maven-plugin/maven-metadata.xml\n",
      "Downloading from cytoscape_releases: http://nrnb-nexus.ucsd.edu/repository/cytoscape_releases/org/sonatype/install4j/install4j-maven-plugin/maven-metadata.xml\n",
      "Downloading from central: https://repo.maven.apache.org/maven2/org/sonatype/install4j/install4j-maven-plugin/maven-metadata.xml\n",
      "Downloading from cytoscape_snapshots: http://nrnb-nexus.ucsd.edu/repository/cytoscape_snapshots/org/sonatype/install4j/install4j-maven-plugin/maven-metadata.xml\n",
      "Downloaded from central: https://repo.maven.apache.org/maven2/org/sonatype/install4j/install4j-maven-plugin/maven-metadata.xml (659 B at 2.8 kB/s)\n",
      "Downloading from spring-osgi: http://code.cytoscape.org/nexus/content/repositories/spring-osgi/org/cytoscape/distribution/cytoscape/3.8.0-SNAPSHOT/maven-metadata.xml\n",
      "Downloading from apache-snapshots: http://repository.apache.org/content/groups/snapshots-group/org/cytoscape/distribution/cytoscape/3.8.0-SNAPSHOT/maven-metadata.xml\n",
      "Downloading from cytoscape_snapshots: http://nrnb-nexus.ucsd.edu/repository/cytoscape_snapshots/org/cytoscape/distribution/cytoscape/3.8.0-SNAPSHOT/maven-metadata.xml\n",
      "Downloading from spring-osgi-snapshots: http://code.cytoscape.org/nexus/content/repositories/spring-osgi-external/org/cytoscape/distribution/cytoscape/3.8.0-SNAPSHOT/maven-metadata.xml\n",
      "Downloaded from cytoscape_snapshots: http://nrnb-nexus.ucsd.edu/repository/cytoscape_snapshots/org/cytoscape/distribution/cytoscape/3.8.0-SNAPSHOT/maven-metadata.xml (965 B at 96 kB/s)\n",
      "Downloading from zodiac-repository: http://code.cytoscape.org/nexus/content/repositories/zodiac-release/org/cytoscape/distribution/cytoscape/3.8.0-SNAPSHOT/maven-metadata.xml\n",
      "Downloading from zodiac-milestone-repository: http://code.cytoscape.org/nexus/content/repositories/zodiac-milestone/org/cytoscape/distribution/cytoscape/3.8.0-SNAPSHOT/maven-metadata.xml\n",
      "Downloading from apache-snapshots: http://repository.apache.org/content/groups/snapshots-group/org/cytoscape/distribution/parent/3.8.0-SNAPSHOT/maven-metadata.xml\n",
      "Downloading from spring-osgi-snapshots: http://code.cytoscape.org/nexus/content/repositories/spring-osgi-external/org/cytoscape/distribution/parent/3.8.0-SNAPSHOT/maven-metadata.xml\n",
      "Downloading from cytoscape_snapshots: http://nrnb-nexus.ucsd.edu/repository/cytoscape_snapshots/org/cytoscape/distribution/parent/3.8.0-SNAPSHOT/maven-metadata.xml\n",
      "Downloading from spring-osgi: http://code.cytoscape.org/nexus/content/repositories/spring-osgi/org/cytoscape/distribution/parent/3.8.0-SNAPSHOT/maven-metadata.xml\n",
      "Downloaded from cytoscape_snapshots: http://nrnb-nexus.ucsd.edu/repository/cytoscape_snapshots/org/cytoscape/distribution/parent/3.8.0-SNAPSHOT/maven-metadata.xml (613 B at 88 kB/s)\n",
      "Downloading from zodiac-repository: http://code.cytoscape.org/nexus/content/repositories/zodiac-release/org/cytoscape/distribution/parent/3.8.0-SNAPSHOT/maven-metadata.xml\n",
      "Downloading from zodiac-milestone-repository: http://code.cytoscape.org/nexus/content/repositories/zodiac-milestone/org/cytoscape/distribution/parent/3.8.0-SNAPSHOT/maven-metadata.xml\n",
      "Downloading from cytoscape_snapshots: http://nrnb-nexus.ucsd.edu/repository/cytoscape_snapshots/org/cytoscape/parent/3.8.0-SNAPSHOT/maven-metadata.xml\n",
      "Downloading from spring-osgi: http://code.cytoscape.org/nexus/content/repositories/spring-osgi/org/cytoscape/parent/3.8.0-SNAPSHOT/maven-metadata.xml\n",
      "Downloading from apache-snapshots: http://repository.apache.org/content/groups/snapshots-group/org/cytoscape/parent/3.8.0-SNAPSHOT/maven-metadata.xml\n",
      "Downloaded from cytoscape_snapshots: http://nrnb-nexus.ucsd.edu/repository/cytoscape_snapshots/org/cytoscape/parent/3.8.0-SNAPSHOT/maven-metadata.xml (596 B at 99 kB/s)\n",
      "Downloading from spring-osgi-snapshots: http://code.cytoscape.org/nexus/content/repositories/spring-osgi-external/org/cytoscape/parent/3.8.0-SNAPSHOT/maven-metadata.xml\n",
      "Downloading from zodiac-repository: http://code.cytoscape.org/nexus/content/repositories/zodiac-release/org/cytoscape/parent/3.8.0-SNAPSHOT/maven-metadata.xml\n",
      "Downloading from zodiac-milestone-repository: http://code.cytoscape.org/nexus/content/repositories/zodiac-milestone/org/cytoscape/parent/3.8.0-SNAPSHOT/maven-metadata.xml\n",
      "[\u001b[1;34mINFO\u001b[m] \n",
      "[\u001b[1;34mINFO\u001b[m] \u001b[1m--- \u001b[0;32mmaven-clean-plugin:2.5:clean\u001b[m \u001b[1m(default-clean)\u001b[m @ \u001b[36mpackaging\u001b[0;1m ---\u001b[m\n",
      "[\u001b[1;34mINFO\u001b[m] Deleting /home/cybuilder/cytoscape-admin-scripts/install4j8_build/cytoscape/cytoscape/gui-distribution/packaging/target\n",
      "[\u001b[1;34mINFO\u001b[m] \n",
      "[\u001b[1;34mINFO\u001b[m] \u001b[1m--- \u001b[0;32mjacoco-maven-plugin:0.8.4:prepare-agent\u001b[m \u001b[1m(default)\u001b[m @ \u001b[36mpackaging\u001b[0;1m ---\u001b[m\n",
      "[\u001b[1;34mINFO\u001b[m] argLine set to -javaagent:/home/cybuilder/.m2/repository/org/jacoco/org.jacoco.agent/0.8.4/org.jacoco.agent-0.8.4-runtime.jar=destfile=/home/cybuilder/cytoscape-admin-scripts/install4j8_build/cytoscape/cytoscape/gui-distribution/packaging/target/jacoco.exec -Djdk.net.URLClassPath.disableClassPathURLCheck=true\n",
      "[\u001b[1;34mINFO\u001b[m] \n",
      "[\u001b[1;34mINFO\u001b[m] \u001b[1m--- \u001b[0;32mmaven-dependency-plugin:3.1.1:unpack-dependencies\u001b[m \u001b[1m(unpack-distribution)\u001b[m @ \u001b[36mpackaging\u001b[0;1m ---\u001b[m\n",
      "[\u001b[1;34mINFO\u001b[m] Unpacking /home/cybuilder/.m2/repository/org/cytoscape/distribution/cytoscape/3.8.0-SNAPSHOT/cytoscape-3.8.0-SNAPSHOT.zip to /home/cybuilder/cytoscape-admin-scripts/install4j8_build/cytoscape/cytoscape/gui-distribution/packaging/target with includes \"\" and excludes \"\"\n",
      "[\u001b[1;34mINFO\u001b[m] Unpacking /home/cybuilder/.m2/repository/org/cytoscape/distribution/cytoscape/3.8.0-SNAPSHOT/cytoscape-3.8.0-SNAPSHOT.tar.gz to /home/cybuilder/cytoscape-admin-scripts/install4j8_build/cytoscape/cytoscape/gui-distribution/packaging/target with includes \"\" and excludes \"\"\n",
      "[\u001b[1;34mINFO\u001b[m] Expanding: /home/cybuilder/.m2/repository/org/cytoscape/distribution/cytoscape/3.8.0-SNAPSHOT/cytoscape-3.8.0-SNAPSHOT.tar.gz into /home/cybuilder/cytoscape-admin-scripts/install4j8_build/cytoscape/cytoscape/gui-distribution/packaging/target\n",
      "[\u001b[1;34mINFO\u001b[m] \n",
      "[\u001b[1;34mINFO\u001b[m] \u001b[1m--- \u001b[0;32mmaven-dependency-plugin:3.1.1:unpack-dependencies\u001b[m \u001b[1m(unpack-javadoc)\u001b[m @ \u001b[36mpackaging\u001b[0;1m ---\u001b[m\n",
      "[\u001b[1;34mINFO\u001b[m] \n",
      "[\u001b[1;34mINFO\u001b[m] \u001b[1m--- \u001b[0;32mmaven-dependency-plugin:3.1.1:copy-dependencies\u001b[m \u001b[1m(copy-distribution)\u001b[m @ \u001b[36mpackaging\u001b[0;1m ---\u001b[m\n",
      "[\u001b[1;34mINFO\u001b[m] Copying cytoscape-3.8.0-SNAPSHOT.zip to /home/cybuilder/cytoscape-admin-scripts/install4j8_build/cytoscape/cytoscape/gui-distribution/packaging/target/install4j/cytoscape-3.8.0-SNAPSHOT.zip\n",
      "[\u001b[1;34mINFO\u001b[m] Copying cytoscape-3.8.0-SNAPSHOT.tar.gz to /home/cybuilder/cytoscape-admin-scripts/install4j8_build/cytoscape/cytoscape/gui-distribution/packaging/target/install4j/cytoscape-3.8.0-SNAPSHOT.tar.gz\n",
      "[\u001b[1;34mINFO\u001b[m] \n",
      "[\u001b[1;34mINFO\u001b[m] \u001b[1m--- \u001b[0;32mmaven-resources-plugin:2.6:resources\u001b[m \u001b[1m(default-resources)\u001b[m @ \u001b[36mpackaging\u001b[0;1m ---\u001b[m\n",
      "[\u001b[1;34mINFO\u001b[m] Using 'UTF-8' encoding to copy filtered resources.\n",
      "[\u001b[1;34mINFO\u001b[m] Copying 2 resources\n",
      "[\u001b[1;34mINFO\u001b[m] Copying 7 resources\n",
      "[\u001b[1;34mINFO\u001b[m] \n",
      "[\u001b[1;34mINFO\u001b[m] \u001b[1m--- \u001b[0;32mmaven-compiler-plugin:3.8.0:compile\u001b[m \u001b[1m(default-compile)\u001b[m @ \u001b[36mpackaging\u001b[0;1m ---\u001b[m\n"
     ]
    },
    {
     "name": "stdout",
     "output_type": "stream",
     "text": [
      "[\u001b[1;34mINFO\u001b[m] No sources to compile\n",
      "[\u001b[1;34mINFO\u001b[m] \n",
      "[\u001b[1;34mINFO\u001b[m] \u001b[1m--- \u001b[0;32mmaven-resources-plugin:2.6:testResources\u001b[m \u001b[1m(default-testResources)\u001b[m @ \u001b[36mpackaging\u001b[0;1m ---\u001b[m\n",
      "[\u001b[1;34mINFO\u001b[m] Using 'UTF-8' encoding to copy filtered resources.\n",
      "[\u001b[1;34mINFO\u001b[m] skip non existing resourceDirectory /home/cybuilder/cytoscape-admin-scripts/install4j8_build/cytoscape/cytoscape/gui-distribution/packaging/src/test/resources\n",
      "[\u001b[1;34mINFO\u001b[m] \n",
      "[\u001b[1;34mINFO\u001b[m] \u001b[1m--- \u001b[0;32mmaven-compiler-plugin:3.8.0:testCompile\u001b[m \u001b[1m(default-testCompile)\u001b[m @ \u001b[36mpackaging\u001b[0;1m ---\u001b[m\n",
      "[\u001b[1;34mINFO\u001b[m] No sources to compile\n",
      "[\u001b[1;34mINFO\u001b[m] \n",
      "[\u001b[1;34mINFO\u001b[m] \u001b[1m--- \u001b[0;32mmaven-surefire-plugin:3.0.0-M3:test\u001b[m \u001b[1m(default-test)\u001b[m @ \u001b[36mpackaging\u001b[0;1m ---\u001b[m\n",
      "[\u001b[1;34mINFO\u001b[m] No tests to run.\n",
      "[\u001b[1;34mINFO\u001b[m] \n",
      "[\u001b[1;34mINFO\u001b[m] \u001b[1m--- \u001b[0;32mjacoco-maven-plugin:0.8.4:report\u001b[m \u001b[1m(report)\u001b[m @ \u001b[36mpackaging\u001b[0;1m ---\u001b[m\n",
      "[\u001b[1;34mINFO\u001b[m] Skipping JaCoCo execution due to missing execution data file.\n",
      "[\u001b[1;34mINFO\u001b[m] \n",
      "[\u001b[1;34mINFO\u001b[m] \u001b[1m--- \u001b[0;32mmaven-jar-plugin:2.4:jar\u001b[m \u001b[1m(default-jar)\u001b[m @ \u001b[36mpackaging\u001b[0;1m ---\u001b[m\n",
      "[\u001b[1;34mINFO\u001b[m] Building jar: /home/cybuilder/cytoscape-admin-scripts/install4j8_build/cytoscape/cytoscape/gui-distribution/packaging/target/packaging-3.8.0-SNAPSHOT.jar\n",
      "[\u001b[1;34mINFO\u001b[m] \n",
      "[\u001b[1;34mINFO\u001b[m] \u001b[1m>>> \u001b[0;32mmaven-source-plugin:3.0.1:jar\u001b[m \u001b[1m(attach-sources)\u001b[0;1m > \u001b[0;1mgenerate-sources\u001b[m @ \u001b[36mpackaging\u001b[0;1m >>>\u001b[m\n",
      "[\u001b[1;34mINFO\u001b[m] \n",
      "[\u001b[1;34mINFO\u001b[m] \u001b[1m--- \u001b[0;32mjacoco-maven-plugin:0.8.4:prepare-agent\u001b[m \u001b[1m(default)\u001b[m @ \u001b[36mpackaging\u001b[0;1m ---\u001b[m\n",
      "[\u001b[1;34mINFO\u001b[m] argLine set to -javaagent:/home/cybuilder/.m2/repository/org/jacoco/org.jacoco.agent/0.8.4/org.jacoco.agent-0.8.4-runtime.jar=destfile=/home/cybuilder/cytoscape-admin-scripts/install4j8_build/cytoscape/cytoscape/gui-distribution/packaging/target/jacoco.exec -Djdk.net.URLClassPath.disableClassPathURLCheck=true\n",
      "[\u001b[1;34mINFO\u001b[m] \n",
      "[\u001b[1;34mINFO\u001b[m] \u001b[1m<<< \u001b[0;32mmaven-source-plugin:3.0.1:jar\u001b[m \u001b[1m(attach-sources)\u001b[0;1m < \u001b[0;1mgenerate-sources\u001b[m @ \u001b[36mpackaging\u001b[0;1m <<<\u001b[m\n",
      "[\u001b[1;34mINFO\u001b[m] \n",
      "[\u001b[1;34mINFO\u001b[m] \n",
      "[\u001b[1;34mINFO\u001b[m] \u001b[1m--- \u001b[0;32mmaven-source-plugin:3.0.1:jar\u001b[m \u001b[1m(attach-sources)\u001b[m @ \u001b[36mpackaging\u001b[0;1m ---\u001b[m\n",
      "[\u001b[1;34mINFO\u001b[m] Building jar: /home/cybuilder/cytoscape-admin-scripts/install4j8_build/cytoscape/cytoscape/gui-distribution/packaging/target/packaging-3.8.0-SNAPSHOT-sources.jar\n",
      "[\u001b[1;34mINFO\u001b[m] \n",
      "[\u001b[1;34mINFO\u001b[m] \u001b[1m--- \u001b[0;32mmaven-dependency-plugin:3.1.1:copy-dependencies\u001b[m \u001b[1m(copy-dependencies)\u001b[m @ \u001b[36mpackaging\u001b[0;1m ---\u001b[m\n",
      "[\u001b[1;34mINFO\u001b[m] Copying cytoscape-3.8.0-SNAPSHOT.zip to /home/cybuilder/cytoscape-admin-scripts/install4j8_build/cytoscape/cytoscape/gui-distribution/packaging/target/bundles/cytoscape-3.8.0-SNAPSHOT.zip\n",
      "[\u001b[1;34mINFO\u001b[m] Copying cytoscape-3.8.0-SNAPSHOT.tar.gz to /home/cybuilder/cytoscape-admin-scripts/install4j8_build/cytoscape/cytoscape/gui-distribution/packaging/target/bundles/cytoscape-3.8.0-SNAPSHOT.tar.gz\n",
      "[\u001b[1;34mINFO\u001b[m] \n",
      "[\u001b[1;34mINFO\u001b[m] \u001b[1m--- \u001b[0;32minstall4j-maven-plugin:1.1.1:compile\u001b[m \u001b[1m(compile-installers)\u001b[m @ \u001b[36mpackaging\u001b[0;1m ---\u001b[m\n",
      "[\u001b[1;34mINFO\u001b[m] chmod: changing permissions of ‘/opt/install4j8/bin/install4jc’: Operation not permitted\n",
      "[\u001b[1;31mERROR\u001b[m] Result: 1\n",
      "[\u001b[1;34mINFO\u001b[m] install4j version 8.0.2 (build 8057), built on 2019-09-25\n",
      "[\u001b[1;34mINFO\u001b[m] Using Java 11.0.4 from /usr/lib/jvm/java-11-openjdk-11.0.4.11-1.el7_7.x86_64\n",
      "[\u001b[1;34mINFO\u001b[m] Registered to Evaluation\n",
      "[\u001b[1;34mINFO\u001b[m] \n",
      "[\u001b[1;34mINFO\u001b[m] Loading config file /home/cybuilder/cytoscape-admin-scripts/install4j8_build/cytoscape/cytoscape/gui-distribution/packaging/target/classes/Cytoscape.install4j\n",
      "[\u001b[1;34mINFO\u001b[m] Creating media file 'Windows 64 bit':\n",
      "[\u001b[1;34mINFO\u001b[m] Created media file output directory /home/cybuilder/cytoscape-admin-scripts/install4j8_build/cytoscape/cytoscape/gui-distribution/packaging/target/media\n",
      "[\u001b[1;34mINFO\u001b[m] \n",
      "[\u001b[1;34mINFO\u001b[m]   Collecting files:\n",
      "[\u001b[1;34mINFO\u001b[m]   Compiling launchers:\n",
      "[\u001b[1;34mINFO\u001b[m]     Compiling launcher 'Cytoscape':\n",
      "[\u001b[1;34mINFO\u001b[m]   Creating media file: \n",
      "[\u001b[1;34mINFO\u001b[m]     Zipping custom code & resources JAR file\n",
      "[\u001b[1;34mINFO\u001b[m]     Identifying components\n",
      "[\u001b[1;34mINFO\u001b[m]     Shrinking runtime\n",
      "[\u001b[1;34mINFO\u001b[m]   \n",
      "[\u001b[1;34mINFO\u001b[m] Creating media file 'Windows 32 bit':\n",
      "[\u001b[1;34mINFO\u001b[m]   Collecting files:\n",
      "[\u001b[1;34mINFO\u001b[m]   [WARNING] The version of the bundled JRE is too low. It should be at least 11.0!\n",
      "[\u001b[1;34mINFO\u001b[m]   Compiling launchers:\n",
      "[\u001b[1;34mINFO\u001b[m]     Compiling launcher 'Cytoscape':\n",
      "[\u001b[1;34mINFO\u001b[m]   Creating media file: \n",
      "[\u001b[1;34mINFO\u001b[m]     Zipping custom code & resources JAR file\n",
      "[\u001b[1;34mINFO\u001b[m]     Identifying components\n",
      "[\u001b[1;34mINFO\u001b[m]     Shrinking runtime\n",
      "[\u001b[1;34mINFO\u001b[m]   \n",
      "[\u001b[1;34mINFO\u001b[m] Creating media file 'Mac OS X':\n",
      "[\u001b[1;34mINFO\u001b[m]   Collecting files:\n",
      "[\u001b[1;34mINFO\u001b[m]   Compiling launchers:\n",
      "[\u001b[1;34mINFO\u001b[m]     Compiling launcher 'Cytoscape':\n",
      "[\u001b[1;34mINFO\u001b[m]       Signing launcher\n",
      "[\u001b[1;34mINFO\u001b[m]   Creating media file: \n",
      "[\u001b[1;34mINFO\u001b[m]     Signing launcher\n",
      "[\u001b[1;34mINFO\u001b[m]     Zipping custom code & resources JAR file\n",
      "[\u001b[1;34mINFO\u001b[m]     Identifying components\n",
      "[\u001b[1;34mINFO\u001b[m]     Shrinking runtime\n",
      "[\u001b[1;34mINFO\u001b[m]   \n",
      "[\u001b[1;34mINFO\u001b[m] Creating media file 'Unix':\n",
      "[\u001b[1;34mINFO\u001b[m]   Collecting files:\n",
      "[\u001b[1;34mINFO\u001b[m]   Compiling launchers:\n",
      "[\u001b[1;34mINFO\u001b[m]     Compiling launcher 'Cytoscape':\n",
      "[\u001b[1;34mINFO\u001b[m]       Generating launcher script file\n",
      "[\u001b[1;34mINFO\u001b[m]   Creating media file: \n",
      "[\u001b[1;34mINFO\u001b[m]     Generating launcher script file\n",
      "[\u001b[1;34mINFO\u001b[m]     Zipping custom code & resources JAR file\n",
      "[\u001b[1;34mINFO\u001b[m]     Identifying components\n",
      "[\u001b[1;34mINFO\u001b[m]     Shrinking runtime\n",
      "[\u001b[1;34mINFO\u001b[m]   \n",
      "[\u001b[1;34mINFO\u001b[m] Compressing 4 media files with 4 threads:\n",
      "[\u001b[1;34mINFO\u001b[m] \n",
      "[\u001b[1;34mINFO\u001b[m] Compressed media file 'Unix':\n",
      "[\u001b[1;34mINFO\u001b[m]   Compressing files\n",
      "[\u001b[1;34mINFO\u001b[m]   Moving media files to media directory /home/cybuilder/cytoscape-admin-scripts/install4j8_build/cytoscape/cytoscape/gui-distribution/packaging/target/media\n",
      "[\u001b[1;34mINFO\u001b[m]   The name of the media file is Cytoscape_3_8_0-SNAPSHOT_unix.sh.\n",
      "[\u001b[1;34mINFO\u001b[m]   The size of the media file is 256.2 MB\n",
      "[\u001b[1;34mINFO\u001b[m] \n",
      "[\u001b[1;34mINFO\u001b[m] Compressed media file 'Windows 32 bit':\n",
      "[\u001b[1;34mINFO\u001b[m]   Compressing files\n",
      "[\u001b[1;34mINFO\u001b[m]   Moving media files to media directory /home/cybuilder/cytoscape-admin-scripts/install4j8_build/cytoscape/cytoscape/gui-distribution/packaging/target/media\n",
      "[\u001b[1;34mINFO\u001b[m]   The name of the media file is Cytoscape_3_8_0-SNAPSHOT_windows_32bit.exe.\n",
      "[\u001b[1;34mINFO\u001b[m]   The size of the media file is 257.6 MB\n",
      "[\u001b[1;34mINFO\u001b[m]   \n",
      "[\u001b[1;34mINFO\u001b[m]   Important: Please make sure that the file\n",
      "[\u001b[1;34mINFO\u001b[m]       /home/cybuilder/.install4j8/jres/windows-x86-1.8.0_162.tar.gz\n",
      "[\u001b[1;34mINFO\u001b[m]   can be downloaded from\n",
      "[\u001b[1;34mINFO\u001b[m]       http://chianti.ucsd.edu/jres/windows-x86-1.8.0_162.tar.gz\n",
      "[\u001b[1;34mINFO\u001b[m] \n",
      "[\u001b[1;34mINFO\u001b[m] Compressed media file 'Windows 64 bit':\n",
      "[\u001b[1;34mINFO\u001b[m]   Compressing files\n",
      "[\u001b[1;34mINFO\u001b[m]   Moving media files to media directory /home/cybuilder/cytoscape-admin-scripts/install4j8_build/cytoscape/cytoscape/gui-distribution/packaging/target/media\n",
      "[\u001b[1;34mINFO\u001b[m]   The name of the media file is Cytoscape_3_8_0-SNAPSHOT_windows_64bit.exe.\n",
      "[\u001b[1;34mINFO\u001b[m]   The size of the media file is 257.7 MB\n",
      "[\u001b[1;34mINFO\u001b[m]   \n",
      "[\u001b[1;34mINFO\u001b[m]   Important: Please make sure that the file\n",
      "[\u001b[1;34mINFO\u001b[m]       /home/cybuilder/.install4j8/jres/windows-amd64-11.0.3.tar.gz\n",
      "[\u001b[1;34mINFO\u001b[m]   can be downloaded from\n",
      "[\u001b[1;34mINFO\u001b[m]       http://chianti.ucsd.edu/jres/windows-amd64-11.0.3.tar.gz\n",
      "[\u001b[1;34mINFO\u001b[m] \n",
      "[\u001b[1;34mINFO\u001b[m] Compressed media file 'Mac OS X':\n",
      "[\u001b[1;34mINFO\u001b[m]   Compressing files\n",
      "[\u001b[1;34mINFO\u001b[m]   Generating VM options file vmoptions.txt.\n",
      "[\u001b[1;34mINFO\u001b[m]   Signing libi4jinst2.dylib\n",
      "[\u001b[1;34mINFO\u001b[m]   Signing install4j\n",
      "[\u001b[1;34mINFO\u001b[m]   Signing libi4jinst.dylib\n",
      "[\u001b[1;34mINFO\u001b[m]   Signing installer\n",
      "[\u001b[1;34mINFO\u001b[m]   Signing DMG\n",
      "[\u001b[1;34mINFO\u001b[m]   Moving media files to media directory /home/cybuilder/cytoscape-admin-scripts/install4j8_build/cytoscape/cytoscape/gui-distribution/packaging/target/media\n",
      "[\u001b[1;34mINFO\u001b[m]   The name of the media file is Cytoscape_3_8_0-SNAPSHOT_macos.dmg.\n",
      "[\u001b[1;34mINFO\u001b[m]   The size of the media file is 257.5 MB\n",
      "[\u001b[1;34mINFO\u001b[m]   \n",
      "[\u001b[1;34mINFO\u001b[m]   Important: Please make sure that the file\n",
      "[\u001b[1;34mINFO\u001b[m]       /home/cybuilder/.install4j8/jres/macosx-amd64-11.0.3.tar.gz\n",
      "[\u001b[1;34mINFO\u001b[m]   can be downloaded from\n",
      "[\u001b[1;34mINFO\u001b[m]       http://chianti.ucsd.edu/jres/macosx-amd64-11.0.3.tar.gz\n",
      "[\u001b[1;34mINFO\u001b[m] \n",
      "[\u001b[1;34mINFO\u001b[m] Important: macOS media sets have to be notarized before distribution.\n",
      "[\u001b[1;34mINFO\u001b[m]   More information in the code signing help.\n",
      "[\u001b[1;34mINFO\u001b[m] \n",
      "[\u001b[1;34mINFO\u001b[m] Writing md5sums.\n",
      "[\u001b[1;34mINFO\u001b[m] Writing sha256sums.\n",
      "[\u001b[1;34mINFO\u001b[m] Writing updates.xml.\n",
      "[\u001b[1;34mINFO\u001b[m] Build completed in 48.0 seconds.\n"
     ]
    },
    {
     "name": "stdout",
     "output_type": "stream",
     "text": [
      "[\u001b[1;34mINFO\u001b[m] \n",
      "[\u001b[1;34mINFO\u001b[m] \u001b[1m--- \u001b[0;32mmaven-install-plugin:2.4:install\u001b[m \u001b[1m(default-install)\u001b[m @ \u001b[36mpackaging\u001b[0;1m ---\u001b[m\n",
      "[\u001b[1;34mINFO\u001b[m] Installing /home/cybuilder/cytoscape-admin-scripts/install4j8_build/cytoscape/cytoscape/gui-distribution/packaging/target/packaging-3.8.0-SNAPSHOT.jar to /home/cybuilder/.m2/repository/org/cytoscape/distribution/packaging/3.8.0-SNAPSHOT/packaging-3.8.0-SNAPSHOT.jar\n",
      "[\u001b[1;34mINFO\u001b[m] Installing /home/cybuilder/cytoscape-admin-scripts/install4j8_build/cytoscape/cytoscape/gui-distribution/packaging/pom.xml to /home/cybuilder/.m2/repository/org/cytoscape/distribution/packaging/3.8.0-SNAPSHOT/packaging-3.8.0-SNAPSHOT.pom\n",
      "[\u001b[1;34mINFO\u001b[m] Installing /home/cybuilder/cytoscape-admin-scripts/install4j8_build/cytoscape/cytoscape/gui-distribution/packaging/target/packaging-3.8.0-SNAPSHOT-sources.jar to /home/cybuilder/.m2/repository/org/cytoscape/distribution/packaging/3.8.0-SNAPSHOT/packaging-3.8.0-SNAPSHOT-sources.jar\n",
      "[\u001b[1;34mINFO\u001b[m] \u001b[1m------------------------------------------------------------------------\u001b[m\n",
      "[\u001b[1;34mINFO\u001b[m] \u001b[1;32mBUILD SUCCESS\u001b[m\n",
      "[\u001b[1;34mINFO\u001b[m] \u001b[1m------------------------------------------------------------------------\u001b[m\n",
      "[\u001b[1;34mINFO\u001b[m] Total time:  59.259 s\n",
      "[\u001b[1;34mINFO\u001b[m] Finished at: 2019-10-18T14:27:57-07:00\n",
      "[\u001b[1;34mINFO\u001b[m] \u001b[1m------------------------------------------------------------------------\u001b[m\n"
     ]
    }
   ],
   "source": [
    "cd(CYTOSCAPE_DIR, 'gui-distribution', 'packaging')\n",
    "%env MAC_KEYSTORE_PASSWORD=\n",
    "!mvn clean install -U"
   ]
  },
  {
   "cell_type": "markdown",
   "metadata": {},
   "source": [
    "## 5. Copying Cytoscape installers to weekly download page\n",
    "\n",
    "When completed the builds can be found in `cytoscape/cytoscape/gui-distribution/packaging/target/media`\n",
    "\n",
    "which should be copied to `/var/www/html/cytoscape-builds/Cytoscape-3.8/<DATE>`\n",
    "\n"
   ]
  },
  {
   "cell_type": "code",
   "execution_count": null,
   "metadata": {},
   "outputs": [],
   "source": []
  }
 ],
 "metadata": {
  "kernelspec": {
   "display_name": "Python 3",
   "language": "python",
   "name": "python3"
  },
  "language_info": {
   "codemirror_mode": {
    "name": "ipython",
    "version": 3
   },
   "file_extension": ".py",
   "mimetype": "text/x-python",
   "name": "python",
   "nbconvert_exporter": "python",
   "pygments_lexer": "ipython3",
   "version": "3.7.3"
  }
 },
 "nbformat": 4,
 "nbformat_minor": 2
}
