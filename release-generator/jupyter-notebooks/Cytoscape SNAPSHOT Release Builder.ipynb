{
 "cells": [
  {
   "cell_type": "markdown",
   "metadata": {},
   "source": [
    "## READ ME FIRST\n",
    "\n",
    "This notebook produces a weekly release from the `develop` branch of Cytoscape.\n",
    "\n",
    "The weekly release consists of Install4j generated installers that can be put on a public server to be downloaded by testers. This script will NOT push any code changes or resources to GitHub or Nexus or update any additional resources like the manual or API docs. \n",
    "\n",
    "This notebook is configured for the build server on which it is run. Notes have been made where local environment variables have been set.\n",
    "\n",
    "Before starting this process, it is a good idea to Restart and Clear Output for this notebook's Kernel.\n"
   ]
  },
  {
   "cell_type": "markdown",
   "metadata": {},
   "source": [
    "### 1. Set up Build Environment\n",
    "\n",
    "This sets up the build environment, including Java and Maven versions, and the root directory of the build.\n"
   ]
  },
  {
   "cell_type": "code",
   "execution_count": 1,
   "metadata": {},
   "outputs": [],
   "source": [
    "from subprocess import Popen, PIPE\n",
    "import os\n",
    "import shutil"
   ]
  },
  {
   "cell_type": "markdown",
   "metadata": {},
   "source": [
    "Set the notebook directory. Note that this is system dependent."
   ]
  },
  {
   "cell_type": "code",
   "execution_count": 2,
   "metadata": {},
   "outputs": [
    {
     "name": "stdout",
     "output_type": "stream",
     "text": [
      "/home/cybuilder/cytoscape-admin-scripts\n"
     ]
    }
   ],
   "source": [
    "NOTEBOOK_DIR = '/home/cybuilder/cytoscape-admin-scripts'\n",
    "\n",
    "print(NOTEBOOK_DIR)"
   ]
  },
  {
   "cell_type": "markdown",
   "metadata": {},
   "source": [
    "Set the Java environment. This is Java 11 for Cytoscape 3.8.0 and above.\n",
    "\n",
    "Note that this is system dependent, and may need to be changed to reflect the system's configuration."
   ]
  },
  {
   "cell_type": "code",
   "execution_count": 3,
   "metadata": {},
   "outputs": [
    {
     "name": "stdout",
     "output_type": "stream",
     "text": [
      "env: JAVA_HOME=/usr/lib/jvm/jre-11-openjdk\n"
     ]
    }
   ],
   "source": [
    "%env JAVA_HOME=/usr/lib/jvm/jre-11-openjdk"
   ]
  },
  {
   "cell_type": "markdown",
   "metadata": {},
   "source": [
    "Set the MAVEN_HOME environment variable, as well as point the path to the correct Maven binaries. \n",
    "\n",
    "Note that this is system dependent and may need to be changed to reflect the system's configuration."
   ]
  },
  {
   "cell_type": "code",
   "execution_count": 4,
   "metadata": {},
   "outputs": [
    {
     "name": "stdout",
     "output_type": "stream",
     "text": [
      "env: MAVEN_HOME=/opt/maven\n",
      "env: PATH=/opt/apache-maven-3.6.0/bin/:/usr/local/sbin:/usr/local/bin:/usr/sbin:/usr/bin\n"
     ]
    }
   ],
   "source": [
    "%env MAVEN_HOME=/opt/maven\n",
    "%env PATH=/opt/apache-maven-3.6.0/bin/:/usr/local/sbin:/usr/local/bin:/usr/sbin:/usr/bin"
   ]
  },
  {
   "cell_type": "markdown",
   "metadata": {},
   "source": [
    "Prepare the target directory and clone the cytoscape git repo."
   ]
  },
  {
   "cell_type": "code",
   "execution_count": 5,
   "metadata": {},
   "outputs": [
    {
     "name": "stdout",
     "output_type": "stream",
     "text": [
      "Changing to directory: /home/cybuilder/cytoscape-admin-scripts\n",
      "Cloning into 'cytoscape'...\n",
      "remote: Enumerating objects: 577, done.\u001b[K\n",
      "remote: Total 577 (delta 0), reused 0 (delta 0), pack-reused 577\u001b[K\n",
      "Receiving objects: 100% (577/577), 758.90 KiB | 0 bytes/s, done.\n",
      "Resolving deltas: 100% (284/284), done.\n"
     ]
    }
   ],
   "source": [
    "print('Changing to directory: ' + NOTEBOOK_DIR)\n",
    "os.chdir(NOTEBOOK_DIR)\n",
    "\n",
    "# Point to build location (the directory to clone parent cytoscape into)\n",
    "BUILD_PARENT_DIR = os.path.join(os.getcwd(), 'release-build')\n",
    "if not os.path.exists(BUILD_PARENT_DIR):\n",
    "    os.mkdir(BUILD_PARENT_DIR)\n",
    "else:\n",
    "    shutil.rmtree(BUILD_PARENT_DIR)\n",
    "    os.mkdir(BUILD_PARENT_DIR)\n",
    "\n",
    "os.chdir(BUILD_PARENT_DIR)\n",
    "![[ -d cytoscape ]] || git clone https://github.com/cytoscape/cytoscape\n",
    "CYTOSCAPE_ROOT_DIR = os.path.join(BUILD_PARENT_DIR, 'cytoscape')\n",
    "CYTOSCAPE_DIR = os.path.join(CYTOSCAPE_ROOT_DIR, 'cytoscape')\n",
    "\n",
    "def cd(directory=BUILD_PARENT_DIR, *subdirs):\n",
    "    if subdirs:\n",
    "        directory = os.path.join(directory, *subdirs)\n",
    "    if os.getcwd() != directory:\n",
    "        os.chdir(directory)"
   ]
  },
  {
   "cell_type": "code",
   "execution_count": 6,
   "metadata": {},
   "outputs": [],
   "source": [
    "STARTING_BRANCH = 'develop'     # develop for major release, release/3.X.X for minor release"
   ]
  },
  {
   "cell_type": "markdown",
   "metadata": {},
   "source": [
    "## 2. Pull the develop branch of Cytoscape\n",
    "\n",
    "Note that to execute the checkout step here, you will need to have set up an SSH key on this machine that does not use password validation, or else parts of the build will be stall when they require input. "
   ]
  },
  {
   "cell_type": "code",
   "execution_count": 7,
   "metadata": {},
   "outputs": [
    {
     "name": "stdout",
     "output_type": "stream",
     "text": [
      "Target directory = \n",
      "Cytoscape project will be cloned to: /home/cybuilder/cytoscape-admin-scripts/release-build/cytoscape\n",
      "Cloning into 'cytoscape'...\n",
      "remote: Enumerating objects: 577, done.\u001b[K\n",
      "remote: Counting objects: 100% (48/48), done.\u001b[K\n",
      "remote: Compressing objects: 100% (24/24), done.\u001b[K\n",
      "remote: Total 577 (delta 26), reused 45 (delta 24), pack-reused 529\u001b[K\n",
      "Receiving objects: 100% (577/577), 768.77 KiB | 0 bytes/s, done.\n",
      "Resolving deltas: 100% (279/279), done.\n",
      "Cloning: parent (URI = git@github.com:cytoscape/cytoscape-parent.git)\n",
      "Cloning into 'parent'...\n",
      "remote: Enumerating objects: 1643, done.\u001b[K\n",
      "remote: Counting objects: 100% (3/3), done.\u001b[K\n",
      "remote: Compressing objects: 100% (3/3), done.\u001b[K\n",
      "remote: Total 1643 (delta 0), reused 1 (delta 0), pack-reused 1640\u001b[K\n",
      "Receiving objects: 100% (1643/1643), 258.03 KiB | 0 bytes/s, done.\n",
      "Resolving deltas: 100% (628/628), done.\n",
      "~/cytoscape-admin-scripts/release-build/cytoscape/cytoscape/parent ~/cytoscape-admin-scripts/release-build/cytoscape/cytoscape\n",
      "Already on 'develop'\n",
      "~/cytoscape-admin-scripts/release-build/cytoscape/cytoscape\n",
      "Cloning: api (URI = git@github.com:cytoscape/cytoscape-api.git)\n",
      "Cloning into 'api'...\n",
      "remote: Enumerating objects: 26347, done.\u001b[K\n",
      "remote: Counting objects: 100% (1292/1292), done.\u001b[K\n",
      "remote: Compressing objects: 100% (631/631), done.\u001b[K\n",
      "remote: Total 26347 (delta 374), reused 1104 (delta 212), pack-reused 25055\u001b[K\n",
      "Receiving objects: 100% (26347/26347), 6.17 MiB | 1.85 MiB/s, done.\n",
      "Resolving deltas: 100% (8530/8530), done.\n",
      "~/cytoscape-admin-scripts/release-build/cytoscape/cytoscape/api ~/cytoscape-admin-scripts/release-build/cytoscape/cytoscape\n",
      "Already on 'develop'\n",
      "~/cytoscape-admin-scripts/release-build/cytoscape/cytoscape\n",
      "Cloning: impl (URI = git@github.com:cytoscape/cytoscape-impl.git)\n",
      "Cloning into 'impl'...\n",
      "remote: Enumerating objects: 148273, done.\u001b[K\n",
      "remote: Counting objects: 100% (2984/2984), done.\u001b[K\n",
      "remote: Compressing objects: 100% (1422/1422), done.\u001b[K\n",
      "remote: Total 148273 (delta 952), reused 2539 (delta 591), pack-reused 145289\u001b[K\n",
      "Receiving objects: 100% (148273/148273), 192.15 MiB | 20.52 MiB/s, done.\n",
      "Resolving deltas: 100% (60983/60983), done.\n",
      "~/cytoscape-admin-scripts/release-build/cytoscape/cytoscape/impl ~/cytoscape-admin-scripts/release-build/cytoscape/cytoscape\n",
      "Already on 'develop'\n",
      "~/cytoscape-admin-scripts/release-build/cytoscape/cytoscape\n",
      "Cloning: support (URI = git@github.com:cytoscape/cytoscape-support.git)\n",
      "Cloning into 'support'...\n",
      "remote: Enumerating objects: 5656, done.\u001b[K\n",
      "remote: Total 5656 (delta 0), reused 0 (delta 0), pack-reused 5656\u001b[K\n",
      "Receiving objects: 100% (5656/5656), 587.28 KiB | 0 bytes/s, done.\n",
      "Resolving deltas: 100% (1919/1919), done.\n",
      "~/cytoscape-admin-scripts/release-build/cytoscape/cytoscape/support ~/cytoscape-admin-scripts/release-build/cytoscape/cytoscape\n",
      "Already on 'develop'\n",
      "~/cytoscape-admin-scripts/release-build/cytoscape/cytoscape\n",
      "Cloning: gui-distribution (URI = git@github.com:cytoscape/cytoscape-gui-distribution.git)\n",
      "Cloning into 'gui-distribution'...\n",
      "remote: Enumerating objects: 6890, done.\u001b[K\n",
      "remote: Counting objects: 100% (426/426), done.\u001b[K\n",
      "remote: Compressing objects: 100% (304/304), done.\u001b[K\n",
      "remote: Total 6890 (delta 179), reused 296 (delta 75), pack-reused 6464\u001b[K\n",
      "Receiving objects: 100% (6890/6890), 55.83 MiB | 18.82 MiB/s, done.\n",
      "Resolving deltas: 100% (2821/2821), done.\n",
      "~/cytoscape-admin-scripts/release-build/cytoscape/cytoscape/gui-distribution ~/cytoscape-admin-scripts/release-build/cytoscape/cytoscape\n",
      "Already on 'develop'\n",
      "~/cytoscape-admin-scripts/release-build/cytoscape/cytoscape\n",
      "Cloning: app-developer (URI = git@github.com:cytoscape/cytoscape-app-developer.git)\n",
      "Cloning into 'app-developer'...\n",
      "remote: Enumerating objects: 280, done.\u001b[K\n",
      "remote: Total 280 (delta 0), reused 0 (delta 0), pack-reused 280\u001b[K\n",
      "Receiving objects: 100% (280/280), 32.20 KiB | 0 bytes/s, done.\n",
      "Resolving deltas: 100% (134/134), done.\n",
      "~/cytoscape-admin-scripts/release-build/cytoscape/cytoscape/app-developer ~/cytoscape-admin-scripts/release-build/cytoscape/cytoscape\n",
      "Already on 'develop'\n",
      "~/cytoscape-admin-scripts/release-build/cytoscape/cytoscape\n",
      "\\n\\n - Finished: here is the current status:\\n\n",
      "------------------------------------------------------------------------\n",
      "- .:\n",
      "\n",
      "# On branch develop\n",
      "nothing to commit, working directory clean\n",
      "------------------------------------------------------------------------\n",
      "- parent:\n",
      "\n",
      "# On branch develop\n",
      "nothing to commit, working directory clean\n",
      "------------------------------------------------------------------------\n",
      "- api:\n",
      "\n",
      "# On branch develop\n",
      "nothing to commit, working directory clean\n",
      "------------------------------------------------------------------------\n",
      "- impl:\n",
      "\n",
      "# On branch develop\n",
      "nothing to commit, working directory clean\n",
      "------------------------------------------------------------------------\n",
      "- support:\n",
      "\n",
      "# On branch develop\n",
      "nothing to commit, working directory clean\n",
      "------------------------------------------------------------------------\n",
      "- gui-distribution:\n",
      "\n",
      "# On branch develop\n",
      "nothing to commit, working directory clean\n",
      "------------------------------------------------------------------------\n",
      "- app-developer:\n",
      "\n",
      "# On branch develop\n",
      "nothing to commit, working directory clean\n",
      "------------------------------------------------------------------------\n",
      "------------------------------------------------------------------------\n",
      "Executing command: git checkout develop\n",
      "--in .\n",
      "Already on 'develop'\n",
      "------------------------------------------------------------------------\n",
      "--in parent\n",
      "Already on 'develop'\n",
      "------------------------------------------------------------------------\n",
      "--in api\n",
      "Already on 'develop'\n",
      "------------------------------------------------------------------------\n",
      "--in impl\n",
      "Already on 'develop'\n",
      "------------------------------------------------------------------------\n",
      "--in support\n",
      "Already on 'develop'\n",
      "------------------------------------------------------------------------\n",
      "--in gui-distribution\n",
      "Already on 'develop'\n",
      "------------------------------------------------------------------------\n",
      "--in app-developer\n",
      "Already on 'develop'\n",
      "------------------------------------------------------------------------\n"
     ]
    }
   ],
   "source": [
    "cd(CYTOSCAPE_ROOT_DIR)\n",
    "![[ -d cytoscape ]] || ./cy.sh init\n",
    "cd(CYTOSCAPE_DIR)\n",
    "!./cy.sh run-all \"git checkout {STARTING_BRANCH}\""
   ]
  },
  {
   "cell_type": "markdown",
   "metadata": {},
   "source": [
    "## 2a. Reset"
   ]
  },
  {
   "cell_type": "code",
   "execution_count": 8,
   "metadata": {},
   "outputs": [
    {
     "name": "stdout",
     "output_type": "stream",
     "text": [
      "------------------------------------------------------------------------\n",
      "Executing command: git clean -f -d\n",
      "--in .\n",
      "------------------------------------------------------------------------\n",
      "--in parent\n",
      "------------------------------------------------------------------------\n",
      "--in api\n",
      "------------------------------------------------------------------------\n",
      "--in impl\n",
      "------------------------------------------------------------------------\n",
      "--in support\n",
      "------------------------------------------------------------------------\n",
      "--in gui-distribution\n",
      "------------------------------------------------------------------------\n",
      "--in app-developer\n",
      "------------------------------------------------------------------------\n",
      "------------------------------------------------------------------------\n",
      "Executing command: git reset --hard\n",
      "--in .\n",
      "HEAD is now at 5f266cb Update README.md\n",
      "------------------------------------------------------------------------\n",
      "--in parent\n",
      "HEAD is now at 8a407bd Update mockito version\n",
      "------------------------------------------------------------------------\n",
      "--in api\n",
      "HEAD is now at 6a8efbf CYTOSCAPE-12828 Add Function.getCategoryName()\n",
      "------------------------------------------------------------------------\n",
      "--in impl\n",
      "HEAD is now at 34c37ca Fix exception when exporting AutoAnnotate networks to PDF.\n",
      "------------------------------------------------------------------------\n",
      "--in support\n",
      "HEAD is now at edf9106 Maven archetype for cytoscape-starter-app\n",
      "------------------------------------------------------------------------\n",
      "--in gui-distribution\n",
      "HEAD is now at f0e8763 Update CyREST version\n",
      "------------------------------------------------------------------------\n",
      "--in app-developer\n",
      "HEAD is now at c386401 Update to 3.9.0-SNAPSHOT\n",
      "------------------------------------------------------------------------\n"
     ]
    }
   ],
   "source": [
    "cd(CYTOSCAPE_DIR)\n",
    "!./cy.sh run-all 'git clean -f -d'\n",
    "!./cy.sh run-all 'git reset --hard'"
   ]
  },
  {
   "cell_type": "markdown",
   "metadata": {},
   "source": [
    "## 2. Verify status"
   ]
  },
  {
   "cell_type": "code",
   "execution_count": 9,
   "metadata": {
    "scrolled": false
   },
   "outputs": [
    {
     "name": "stdout",
     "output_type": "stream",
     "text": [
      "------------------------------------------------------------------------\r\n",
      "Executing command: git status\r\n",
      "--in .\r\n",
      "# On branch develop\r\n",
      "nothing to commit, working directory clean\r\n",
      "------------------------------------------------------------------------\r\n",
      "--in parent\r\n",
      "# On branch develop\r\n",
      "nothing to commit, working directory clean\r\n",
      "------------------------------------------------------------------------\r\n",
      "--in api\r\n",
      "# On branch develop\r\n",
      "nothing to commit, working directory clean\r\n",
      "------------------------------------------------------------------------\r\n",
      "--in impl\r\n",
      "# On branch develop\r\n",
      "nothing to commit, working directory clean\r\n",
      "------------------------------------------------------------------------\r\n",
      "--in support\r\n",
      "# On branch develop\r\n",
      "nothing to commit, working directory clean\r\n",
      "------------------------------------------------------------------------\r\n",
      "--in gui-distribution\r\n",
      "# On branch develop\r\n",
      "nothing to commit, working directory clean\r\n",
      "------------------------------------------------------------------------\r\n",
      "--in app-developer\r\n",
      "# On branch develop\r\n",
      "nothing to commit, working directory clean\r\n",
      "------------------------------------------------------------------------\r\n"
     ]
    }
   ],
   "source": [
    "cd(CYTOSCAPE_DIR)\n",
    "!./cy.sh run-all 'git status'"
   ]
  },
  {
   "cell_type": "markdown",
   "metadata": {},
   "source": [
    "## 3. Build Cytoscape and ensure no errors\n",
    "\n",
    "This may take a while. Expect to build subrepos first before building from the root directory\n",
    "\n",
    "Currently, you should expect two or so non-fatal javadoc-bundle-options related errors."
   ]
  },
  {
   "cell_type": "code",
   "execution_count": 10,
   "metadata": {},
   "outputs": [
    {
     "name": "stdout",
     "output_type": "stream",
     "text": [
      "Showing ERROR lines in build...\n",
      "[ERROR] Error fetching link: /home/cybuilder/cytoscape-admin-scripts/release-build/cytoscape/cytoscape/api/app-api/target/javadoc-bundle-options. Ignored it.\r\n",
      "[ERROR] Error fetching link: /home/cybuilder/cytoscape-admin-scripts/release-build/cytoscape/cytoscape/api/swing-app-api/target/javadoc-bundle-options. Ignored it.\r\n"
     ]
    }
   ],
   "source": [
    "cd(CYTOSCAPE_DIR)\n",
    "with open('build_output.txt', 'w') as outf:\n",
    "    process = Popen('mvn clean install -Dmaven.test.skip=true'.split(' '), \n",
    "                stdout=outf,\n",
    "                cwd=CYTOSCAPE_DIR)\n",
    "    process.wait()\n",
    "\n",
    "print(\"Showing ERROR lines in build...\")\n",
    "!cat build_output.txt | grep ERROR"
   ]
  },
  {
   "cell_type": "markdown",
   "metadata": {},
   "source": [
    "## 4. Build Cytoscape installers\n",
    "\n",
    "This requires Install4J to be configured on your machine and for the Install4j project file to point to the correct Mac signing file. The keystore password is set below (blank in this config), to be interpreted by the Install4j Maven plugin."
   ]
  },
  {
   "cell_type": "code",
   "execution_count": 11,
   "metadata": {
    "scrolled": true
   },
   "outputs": [
    {
     "name": "stdout",
     "output_type": "stream",
     "text": [
      "env: MAC_KEYSTORE_PASSWORD=\n",
      "[\u001b[1;34mINFO\u001b[m] Scanning for projects...\n",
      "[\u001b[1;33mWARNING\u001b[m] \n",
      "[\u001b[1;33mWARNING\u001b[m] Some problems were encountered while building the effective model for org.cytoscape.distribution:packaging:jar:3.9.0-SNAPSHOT\n",
      "[\u001b[1;33mWARNING\u001b[m] 'build.plugins.plugin.version' for org.sonatype.install4j:install4j-maven-plugin is missing. @ org.cytoscape.distribution:packaging:[unknown-version], /home/cybuilder/cytoscape-admin-scripts/release-build/cytoscape/cytoscape/gui-distribution/packaging/pom.xml, line 104, column 15\n",
      "[\u001b[1;33mWARNING\u001b[m] \n",
      "[\u001b[1;33mWARNING\u001b[m] It is highly recommended to fix these problems because they threaten the stability of your build.\n",
      "[\u001b[1;33mWARNING\u001b[m] \n",
      "[\u001b[1;33mWARNING\u001b[m] For this reason, future Maven versions might no longer support building such malformed projects.\n",
      "[\u001b[1;33mWARNING\u001b[m] \n",
      "[\u001b[1;34mINFO\u001b[m] \n",
      "[\u001b[1;34mINFO\u001b[m] \u001b[1m----------------< \u001b[0;36morg.cytoscape.distribution:packaging\u001b[0;1m >----------------\u001b[m\n",
      "[\u001b[1;34mINFO\u001b[m] \u001b[1mBuilding Cytoscape Release Packaging 3.9.0-SNAPSHOT\u001b[m\n",
      "[\u001b[1;34mINFO\u001b[m] \u001b[1m--------------------------------[ jar ]---------------------------------\u001b[m\n",
      "Downloading from cytoscape_thirdparty: http://nrnb-nexus.ucsd.edu/repository/cytoscape_thirdparty/org/sonatype/install4j/install4j-maven-plugin/maven-metadata.xml\n",
      "Downloading from central: https://repo.maven.apache.org/maven2/org/sonatype/install4j/install4j-maven-plugin/maven-metadata.xml\n",
      "Downloading from cytoscape_releases: http://nrnb-nexus.ucsd.edu/repository/cytoscape_releases/org/sonatype/install4j/install4j-maven-plugin/maven-metadata.xml\n",
      "Downloading from cytoscape_snapshots: http://nrnb-nexus.ucsd.edu/repository/cytoscape_snapshots/org/sonatype/install4j/install4j-maven-plugin/maven-metadata.xml\n",
      "Downloaded from central: https://repo.maven.apache.org/maven2/org/sonatype/install4j/install4j-maven-plugin/maven-metadata.xml (690 B at 2.4 kB/s)\n",
      "Downloading from spring-osgi-snapshots: http://code.cytoscape.org/nexus/content/repositories/spring-osgi-external/org/cytoscape/distribution/cytoscape/3.9.0-SNAPSHOT/maven-metadata.xml\n",
      "Downloading from zodiac-repository: http://code.cytoscape.org/nexus/content/repositories/zodiac-release/org/cytoscape/distribution/cytoscape/3.9.0-SNAPSHOT/maven-metadata.xml\n",
      "Downloading from cytoscape_snapshots: http://nrnb-nexus.ucsd.edu/repository/cytoscape_snapshots/org/cytoscape/distribution/cytoscape/3.9.0-SNAPSHOT/maven-metadata.xml\n",
      "Downloading from spring-osgi: http://code.cytoscape.org/nexus/content/repositories/spring-osgi/org/cytoscape/distribution/cytoscape/3.9.0-SNAPSHOT/maven-metadata.xml\n",
      "Downloaded from cytoscape_snapshots: http://nrnb-nexus.ucsd.edu/repository/cytoscape_snapshots/org/cytoscape/distribution/cytoscape/3.9.0-SNAPSHOT/maven-metadata.xml (961 B at 32 kB/s)\n",
      "Downloading from zodiac-milestone-repository: http://code.cytoscape.org/nexus/content/repositories/zodiac-milestone/org/cytoscape/distribution/cytoscape/3.9.0-SNAPSHOT/maven-metadata.xml\n",
      "Downloading from spring-osgi: http://code.cytoscape.org/nexus/content/repositories/spring-osgi/org/cytoscape/distribution/parent/3.9.0-SNAPSHOT/maven-metadata.xml\n",
      "Downloading from cytoscape_snapshots: http://nrnb-nexus.ucsd.edu/repository/cytoscape_snapshots/org/cytoscape/distribution/parent/3.9.0-SNAPSHOT/maven-metadata.xml\n",
      "Downloading from spring-osgi-snapshots: http://code.cytoscape.org/nexus/content/repositories/spring-osgi-external/org/cytoscape/distribution/parent/3.9.0-SNAPSHOT/maven-metadata.xml\n",
      "Downloading from zodiac-repository: http://code.cytoscape.org/nexus/content/repositories/zodiac-release/org/cytoscape/distribution/parent/3.9.0-SNAPSHOT/maven-metadata.xml\n",
      "Downloaded from cytoscape_snapshots: http://nrnb-nexus.ucsd.edu/repository/cytoscape_snapshots/org/cytoscape/distribution/parent/3.9.0-SNAPSHOT/maven-metadata.xml (613 B at 68 kB/s)\n",
      "Downloading from zodiac-milestone-repository: http://code.cytoscape.org/nexus/content/repositories/zodiac-milestone/org/cytoscape/distribution/parent/3.9.0-SNAPSHOT/maven-metadata.xml\n",
      "Downloading from cytoscape_snapshots: http://nrnb-nexus.ucsd.edu/repository/cytoscape_snapshots/org/cytoscape/parent/3.9.0-SNAPSHOT/maven-metadata.xml\n",
      "Downloading from spring-osgi-snapshots: http://code.cytoscape.org/nexus/content/repositories/spring-osgi-external/org/cytoscape/parent/3.9.0-SNAPSHOT/maven-metadata.xml\n",
      "Downloading from zodiac-repository: http://code.cytoscape.org/nexus/content/repositories/zodiac-release/org/cytoscape/parent/3.9.0-SNAPSHOT/maven-metadata.xml\n",
      "Downloading from spring-osgi: http://code.cytoscape.org/nexus/content/repositories/spring-osgi/org/cytoscape/parent/3.9.0-SNAPSHOT/maven-metadata.xml\n",
      "Downloaded from cytoscape_snapshots: http://nrnb-nexus.ucsd.edu/repository/cytoscape_snapshots/org/cytoscape/parent/3.9.0-SNAPSHOT/maven-metadata.xml (596 B at 66 kB/s)\n",
      "Downloading from zodiac-milestone-repository: http://code.cytoscape.org/nexus/content/repositories/zodiac-milestone/org/cytoscape/parent/3.9.0-SNAPSHOT/maven-metadata.xml\n",
      "[\u001b[1;34mINFO\u001b[m] \n",
      "[\u001b[1;34mINFO\u001b[m] \u001b[1m--- \u001b[0;32mmaven-clean-plugin:2.5:clean\u001b[m \u001b[1m(default-clean)\u001b[m @ \u001b[36mpackaging\u001b[0;1m ---\u001b[m\n",
      "[\u001b[1;34mINFO\u001b[m] \n",
      "[\u001b[1;34mINFO\u001b[m] \u001b[1m--- \u001b[0;32mjacoco-maven-plugin:0.8.4:prepare-agent\u001b[m \u001b[1m(default)\u001b[m @ \u001b[36mpackaging\u001b[0;1m ---\u001b[m\n",
      "[\u001b[1;34mINFO\u001b[m] argLine set to -javaagent:/home/cybuilder/.m2/repository/org/jacoco/org.jacoco.agent/0.8.4/org.jacoco.agent-0.8.4-runtime.jar=destfile=/home/cybuilder/cytoscape-admin-scripts/release-build/cytoscape/cytoscape/gui-distribution/packaging/target/jacoco.exec -Djdk.net.URLClassPath.disableClassPathURLCheck=true\n",
      "[\u001b[1;34mINFO\u001b[m] \n",
      "[\u001b[1;34mINFO\u001b[m] \u001b[1m--- \u001b[0;32mmaven-dependency-plugin:3.1.1:unpack-dependencies\u001b[m \u001b[1m(unpack-distribution)\u001b[m @ \u001b[36mpackaging\u001b[0;1m ---\u001b[m\n",
      "[\u001b[1;34mINFO\u001b[m] Unpacking /home/cybuilder/.m2/repository/org/cytoscape/distribution/cytoscape/3.9.0-SNAPSHOT/cytoscape-3.9.0-SNAPSHOT.tar.gz to /home/cybuilder/cytoscape-admin-scripts/release-build/cytoscape/cytoscape/gui-distribution/packaging/target with includes \"\" and excludes \"\"\n",
      "[\u001b[1;34mINFO\u001b[m] Expanding: /home/cybuilder/.m2/repository/org/cytoscape/distribution/cytoscape/3.9.0-SNAPSHOT/cytoscape-3.9.0-SNAPSHOT.tar.gz into /home/cybuilder/cytoscape-admin-scripts/release-build/cytoscape/cytoscape/gui-distribution/packaging/target\n",
      "[\u001b[1;34mINFO\u001b[m] Unpacking /home/cybuilder/.m2/repository/org/cytoscape/distribution/cytoscape/3.9.0-SNAPSHOT/cytoscape-3.9.0-SNAPSHOT.zip to /home/cybuilder/cytoscape-admin-scripts/release-build/cytoscape/cytoscape/gui-distribution/packaging/target with includes \"\" and excludes \"\"\n",
      "[\u001b[1;34mINFO\u001b[m] \n",
      "[\u001b[1;34mINFO\u001b[m] \u001b[1m--- \u001b[0;32mmaven-dependency-plugin:3.1.1:unpack-dependencies\u001b[m \u001b[1m(unpack-javadoc)\u001b[m @ \u001b[36mpackaging\u001b[0;1m ---\u001b[m\n",
      "[\u001b[1;34mINFO\u001b[m] \n",
      "[\u001b[1;34mINFO\u001b[m] \u001b[1m--- \u001b[0;32mmaven-dependency-plugin:3.1.1:copy-dependencies\u001b[m \u001b[1m(copy-distribution)\u001b[m @ \u001b[36mpackaging\u001b[0;1m ---\u001b[m\n",
      "[\u001b[1;34mINFO\u001b[m] Copying cytoscape-3.9.0-SNAPSHOT.tar.gz to /home/cybuilder/cytoscape-admin-scripts/release-build/cytoscape/cytoscape/gui-distribution/packaging/target/install4j/cytoscape-3.9.0-SNAPSHOT.tar.gz\n",
      "[\u001b[1;34mINFO\u001b[m] Copying cytoscape-3.9.0-SNAPSHOT.zip to /home/cybuilder/cytoscape-admin-scripts/release-build/cytoscape/cytoscape/gui-distribution/packaging/target/install4j/cytoscape-3.9.0-SNAPSHOT.zip\n",
      "[\u001b[1;34mINFO\u001b[m] \n",
      "[\u001b[1;34mINFO\u001b[m] \u001b[1m--- \u001b[0;32mmaven-resources-plugin:2.6:resources\u001b[m \u001b[1m(default-resources)\u001b[m @ \u001b[36mpackaging\u001b[0;1m ---\u001b[m\n",
      "[\u001b[1;34mINFO\u001b[m] Using 'UTF-8' encoding to copy filtered resources.\n",
      "[\u001b[1;34mINFO\u001b[m] Copying 2 resources\n",
      "[\u001b[1;34mINFO\u001b[m] Copying 7 resources\n",
      "[\u001b[1;34mINFO\u001b[m] \n",
      "[\u001b[1;34mINFO\u001b[m] \u001b[1m--- \u001b[0;32mmaven-compiler-plugin:3.8.0:compile\u001b[m \u001b[1m(default-compile)\u001b[m @ \u001b[36mpackaging\u001b[0;1m ---\u001b[m\n",
      "[\u001b[1;34mINFO\u001b[m] No sources to compile\n",
      "[\u001b[1;34mINFO\u001b[m] \n",
      "[\u001b[1;34mINFO\u001b[m] \u001b[1m--- \u001b[0;32mmaven-resources-plugin:2.6:testResources\u001b[m \u001b[1m(default-testResources)\u001b[m @ \u001b[36mpackaging\u001b[0;1m ---\u001b[m\n",
      "[\u001b[1;34mINFO\u001b[m] Using 'UTF-8' encoding to copy filtered resources.\n",
      "[\u001b[1;34mINFO\u001b[m] skip non existing resourceDirectory /home/cybuilder/cytoscape-admin-scripts/release-build/cytoscape/cytoscape/gui-distribution/packaging/src/test/resources\n",
      "[\u001b[1;34mINFO\u001b[m] \n",
      "[\u001b[1;34mINFO\u001b[m] \u001b[1m--- \u001b[0;32mmaven-compiler-plugin:3.8.0:testCompile\u001b[m \u001b[1m(default-testCompile)\u001b[m @ \u001b[36mpackaging\u001b[0;1m ---\u001b[m\n",
      "[\u001b[1;34mINFO\u001b[m] No sources to compile\n",
      "[\u001b[1;34mINFO\u001b[m] \n",
      "[\u001b[1;34mINFO\u001b[m] \u001b[1m--- \u001b[0;32mmaven-surefire-plugin:3.0.0-M3:test\u001b[m \u001b[1m(default-test)\u001b[m @ \u001b[36mpackaging\u001b[0;1m ---\u001b[m\n"
     ]
    },
    {
     "name": "stdout",
     "output_type": "stream",
     "text": [
      "[\u001b[1;34mINFO\u001b[m] No tests to run.\n",
      "[\u001b[1;34mINFO\u001b[m] \n",
      "[\u001b[1;34mINFO\u001b[m] \u001b[1m--- \u001b[0;32mjacoco-maven-plugin:0.8.4:report\u001b[m \u001b[1m(report)\u001b[m @ \u001b[36mpackaging\u001b[0;1m ---\u001b[m\n",
      "[\u001b[1;34mINFO\u001b[m] Skipping JaCoCo execution due to missing execution data file.\n",
      "[\u001b[1;34mINFO\u001b[m] \n",
      "[\u001b[1;34mINFO\u001b[m] \u001b[1m--- \u001b[0;32mmaven-jar-plugin:2.4:jar\u001b[m \u001b[1m(default-jar)\u001b[m @ \u001b[36mpackaging\u001b[0;1m ---\u001b[m\n",
      "[\u001b[1;34mINFO\u001b[m] Building jar: /home/cybuilder/cytoscape-admin-scripts/release-build/cytoscape/cytoscape/gui-distribution/packaging/target/packaging-3.9.0-SNAPSHOT.jar\n",
      "[\u001b[1;34mINFO\u001b[m] \n",
      "[\u001b[1;34mINFO\u001b[m] \u001b[1m>>> \u001b[0;32mmaven-source-plugin:3.0.1:jar\u001b[m \u001b[1m(attach-sources)\u001b[0;1m > \u001b[0;1mgenerate-sources\u001b[m @ \u001b[36mpackaging\u001b[0;1m >>>\u001b[m\n",
      "[\u001b[1;34mINFO\u001b[m] \n",
      "[\u001b[1;34mINFO\u001b[m] \u001b[1m--- \u001b[0;32mjacoco-maven-plugin:0.8.4:prepare-agent\u001b[m \u001b[1m(default)\u001b[m @ \u001b[36mpackaging\u001b[0;1m ---\u001b[m\n",
      "[\u001b[1;34mINFO\u001b[m] argLine set to -javaagent:/home/cybuilder/.m2/repository/org/jacoco/org.jacoco.agent/0.8.4/org.jacoco.agent-0.8.4-runtime.jar=destfile=/home/cybuilder/cytoscape-admin-scripts/release-build/cytoscape/cytoscape/gui-distribution/packaging/target/jacoco.exec -Djdk.net.URLClassPath.disableClassPathURLCheck=true\n",
      "[\u001b[1;34mINFO\u001b[m] \n",
      "[\u001b[1;34mINFO\u001b[m] \u001b[1m<<< \u001b[0;32mmaven-source-plugin:3.0.1:jar\u001b[m \u001b[1m(attach-sources)\u001b[0;1m < \u001b[0;1mgenerate-sources\u001b[m @ \u001b[36mpackaging\u001b[0;1m <<<\u001b[m\n",
      "[\u001b[1;34mINFO\u001b[m] \n",
      "[\u001b[1;34mINFO\u001b[m] \n",
      "[\u001b[1;34mINFO\u001b[m] \u001b[1m--- \u001b[0;32mmaven-source-plugin:3.0.1:jar\u001b[m \u001b[1m(attach-sources)\u001b[m @ \u001b[36mpackaging\u001b[0;1m ---\u001b[m\n",
      "[\u001b[1;34mINFO\u001b[m] Building jar: /home/cybuilder/cytoscape-admin-scripts/release-build/cytoscape/cytoscape/gui-distribution/packaging/target/packaging-3.9.0-SNAPSHOT-sources.jar\n",
      "[\u001b[1;34mINFO\u001b[m] \n",
      "[\u001b[1;34mINFO\u001b[m] \u001b[1m--- \u001b[0;32mmaven-dependency-plugin:3.1.1:copy-dependencies\u001b[m \u001b[1m(copy-dependencies)\u001b[m @ \u001b[36mpackaging\u001b[0;1m ---\u001b[m\n",
      "[\u001b[1;34mINFO\u001b[m] Copying cytoscape-3.9.0-SNAPSHOT.tar.gz to /home/cybuilder/cytoscape-admin-scripts/release-build/cytoscape/cytoscape/gui-distribution/packaging/target/bundles/cytoscape-3.9.0-SNAPSHOT.tar.gz\n",
      "[\u001b[1;34mINFO\u001b[m] Copying cytoscape-3.9.0-SNAPSHOT.zip to /home/cybuilder/cytoscape-admin-scripts/release-build/cytoscape/cytoscape/gui-distribution/packaging/target/bundles/cytoscape-3.9.0-SNAPSHOT.zip\n",
      "[\u001b[1;34mINFO\u001b[m] \n",
      "[\u001b[1;34mINFO\u001b[m] \u001b[1m--- \u001b[0;32minstall4j-maven-plugin:1.1.2:compile\u001b[m \u001b[1m(compile-installers)\u001b[m @ \u001b[36mpackaging\u001b[0;1m ---\u001b[m\n",
      "[\u001b[1;34mINFO\u001b[m] chmod: changing permissions of ‘/opt/install4j8/bin/install4jc’: Operation not permitted\n",
      "[\u001b[1;31mERROR\u001b[m] Result: 1\n",
      "[\u001b[1;34mINFO\u001b[m] install4j version 8.0.2 (build 8057), built on 2019-09-25\n",
      "[\u001b[1;34mINFO\u001b[m] Using Java 11.0.4 from /usr/lib/jvm/java-11-openjdk-11.0.4.11-1.el7_7.x86_64\n",
      "[\u001b[1;34mINFO\u001b[m] Registered to Cytoscape Builder, Cytoscape Consortium\n",
      "[\u001b[1;34mINFO\u001b[m] \n",
      "[\u001b[1;34mINFO\u001b[m] Loading config file /home/cybuilder/cytoscape-admin-scripts/release-build/cytoscape/cytoscape/gui-distribution/packaging/target/classes/Cytoscape.install4j\n",
      "[\u001b[1;34mINFO\u001b[m] Creating media file 'Windows 64 bit':\n",
      "[\u001b[1;34mINFO\u001b[m] Created media file output directory /home/cybuilder/cytoscape-admin-scripts/release-build/cytoscape/cytoscape/gui-distribution/packaging/target/media\n",
      "[\u001b[1;34mINFO\u001b[m] \n",
      "[\u001b[1;34mINFO\u001b[m]   Collecting files:\n",
      "[\u001b[1;34mINFO\u001b[m]   Compiling launchers:\n",
      "[\u001b[1;34mINFO\u001b[m]     Compiling launcher 'Cytoscape':\n",
      "[\u001b[1;34mINFO\u001b[m]   Creating media file: \n",
      "[\u001b[1;34mINFO\u001b[m]     Zipping custom code & resources JAR file\n",
      "[\u001b[1;34mINFO\u001b[m]     Identifying components\n",
      "[\u001b[1;34mINFO\u001b[m]     Shrinking runtime\n",
      "[\u001b[1;34mINFO\u001b[m]   \n",
      "[\u001b[1;34mINFO\u001b[m] Creating media file 'Windows 32 bit':\n",
      "[\u001b[1;34mINFO\u001b[m]   Collecting files:\n",
      "[\u001b[1;34mINFO\u001b[m]   Compiling launchers:\n",
      "[\u001b[1;34mINFO\u001b[m]     Compiling launcher 'Cytoscape':\n",
      "[\u001b[1;34mINFO\u001b[m]   Creating media file: \n",
      "[\u001b[1;34mINFO\u001b[m]     Zipping custom code & resources JAR file\n",
      "[\u001b[1;34mINFO\u001b[m]     Identifying components\n",
      "[\u001b[1;34mINFO\u001b[m]     Shrinking runtime\n",
      "[\u001b[1;34mINFO\u001b[m]   \n",
      "[\u001b[1;34mINFO\u001b[m] Creating media file 'Mac OS X':\n",
      "[\u001b[1;34mINFO\u001b[m]   Collecting files:\n",
      "[\u001b[1;34mINFO\u001b[m]   Compiling launchers:\n",
      "[\u001b[1;34mINFO\u001b[m]     Compiling launcher 'Cytoscape':\n",
      "[\u001b[1;34mINFO\u001b[m]       Signing launcher\n",
      "[\u001b[1;34mINFO\u001b[m]   Creating media file: \n",
      "[\u001b[1;34mINFO\u001b[m]     Signing launcher\n",
      "[\u001b[1;34mINFO\u001b[m]     Zipping custom code & resources JAR file\n",
      "[\u001b[1;34mINFO\u001b[m]     Identifying components\n",
      "[\u001b[1;34mINFO\u001b[m]     Shrinking runtime\n",
      "[\u001b[1;34mINFO\u001b[m]   \n",
      "[\u001b[1;34mINFO\u001b[m] Creating media file 'Unix':\n",
      "[\u001b[1;34mINFO\u001b[m]   Collecting files:\n",
      "[\u001b[1;34mINFO\u001b[m]   Compiling launchers:\n",
      "[\u001b[1;34mINFO\u001b[m]     Compiling launcher 'Cytoscape':\n",
      "[\u001b[1;34mINFO\u001b[m]       Generating launcher script file\n",
      "[\u001b[1;34mINFO\u001b[m]   Creating media file: \n",
      "[\u001b[1;34mINFO\u001b[m]     Generating launcher script file\n",
      "[\u001b[1;34mINFO\u001b[m]     Zipping custom code & resources JAR file\n",
      "[\u001b[1;34mINFO\u001b[m]     Identifying components\n",
      "[\u001b[1;34mINFO\u001b[m]     Shrinking runtime\n",
      "[\u001b[1;34mINFO\u001b[m]   \n",
      "[\u001b[1;34mINFO\u001b[m] Compressing 4 media files with 4 threads:\n",
      "[\u001b[1;34mINFO\u001b[m] \n",
      "[\u001b[1;34mINFO\u001b[m] Compressed media file 'Unix':\n",
      "[\u001b[1;34mINFO\u001b[m]   Compressing files\n",
      "[\u001b[1;34mINFO\u001b[m]   Moving media files to media directory /home/cybuilder/cytoscape-admin-scripts/release-build/cytoscape/cytoscape/gui-distribution/packaging/target/media\n",
      "[\u001b[1;34mINFO\u001b[m]   The name of the media file is Cytoscape_3_9_0-SNAPSHOT_unix.sh.\n",
      "[\u001b[1;34mINFO\u001b[m]   The size of the media file is 277.3 MB\n",
      "[\u001b[1;34mINFO\u001b[m] \n",
      "[\u001b[1;34mINFO\u001b[m] Compressed media file 'Windows 32 bit':\n",
      "[\u001b[1;34mINFO\u001b[m]   Compressing files\n",
      "[\u001b[1;34mINFO\u001b[m]   Moving media files to media directory /home/cybuilder/cytoscape-admin-scripts/release-build/cytoscape/cytoscape/gui-distribution/packaging/target/media\n",
      "[\u001b[1;34mINFO\u001b[m]   The name of the media file is Cytoscape_3_9_0-SNAPSHOT_windows_32bit.exe.\n",
      "[\u001b[1;34mINFO\u001b[m]   The size of the media file is 278.9 MB\n",
      "[\u001b[1;34mINFO\u001b[m] \n",
      "[\u001b[1;34mINFO\u001b[m] Compressed media file 'Windows 64 bit':\n",
      "[\u001b[1;34mINFO\u001b[m]   Compressing files\n",
      "[\u001b[1;34mINFO\u001b[m]   Moving media files to media directory /home/cybuilder/cytoscape-admin-scripts/release-build/cytoscape/cytoscape/gui-distribution/packaging/target/media\n",
      "[\u001b[1;34mINFO\u001b[m]   The name of the media file is Cytoscape_3_9_0-SNAPSHOT_windows_64bit.exe.\n",
      "[\u001b[1;34mINFO\u001b[m]   The size of the media file is 279.0 MB\n",
      "[\u001b[1;34mINFO\u001b[m]   \n",
      "[\u001b[1;34mINFO\u001b[m]   Important: Please make sure that the file\n",
      "[\u001b[1;34mINFO\u001b[m]       /home/cybuilder/.install4j8/jres/windows-amd64-11.0.6.tar.gz\n",
      "[\u001b[1;34mINFO\u001b[m]   can be downloaded from\n",
      "[\u001b[1;34mINFO\u001b[m]       https://cytoscape-builds.ucsd.edu/jres/windows-amd64-11.0.6.tar.gz\n",
      "[\u001b[1;34mINFO\u001b[m] \n",
      "[\u001b[1;34mINFO\u001b[m] Compressed media file 'Mac OS X':\n",
      "[\u001b[1;34mINFO\u001b[m]   Compressing files\n",
      "[\u001b[1;34mINFO\u001b[m]   Searching .i4j_external_228/framework/lib/openjfx/linux/javafx-base-15.0.1-linux.jar for binaries\n",
      "[\u001b[1;34mINFO\u001b[m]   Searching .i4j_external_228/framework/lib/openjfx/linux/javafx-controls-15.0.1-linux.jar for binaries\n",
      "[\u001b[1;34mINFO\u001b[m]   Searching .i4j_external_228/framework/lib/openjfx/linux/javafx-swing-15.0.1-linux.jar for binaries\n",
      "[\u001b[1;34mINFO\u001b[m]   Searching .i4j_external_228/framework/lib/openjfx/linux/javafx-graphics-15.0.1-linux.jar for binaries\n",
      "[\u001b[1;34mINFO\u001b[m]   Searching .i4j_external_228/framework/lib/openjfx/linux/javafx-media-15.0.1-linux.jar for binaries\n",
      "[\u001b[1;34mINFO\u001b[m]   Searching .i4j_external_228/framework/lib/openjfx/linux/javafx-fxml-15.0.1-linux.jar for binaries\n",
      "[\u001b[1;34mINFO\u001b[m]   Searching .i4j_external_228/framework/lib/openjfx/linux/javafx-web-15.0.1-linux.jar for binaries\n",
      "[\u001b[1;34mINFO\u001b[m]   Searching .i4j_external_228/framework/lib/openjfx/win/javafx-web-15.0.1-win.jar for binaries\n",
      "[\u001b[1;34mINFO\u001b[m]   Searching .i4j_external_228/framework/lib/openjfx/win/javafx-swing-15.0.1-win.jar for binaries\n",
      "[\u001b[1;34mINFO\u001b[m]   Searching .i4j_external_228/framework/lib/openjfx/win/javafx-graphics-15.0.1-win.jar for binaries\n",
      "[\u001b[1;34mINFO\u001b[m]   Searching .i4j_external_228/framework/lib/openjfx/win/javafx-media-15.0.1-win.jar for binaries\n",
      "[\u001b[1;34mINFO\u001b[m]   Searching .i4j_external_228/framework/lib/openjfx/win/javafx-base-15.0.1-win.jar for binaries\n",
      "[\u001b[1;34mINFO\u001b[m]   Searching .i4j_external_228/framework/lib/openjfx/win/javafx-controls-15.0.1-win.jar for binaries\n",
      "[\u001b[1;34mINFO\u001b[m]   Searching .i4j_external_228/framework/lib/openjfx/win/javafx-fxml-15.0.1-win.jar for binaries\n",
      "[\u001b[1;34mINFO\u001b[m]   Searching .i4j_external_228/framework/lib/openjfx/mac/javafx-media-15.0.1-mac.jar for binaries\n",
      "[\u001b[1;34mINFO\u001b[m]   Signing /libjfxmedia.dylib\n",
      "[\u001b[1;34mINFO\u001b[m]   Signing /libgstreamer-lite.dylib\n",
      "[\u001b[1;34mINFO\u001b[m]   Signing /libfxplugins.dylib\n",
      "[\u001b[1;34mINFO\u001b[m]   Signing /libglib-lite.dylib\n",
      "[\u001b[1;34mINFO\u001b[m]   Signing /libjfxmedia_avf.dylib\n",
      "[\u001b[1;34mINFO\u001b[m]   Searching .i4j_external_228/framework/lib/openjfx/mac/javafx-base-15.0.1-mac.jar for binaries\n",
      "[\u001b[1;34mINFO\u001b[m]   Searching .i4j_external_228/framework/lib/openjfx/mac/javafx-graphics-15.0.1-mac.jar for binaries\n",
      "[\u001b[1;34mINFO\u001b[m]   Signing /libprism_sw.dylib\n",
      "[\u001b[1;34mINFO\u001b[m]   Signing /libdecora_sse.dylib\n",
      "[\u001b[1;34mINFO\u001b[m]   Signing /libprism_es2.dylib\n",
      "[\u001b[1;34mINFO\u001b[m]   Signing /libprism_common.dylib\n",
      "[\u001b[1;34mINFO\u001b[m]   Signing /libjavafx_font.dylib\n",
      "[\u001b[1;34mINFO\u001b[m]   Signing /libglass.dylib\n",
      "[\u001b[1;34mINFO\u001b[m]   Signing /libjavafx_iio.dylib\n",
      "[\u001b[1;34mINFO\u001b[m]   Searching .i4j_external_228/framework/lib/openjfx/mac/javafx-controls-15.0.1-mac.jar for binaries\n",
      "[\u001b[1;34mINFO\u001b[m]   Searching .i4j_external_228/framework/lib/openjfx/mac/javafx-web-15.0.1-mac.jar for binaries\n",
      "[\u001b[1;34mINFO\u001b[m]   Signing /libjfxwebkit.dylib\n",
      "[\u001b[1;34mINFO\u001b[m]   Searching .i4j_external_228/framework/lib/openjfx/mac/javafx-fxml-15.0.1-mac.jar for binaries\n",
      "[\u001b[1;34mINFO\u001b[m]   Searching .i4j_external_228/framework/lib/openjfx/mac/javafx-swing-15.0.1-mac.jar for binaries\n",
      "[\u001b[1;34mINFO\u001b[m]   Generating VM options file vmoptions.txt.\n",
      "[\u001b[1;34mINFO\u001b[m]   Signing libi4jinst2.dylib\n",
      "[\u001b[1;34mINFO\u001b[m]   Signing install4j\n",
      "[\u001b[1;34mINFO\u001b[m]   Signing libi4jinst.dylib\n",
      "[\u001b[1;34mINFO\u001b[m]   Signing installer\n",
      "[\u001b[1;34mINFO\u001b[m]   Signing DMG\n",
      "[\u001b[1;34mINFO\u001b[m]   Moving media files to media directory /home/cybuilder/cytoscape-admin-scripts/release-build/cytoscape/cytoscape/gui-distribution/packaging/target/media\n",
      "[\u001b[1;34mINFO\u001b[m]   The name of the media file is Cytoscape_3_9_0-SNAPSHOT_macos.dmg.\n",
      "[\u001b[1;34mINFO\u001b[m]   The size of the media file is 279.3 MB\n",
      "[\u001b[1;34mINFO\u001b[m]   \n",
      "[\u001b[1;34mINFO\u001b[m]   Important: Please make sure that the file\n",
      "[\u001b[1;34mINFO\u001b[m]       /home/cybuilder/.install4j8/jres/macosx-amd64-11.0.6.tar.gz\n",
      "[\u001b[1;34mINFO\u001b[m]   can be downloaded from\n",
      "[\u001b[1;34mINFO\u001b[m]       https://cytoscape-builds.ucsd.edu/jres/macosx-amd64-11.0.6.tar.gz\n",
      "[\u001b[1;34mINFO\u001b[m] \n",
      "[\u001b[1;34mINFO\u001b[m] Important: macOS media sets have to be notarized before distribution.\n",
      "[\u001b[1;34mINFO\u001b[m]   More information in the code signing help.\n",
      "[\u001b[1;34mINFO\u001b[m] \n",
      "[\u001b[1;34mINFO\u001b[m] Writing md5sums.\n",
      "[\u001b[1;34mINFO\u001b[m] Writing sha256sums.\n",
      "[\u001b[1;34mINFO\u001b[m] Writing updates.xml.\n",
      "[\u001b[1;34mINFO\u001b[m] Build completed in 60.2 seconds.\n"
     ]
    },
    {
     "name": "stdout",
     "output_type": "stream",
     "text": [
      "[\u001b[1;34mINFO\u001b[m] \n",
      "[\u001b[1;34mINFO\u001b[m] \u001b[1m--- \u001b[0;32mmaven-install-plugin:2.4:install\u001b[m \u001b[1m(default-install)\u001b[m @ \u001b[36mpackaging\u001b[0;1m ---\u001b[m\n",
      "[\u001b[1;34mINFO\u001b[m] Installing /home/cybuilder/cytoscape-admin-scripts/release-build/cytoscape/cytoscape/gui-distribution/packaging/target/packaging-3.9.0-SNAPSHOT.jar to /home/cybuilder/.m2/repository/org/cytoscape/distribution/packaging/3.9.0-SNAPSHOT/packaging-3.9.0-SNAPSHOT.jar\n",
      "[\u001b[1;34mINFO\u001b[m] Installing /home/cybuilder/cytoscape-admin-scripts/release-build/cytoscape/cytoscape/gui-distribution/packaging/pom.xml to /home/cybuilder/.m2/repository/org/cytoscape/distribution/packaging/3.9.0-SNAPSHOT/packaging-3.9.0-SNAPSHOT.pom\n",
      "[\u001b[1;34mINFO\u001b[m] Installing /home/cybuilder/cytoscape-admin-scripts/release-build/cytoscape/cytoscape/gui-distribution/packaging/target/packaging-3.9.0-SNAPSHOT-sources.jar to /home/cybuilder/.m2/repository/org/cytoscape/distribution/packaging/3.9.0-SNAPSHOT/packaging-3.9.0-SNAPSHOT-sources.jar\n",
      "[\u001b[1;34mINFO\u001b[m] \u001b[1m------------------------------------------------------------------------\u001b[m\n",
      "[\u001b[1;34mINFO\u001b[m] \u001b[1;32mBUILD SUCCESS\u001b[m\n",
      "[\u001b[1;34mINFO\u001b[m] \u001b[1m------------------------------------------------------------------------\u001b[m\n",
      "[\u001b[1;34mINFO\u001b[m] Total time:  01:10 min\n",
      "[\u001b[1;34mINFO\u001b[m] Finished at: 2021-04-30T06:55:05-07:00\n",
      "[\u001b[1;34mINFO\u001b[m] \u001b[1m------------------------------------------------------------------------\u001b[m\n"
     ]
    }
   ],
   "source": [
    "cd(CYTOSCAPE_DIR, 'gui-distribution', 'packaging')\n",
    "%env MAC_KEYSTORE_PASSWORD=\n",
    "!mvn clean install -U"
   ]
  },
  {
   "cell_type": "markdown",
   "metadata": {},
   "source": [
    "## 5. Copying Cytoscape installers to weekly download page\n",
    "\n",
    "When completed installer executables can be found in `cytoscape/cytoscape/gui-distribution/packaging/target/media` and compressed builds for Linux and Windows can be found in `cytoscape/cytoscape/gui-distribution/assembly/target`\n",
    "\n",
    "all of which should be copied to `/var/www/html/cytoscape-builds/Cytoscape-3.9.0/<DATE>`\n",
    "\n"
   ]
  },
  {
   "cell_type": "code",
   "execution_count": 12,
   "metadata": {},
   "outputs": [
    {
     "name": "stdout",
     "output_type": "stream",
     "text": [
      "sending incremental file list\n",
      "Cytoscape_3_9_0-SNAPSHOT_macos.dmg\n",
      "    292,894,009 100%  208.12MB/s    0:00:01 (xfr#1, to-chk=7/8)\n",
      "Cytoscape_3_9_0-SNAPSHOT_unix.sh\n",
      "    290,773,961 100%  163.02MB/s    0:00:01 (xfr#2, to-chk=6/8)\n",
      "Cytoscape_3_9_0-SNAPSHOT_windows_32bit.exe\n",
      "    292,420,096 100%  143.38MB/s    0:00:01 (xfr#3, to-chk=5/8)\n",
      "Cytoscape_3_9_0-SNAPSHOT_windows_64bit.exe\n",
      "    292,527,104 100%  131.04MB/s    0:00:02 (xfr#4, to-chk=4/8)\n",
      "md5sums\n",
      "            290 100%    2.18kB/s    0:00:00 (xfr#5, to-chk=3/8)\n",
      "output.txt\n",
      "            813 100%    6.11kB/s    0:00:00 (xfr#6, to-chk=2/8)\n",
      "sha256sums\n",
      "            418 100%    3.14kB/s    0:00:00 (xfr#7, to-chk=1/8)\n",
      "updates.xml\n",
      "          1,738 100%   13.06kB/s    0:00:00 (xfr#8, to-chk=0/8)\n",
      "\n",
      "sent 1,168,904,326 bytes  received 168 bytes  212,528,089.82 bytes/sec\n",
      "total size is 1,168,618,429  speedup is 1.00\n",
      "sending incremental file list\n",
      "cytoscape-unix-3.9.0-SNAPSHOT.tar.gz\n",
      "    287,992,446 100%  238.80MB/s    0:00:01 (xfr#1, to-chk=1/2)\n",
      "cytoscape-windows-3.9.0-SNAPSHOT.zip\n",
      "    289,057,402 100%  201.81MB/s    0:00:01 (xfr#2, to-chk=0/2)\n",
      "\n",
      "sent 577,190,947 bytes  received 54 bytes  230,876,400.40 bytes/sec\n",
      "total size is 577,049,848  speedup is 1.00\n"
     ]
    }
   ],
   "source": [
    "!mkdir -p /var/www/html/cytoscape-builds/Cytoscape-3.9.0/$(date +%Y_%m_%d)\n",
    "!rsync -av --progress /home/cybuilder/cytoscape-admin-scripts/release-build/cytoscape/cytoscape/gui-distribution/packaging/target/media/* /var/www/html/cytoscape-builds/Cytoscape-3.9.0/$(date +%Y_%m_%d)\n",
    "!rsync -av --progress /home/cybuilder/cytoscape-admin-scripts/release-build/cytoscape/cytoscape/gui-distribution/assembly/target/*.{gz,zip} /var/www/html/cytoscape-builds/Cytoscape-3.9.0/$(date +%Y_%m_%d)\n"
   ]
  },
  {
   "cell_type": "markdown",
   "metadata": {},
   "source": [
    "## 6. Notarizing on idekerlab-macmini\n",
    "\n",
    "The install4j generated .dmg must be notarized to run on macOS 10.15 and above. The .dmg will be sent to idekerlab-macmini and submitted for notarization. An email will be sent to William Markuske when the notarization process is complete. As soon as the .dmg is notarized it will work and no further action is needed."
   ]
  },
  {
   "cell_type": "code",
   "execution_count": 13,
   "metadata": {
    "scrolled": true
   },
   "outputs": [
    {
     "name": "stdout",
     "output_type": "stream",
     "text": [
      "building file list ... \n",
      "1 file to consider\n",
      "Cytoscape_3_9_0-SNAPSHOT_macos.dmg\n",
      "    292,894,009 100%   84.61MB/s    0:00:03 (xfr#1, to-chk=0/1)\n",
      "\n",
      "sent 292,929,916 bytes  received 46 bytes  65,095,547.11 bytes/sec\n",
      "total size is 292,894,009  speedup is 1.00\n",
      "No errors uploading '/Users/idekerlab/apps_to_notarize/Cytoscape_3_9_0-SNAPSHOT_macos.dmg'.\n",
      "RequestUUID = 6a41ff2a-9fd8-43d6-b378-adfd075b613b\n",
      "\n",
      "\n"
     ]
    }
   ],
   "source": [
    "!rsync -av --progress /var/www/html/cytoscape-builds/Cytoscape-3.9.0/$(date +%Y_%m_%d)/*.dmg idekerlab@idekerlab-macmini.ucsd.edu:~/apps_to_notarize/\n",
    "!ssh idekerlab@idekerlab-macmini.ucsd.edu '~/notarizedmg_jing.sh ~/apps_to_notarize/*.dmg Snapshot.$(date +%Y%m%d)'    "
   ]
  },
  {
   "cell_type": "markdown",
   "metadata": {},
   "source": [
    "You can check the status of the notarization by pasting in the `RequestUUID` value into the following command and running."
   ]
  },
  {
   "cell_type": "code",
   "execution_count": 15,
   "metadata": {},
   "outputs": [
    {
     "name": "stdout",
     "output_type": "stream",
     "text": [
      "No errors getting notarization info.\r\n",
      "\r\n",
      "       Date: 2021-04-30 13:56:52 +0000\r\n",
      "       Hash: 7d32053845cd00b39f1a454710f3a650974f7f5d980ea41753a515efb27ee8cc\r\n",
      "RequestUUID: 6a41ff2a-9fd8-43d6-b378-adfd075b613b\r\n",
      "     Status: in progress\r\n",
      "\r\n"
     ]
    }
   ],
   "source": [
    "!ssh idekerlab@idekerlab-macmini.ucsd.edu '~/notarizestatus_jing.sh 6a41ff2a-9fd8-43d6-b378-adfd075b613b'"
   ]
  },
  {
   "cell_type": "code",
   "execution_count": null,
   "metadata": {},
   "outputs": [],
   "source": []
  },
  {
   "cell_type": "code",
   "execution_count": null,
   "metadata": {},
   "outputs": [],
   "source": []
  }
 ],
 "metadata": {
  "kernelspec": {
   "display_name": "Python 3",
   "language": "python",
   "name": "python3"
  },
  "language_info": {
   "codemirror_mode": {
    "name": "ipython",
    "version": 3
   },
   "file_extension": ".py",
   "mimetype": "text/x-python",
   "name": "python",
   "nbconvert_exporter": "python",
   "pygments_lexer": "ipython3",
   "version": "3.7.3"
  }
 },
 "nbformat": 4,
 "nbformat_minor": 2
}
