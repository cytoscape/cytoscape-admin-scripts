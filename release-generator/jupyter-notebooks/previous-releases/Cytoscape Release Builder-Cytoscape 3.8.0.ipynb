{
 "cells": [
  {
   "cell_type": "markdown",
   "metadata": {},
   "source": [
    "## Best practices for releases\n",
    "\n",
    "This notebook is a walkthrough of the Cytoscape Release build process. Use the BUILD_PARENT_DIR variable to specify a directory to build cytoscape in.\n",
    "\n",
    "#### NOTE: Make sure BUILD_PARENT_DIR is in `.gitignore`\n",
    "\n",
    "1. Update versions\n",
    "1. Update Core apps to use new API\n",
    "1. Build Installers\n",
    "1. Test on different OSs\n",
    "1. Deploy subrepos to nexus\n",
    "1. Post the installers to http://github.com/cytoscape/cytoscape/releases\n",
    "1. Deploy updated core apps\n",
    "\n",
    "After release:\n",
    "1. Merge the branch used to build installers into master and tag the release\n",
    "1. If master release, update the version in dev branch\n",
    "1. Update Cytoscape manual via https://github.com/cytoscape/cytoscape-manual\n",
    "1. Update www.github.com/cytoscape/cytoscape.github.com (downloads page, roadmap, etc.)\n",
    "1. Update system requirements script at https://github.com/cytoscape/cytoscape-admin-scripts/tree/master/system-checker\n"
   ]
  },
  {
   "cell_type": "code",
   "execution_count": 1,
   "metadata": {},
   "outputs": [],
   "source": [
    "from subprocess import Popen, PIPE\n",
    "import os\n",
    "import shutil"
   ]
  },
  {
   "cell_type": "markdown",
   "metadata": {},
   "source": [
    "Set the notebook directory. Note that this is system dependent."
   ]
  },
  {
   "cell_type": "code",
   "execution_count": 2,
   "metadata": {},
   "outputs": [
    {
     "name": "stdout",
     "output_type": "stream",
     "text": [
      "/home/cybuilder/cytoscape-admin-scripts\n"
     ]
    }
   ],
   "source": [
    "NOTEBOOK_DIR = '/home/cybuilder/cytoscape-admin-scripts'\n",
    "\n",
    "print(NOTEBOOK_DIR)"
   ]
  },
  {
   "cell_type": "markdown",
   "metadata": {},
   "source": [
    "Set the Java environment. This is Java 11 for Cytoscape 3.8.0 and above.\n",
    "\n",
    "Note that this is system dependent, and may need to be changed to reflect the system's configuration."
   ]
  },
  {
   "cell_type": "code",
   "execution_count": 3,
   "metadata": {},
   "outputs": [
    {
     "name": "stdout",
     "output_type": "stream",
     "text": [
      "env: JAVA_HOME=/usr/lib/jvm/jre-11-openjdk\n"
     ]
    }
   ],
   "source": [
    "%env JAVA_HOME=/usr/lib/jvm/jre-11-openjdk"
   ]
  },
  {
   "cell_type": "markdown",
   "metadata": {},
   "source": [
    "Set the MAVEN_HOME environment variable, as well as point the path to the correct Maven binaries.\n",
    "\n",
    "Note that this is system dependent and may need to be changed to reflect the system's configuration."
   ]
  },
  {
   "cell_type": "code",
   "execution_count": 4,
   "metadata": {},
   "outputs": [
    {
     "name": "stdout",
     "output_type": "stream",
     "text": [
      "env: MAVEN_HOME=/opt/maven\n",
      "env: PATH=/opt/apache-maven-3.6.0/bin/:/usr/local/sbin:/usr/local/bin:/usr/sbin:/usr/bin\n"
     ]
    }
   ],
   "source": [
    "%env MAVEN_HOME=/opt/maven\n",
    "%env PATH=/opt/apache-maven-3.6.0/bin/:/usr/local/sbin:/usr/local/bin:/usr/sbin:/usr/bin"
   ]
  },
  {
   "cell_type": "markdown",
   "metadata": {},
   "source": [
    "Prepare the target directory and clone the cytoscape git repo."
   ]
  },
  {
   "cell_type": "code",
   "execution_count": 5,
   "metadata": {},
   "outputs": [
    {
     "name": "stdout",
     "output_type": "stream",
     "text": [
      "Changing to directory: /home/cybuilder/cytoscape-admin-scripts\n",
      "Cloning into 'cytoscape'...\n",
      "remote: Enumerating objects: 36, done.\u001b[K\n",
      "remote: Counting objects: 100% (36/36), done.\u001b[K\n",
      "remote: Compressing objects: 100% (29/29), done.\u001b[K\n",
      "remote: Total 565 (delta 18), reused 20 (delta 7), pack-reused 529\u001b[K\n",
      "Receiving objects: 100% (565/565), 766.37 KiB | 0 bytes/s, done.\n",
      "Resolving deltas: 100% (271/271), done.\n"
     ]
    }
   ],
   "source": [
    "print('Changing to directory: ' + NOTEBOOK_DIR)\n",
    "os.chdir(NOTEBOOK_DIR)\n",
    "\n",
    "# Point to build location (the directory to clone parent cytoscape into)\n",
    "BUILD_PARENT_DIR = os.path.join(os.getcwd(), '3.8.0_build')\n",
    "if not os.path.exists(BUILD_PARENT_DIR):\n",
    "    os.mkdir(BUILD_PARENT_DIR)\n",
    "else:\n",
    "    shutil.rmtree(BUILD_PARENT_DIR)\n",
    "    os.mkdir(BUILD_PARENT_DIR)\n",
    "\n",
    "os.chdir(BUILD_PARENT_DIR)\n",
    "![[ -d cytoscape ]] || git clone https://github.com/cytoscape/cytoscape\n",
    "CYTOSCAPE_ROOT_DIR = os.path.join(BUILD_PARENT_DIR, 'cytoscape')\n",
    "CYTOSCAPE_DIR = os.path.join(CYTOSCAPE_ROOT_DIR, 'cytoscape')\n",
    "\n",
    "def cd(directory=BUILD_PARENT_DIR, *subdirs):\n",
    "    if subdirs:\n",
    "        directory = os.path.join(directory, *subdirs)\n",
    "    if os.getcwd() != directory:\n",
    "        os.chdir(directory)"
   ]
  },
  {
   "cell_type": "code",
   "execution_count": 6,
   "metadata": {},
   "outputs": [],
   "source": [
    "STARTING_BRANCH = 'develop'     # develop for major release, release/3.X.X for minor release\n",
    "NEW_BRANCH = 'release/3.8.0'    # branch to create that will be deployed\n",
    "OLD_VERSION = '3.8.0-SNAPSHOT'  # Version to replace in maven files\n",
    "NEW_VERSION = '3.8.0'           # New version to set across maven\n",
    "OLD_RELEASE_VERSION = '3.7.2'   # Release Version to replace on website/version checker"
   ]
  },
  {
   "cell_type": "markdown",
   "metadata": {},
   "source": [
    "## 1. Pull the develop branch of Cytoscape"
   ]
  },
  {
   "cell_type": "code",
   "execution_count": 7,
   "metadata": {},
   "outputs": [
    {
     "name": "stdout",
     "output_type": "stream",
     "text": [
      "Target directory = \n",
      "Cytoscape project will be cloned to: /home/cybuilder/cytoscape-admin-scripts/3.8.0_build/cytoscape\n",
      "Cloning into 'cytoscape'...\n",
      "remote: Enumerating objects: 36, done.\u001b[K\n",
      "remote: Counting objects: 100% (36/36), done.\u001b[K\n",
      "remote: Compressing objects: 100% (29/29), done.\u001b[K\n",
      "remote: Total 565 (delta 18), reused 20 (delta 7), pack-reused 529\u001b[K\n",
      "Receiving objects: 100% (565/565), 766.37 KiB | 0 bytes/s, done.\n",
      "Resolving deltas: 100% (271/271), done.\n",
      "Cloning: parent (URI = git@github.com:cytoscape/cytoscape-parent.git)\n",
      "Cloning into 'parent'...\n",
      "remote: Enumerating objects: 71, done.\u001b[K\n",
      "remote: Counting objects: 100% (71/71), done.\u001b[K\n",
      "remote: Compressing objects: 100% (62/62), done.\u001b[K\n",
      "remote: Total 1640 (delta 40), reused 34 (delta 9), pack-reused 1569\u001b[K\n",
      "Receiving objects: 100% (1640/1640), 256.35 KiB | 0 bytes/s, done.\n",
      "Resolving deltas: 100% (625/625), done.\n",
      "~/cytoscape-admin-scripts/3.8.0_build/cytoscape/cytoscape/parent ~/cytoscape-admin-scripts/3.8.0_build/cytoscape/cytoscape\n",
      "Already on 'develop'\n",
      "~/cytoscape-admin-scripts/3.8.0_build/cytoscape/cytoscape\n",
      "Cloning: api (URI = git@github.com:cytoscape/cytoscape-api.git)\n",
      "Cloning into 'api'...\n",
      "remote: Enumerating objects: 43, done.\u001b[K\n",
      "remote: Counting objects: 100% (43/43), done.\u001b[K\n",
      "remote: Compressing objects: 100% (26/26), done.\u001b[K\n",
      "remote: Total 25098 (delta 3), reused 41 (delta 1), pack-reused 25055\u001b[K\n",
      "Receiving objects: 100% (25098/25098), 5.97 MiB | 0 bytes/s, done.\n",
      "Resolving deltas: 100% (8159/8159), done.\n",
      "~/cytoscape-admin-scripts/3.8.0_build/cytoscape/cytoscape/api ~/cytoscape-admin-scripts/3.8.0_build/cytoscape/cytoscape\n",
      "Already on 'develop'\n",
      "~/cytoscape-admin-scripts/3.8.0_build/cytoscape/cytoscape\n",
      "Cloning: impl (URI = git@github.com:cytoscape/cytoscape-impl.git)\n",
      "Cloning into 'impl'...\n",
      "remote: Enumerating objects: 1906, done.\u001b[K\n",
      "remote: Counting objects: 100% (1906/1906), done.\u001b[K\n",
      "remote: Compressing objects: 100% (969/969), done.\u001b[K\n",
      "remote: Total 140492 (delta 809), reused 1568 (delta 509), pack-reused 138586\u001b[K\n",
      "Receiving objects: 100% (140492/140492), 190.66 MiB | 47.29 MiB/s, done.\n",
      "Resolving deltas: 100% (57530/57530), done.\n",
      "~/cytoscape-admin-scripts/3.8.0_build/cytoscape/cytoscape/impl ~/cytoscape-admin-scripts/3.8.0_build/cytoscape/cytoscape\n",
      "Already on 'develop'\n",
      "~/cytoscape-admin-scripts/3.8.0_build/cytoscape/cytoscape\n",
      "Cloning: support (URI = git@github.com:cytoscape/cytoscape-support.git)\n",
      "Cloning into 'support'...\n",
      "remote: Enumerating objects: 264, done.\u001b[K\n",
      "remote: Counting objects: 100% (264/264), done.\u001b[K264)\u001b[K\n",
      "remote: Compressing objects: 100% (195/195), done.\u001b[K\n",
      "remote: Total 5577 (delta 87), reused 207 (delta 47), pack-reused 5313\u001b[K\n",
      "Receiving objects: 100% (5577/5577), 582.24 KiB | 0 bytes/s, done.\n",
      "Resolving deltas: 100% (1884/1884), done.\n",
      "~/cytoscape-admin-scripts/3.8.0_build/cytoscape/cytoscape/support ~/cytoscape-admin-scripts/3.8.0_build/cytoscape/cytoscape\n",
      "Already on 'develop'\n",
      "~/cytoscape-admin-scripts/3.8.0_build/cytoscape/cytoscape\n",
      "Cloning: gui-distribution (URI = git@github.com:cytoscape/cytoscape-gui-distribution.git)\n",
      "Cloning into 'gui-distribution'...\n",
      "remote: Enumerating objects: 303, done.\u001b[K\n",
      "remote: Counting objects: 100% (303/303), done.\u001b[K\n",
      "remote: Compressing objects: 100% (217/217), done.\u001b[K\n",
      "remote: Total 6767 (delta 125), reused 217 (delta 51), pack-reused 6464\u001b[K\n",
      "Receiving objects: 100% (6767/6767), 52.93 MiB | 46.90 MiB/s, done.\n",
      "Resolving deltas: 100% (2767/2767), done.\n",
      "~/cytoscape-admin-scripts/3.8.0_build/cytoscape/cytoscape/gui-distribution ~/cytoscape-admin-scripts/3.8.0_build/cytoscape/cytoscape\n",
      "Already on 'develop'\n",
      "~/cytoscape-admin-scripts/3.8.0_build/cytoscape/cytoscape\n",
      "Cloning: app-developer (URI = git@github.com:cytoscape/cytoscape-app-developer.git)\n",
      "Cloning into 'app-developer'...\n",
      "remote: Enumerating objects: 19, done.\u001b[K\n",
      "remote: Counting objects: 100% (19/19), done.\u001b[K\n",
      "remote: Compressing objects: 100% (15/15), done.\u001b[K\n",
      "remote: Total 277 (delta 10), reused 13 (delta 4), pack-reused 258\u001b[K\n",
      "Receiving objects: 100% (277/277), 33.37 KiB | 0 bytes/s, done.\n",
      "Resolving deltas: 100% (130/130), done.\n",
      "~/cytoscape-admin-scripts/3.8.0_build/cytoscape/cytoscape/app-developer ~/cytoscape-admin-scripts/3.8.0_build/cytoscape/cytoscape\n",
      "Already on 'develop'\n",
      "~/cytoscape-admin-scripts/3.8.0_build/cytoscape/cytoscape\n",
      "\\n\\n - Finished: here is the current status:\\n\n",
      "------------------------------------------------------------------------\n",
      "- .:\n",
      "\n",
      "# On branch develop\n",
      "nothing to commit, working directory clean\n",
      "------------------------------------------------------------------------\n",
      "- parent:\n",
      "\n",
      "# On branch develop\n",
      "nothing to commit, working directory clean\n",
      "------------------------------------------------------------------------\n",
      "- api:\n",
      "\n",
      "# On branch develop\n",
      "nothing to commit, working directory clean\n",
      "------------------------------------------------------------------------\n",
      "- impl:\n",
      "\n",
      "# On branch develop\n",
      "nothing to commit, working directory clean\n",
      "------------------------------------------------------------------------\n",
      "- support:\n",
      "\n",
      "# On branch develop\n",
      "nothing to commit, working directory clean\n",
      "------------------------------------------------------------------------\n",
      "- gui-distribution:\n",
      "\n",
      "# On branch develop\n",
      "nothing to commit, working directory clean\n",
      "------------------------------------------------------------------------\n",
      "- app-developer:\n",
      "\n",
      "# On branch develop\n",
      "nothing to commit, working directory clean\n",
      "------------------------------------------------------------------------\n",
      "------------------------------------------------------------------------\n",
      "Executing command: git checkout develop\n",
      "--in .\n",
      "Already on 'develop'\n",
      "------------------------------------------------------------------------\n",
      "--in parent\n",
      "Already on 'develop'\n",
      "------------------------------------------------------------------------\n",
      "--in api\n",
      "Already on 'develop'\n",
      "------------------------------------------------------------------------\n",
      "--in impl\n",
      "Already on 'develop'\n",
      "------------------------------------------------------------------------\n",
      "--in support\n",
      "Already on 'develop'\n",
      "------------------------------------------------------------------------\n",
      "--in gui-distribution\n",
      "Already on 'develop'\n",
      "------------------------------------------------------------------------\n",
      "--in app-developer\n",
      "Already on 'develop'\n",
      "------------------------------------------------------------------------\n"
     ]
    }
   ],
   "source": [
    "cd(CYTOSCAPE_ROOT_DIR)\n",
    "![[ -d cytoscape ]] || ./cy.sh init\n",
    "cd(CYTOSCAPE_DIR)\n",
    "!./cy.sh run-all \"git checkout {STARTING_BRANCH}\""
   ]
  },
  {
   "cell_type": "markdown",
   "metadata": {},
   "source": [
    "## 1a. Reset"
   ]
  },
  {
   "cell_type": "code",
   "execution_count": null,
   "metadata": {},
   "outputs": [],
   "source": [
    "cd(CYTOSCAPE_DIR)\n",
    "!./cy.sh run-all 'git clean -f -d'\n",
    "!./cy.sh run-all 'git reset --hard'"
   ]
  },
  {
   "cell_type": "markdown",
   "metadata": {},
   "source": [
    "## 2. Create new branch locally"
   ]
  },
  {
   "cell_type": "code",
   "execution_count": null,
   "metadata": {},
   "outputs": [],
   "source": [
    "cd(CYTOSCAPE_DIR)\n",
    "!./cy.sh run-all 'git checkout -b {NEW_BRANCH}'\n",
    "# !./cy.sh run-all 'git pull' # only necessary if branch is pushed"
   ]
  },
  {
   "cell_type": "code",
   "execution_count": null,
   "metadata": {
    "scrolled": false
   },
   "outputs": [],
   "source": [
    "cd(CYTOSCAPE_DIR)\n",
    "!./cy.sh run-all 'git status'"
   ]
  },
  {
   "cell_type": "markdown",
   "metadata": {},
   "source": [
    "## 3. Update versions in pom files and all documents"
   ]
  },
  {
   "cell_type": "code",
   "execution_count": null,
   "metadata": {
    "scrolled": true
   },
   "outputs": [],
   "source": [
    "cd(CYTOSCAPE_DIR)\n",
    "!mvn versions:set -DnewVersion={NEW_VERSION}"
   ]
  },
  {
   "cell_type": "code",
   "execution_count": null,
   "metadata": {
    "scrolled": true
   },
   "outputs": [],
   "source": [
    "# then update the versions in the parent directory\n",
    "cd(CYTOSCAPE_DIR, 'parent')\n",
    "!mvn versions:set -DnewVersion={NEW_VERSION}"
   ]
  },
  {
   "cell_type": "markdown",
   "metadata": {},
   "source": [
    "## 3a. Commit (or reset) versions in pom files"
   ]
  },
  {
   "cell_type": "code",
   "execution_count": null,
   "metadata": {},
   "outputs": [],
   "source": [
    "cd(CYTOSCAPE_DIR)\n",
    "#!mvn version:revert\n",
    "!mvn versions:commit\n",
    "\n",
    "cd(CYTOSCAPE_DIR, 'parent')\n",
    "#!mvn version:revert\n",
    "!mvn versions:commit"
   ]
  },
  {
   "cell_type": "markdown",
   "metadata": {},
   "source": [
    "## 3b. Update version in other files (poms, executables)"
   ]
  },
  {
   "cell_type": "code",
   "execution_count": null,
   "metadata": {},
   "outputs": [],
   "source": [
    "%%bash -s \"$OLD_VERSION\" \"$NEW_VERSION\" \"$CYTOSCAPE_DIR\"\n",
    "\n",
    "cd \"$3\"\n",
    "\n",
    "echo \"* Updating version numbers in pom files...\"\n",
    "find . -name pom.xml | xargs sed -i \"\" -e \"s/$1/$2/g\"\n",
    "echo \"Done\"\n",
    "\n",
    "echo \"* Updating version numbers in executables...\"\n",
    "ls gui-distribution/assembly/src/main/bin/cytoscape.* | xargs sed -i \"\" -e \"s/$1/$2/g\"\n",
    "echo \"Done\""
   ]
  },
  {
   "cell_type": "code",
   "execution_count": null,
   "metadata": {},
   "outputs": [],
   "source": []
  },
  {
   "cell_type": "code",
   "execution_count": null,
   "metadata": {},
   "outputs": [],
   "source": [
    "# HelpTaskFactory uses hard coded versioning.\n",
    "cd(CYTOSCAPE_DIR, 'impl', 'core-task-impl', 'src', 'main', 'java', 'org', \n",
    "   'cytoscape', 'task', 'internal', 'help')\n",
    "!echo \"* Updating Manual link\"\n",
    "!ls HelpTaskFactory.jav* | xargs sed -i \"\" -e \"s/{OLD_RELEASE_VERSION}/{NEW_VERSION}/g\""
   ]
  },
  {
   "cell_type": "markdown",
   "metadata": {},
   "source": [
    "## 3c. Maven clean and check for outstanding occurrences of old version"
   ]
  },
  {
   "cell_type": "code",
   "execution_count": null,
   "metadata": {
    "scrolled": false
   },
   "outputs": [],
   "source": [
    "!echo \"* Cleaning old installers\"\n",
    "cd(CYTOSCAPE_DIR, 'gui-distribution', 'packaging')\n",
    "!mvn clean -q\n",
    "cd(CYTOSCAPE_DIR, 'gui-distribution', 'splash-launcher')\n",
    "!mvn clean -q\n",
    "!echo \"Done\""
   ]
  },
  {
   "cell_type": "code",
   "execution_count": null,
   "metadata": {
    "scrolled": false
   },
   "outputs": [],
   "source": [
    "cd(CYTOSCAPE_DIR)\n",
    "ESCAPED = OLD_VERSION.replace('.', '\\\\.')\n",
    "!echo \"* Showing occurrences of {ESCAPED} in `pwd`:\" && grep -ri '{ESCAPED}' ."
   ]
  },
  {
   "cell_type": "code",
   "execution_count": null,
   "metadata": {
    "scrolled": false
   },
   "outputs": [],
   "source": [
    "cd(CYTOSCAPE_DIR)\n",
    "ESCAPED = OLD_RELEASE_VERSION.replace('.', '\\\\.')\n",
    "!echo \"* Showing occurrences of {ESCAPED} in `pwd`:\" && grep -ri '{ESCAPED}' ."
   ]
  },
  {
   "cell_type": "markdown",
   "metadata": {},
   "source": [
    "## 4. Build Cytoscape and ensure no errors\n",
    "This may take a while. Expect to build subrepos first before building from the root directory"
   ]
  },
  {
   "cell_type": "code",
   "execution_count": null,
   "metadata": {},
   "outputs": [],
   "source": [
    "cd(CYTOSCAPE_DIR)\n",
    "with open('build_output.txt', 'w') as outf:\n",
    "    process = Popen('mvn -fae clean install -U -Dmaven.test.skip=true'.split(' '), \n",
    "                stdout=outf,\n",
    "                cwd=CYTOSCAPE_DIR)\n",
    "    process.wait()\n",
    "\n",
    "print(\"Showing ERROR lines in build...\")\n",
    "!cat build_output.txt | grep ERROR"
   ]
  },
  {
   "cell_type": "markdown",
   "metadata": {},
   "source": [
    "## 5. Commit changes to new branch"
   ]
  },
  {
   "cell_type": "code",
   "execution_count": null,
   "metadata": {},
   "outputs": [],
   "source": [
    "# if successful, commit the changes\n",
    "cd(CYTOSCAPE_DIR)\n",
    "!./cy.sh run-all 'git add .'\n",
    "!./cy.sh run-all 'git commit -m \"Update version to {NEW_VERSION}\"'"
   ]
  },
  {
   "cell_type": "code",
   "execution_count": null,
   "metadata": {},
   "outputs": [],
   "source": [
    "cd(CYTOSCAPE_DIR)\n",
    "!./cy.sh status"
   ]
  },
  {
   "cell_type": "markdown",
   "metadata": {},
   "source": [
    "## 6. Build Cytoscape installers\n",
    "This requires Install4J to be configured on your machine via the instructions at the Cytoscape README"
   ]
  },
  {
   "cell_type": "code",
   "execution_count": null,
   "metadata": {
    "scrolled": true
   },
   "outputs": [],
   "source": [
    "cd(CYTOSCAPE_DIR, 'gui-distribution', 'packaging')\n",
    "%env MAC_KEYSTORE_PASSWORD=\n",
    "!mvn clean install -U"
   ]
  },
  {
   "cell_type": "markdown",
   "metadata": {},
   "source": [
    "## 7. Copying Cytoscape installers to weekly download page\n",
    "When completed installer executables can be found in cytoscape/cytoscape/gui-distribution/packaging/target/media and compressed builds for Linux and Windows can be found in cytoscape/cytoscape/gui-distribution/assembly/target\n",
    "\n",
    "all of which should be copied to /var/www/html/cytoscape-builds/Cytoscape-3.8/3.8.0-Release-Candidate"
   ]
  },
  {
   "cell_type": "code",
   "execution_count": null,
   "metadata": {},
   "outputs": [],
   "source": [
    "!mkdir -p /var/www/html/cytoscape-builds/Cytoscape-3.8.0/3.8.0-Release-Candidate-5\n",
    "!rsync -av --progress /home/cybuilder/cytoscape-admin-scripts/3.8.0_build/cytoscape/cytoscape/gui-distribution/packaging/target/media/* /var/www/html/cytoscape-builds/Cytoscape-3.8.0/3.8.0-Release-Candidate-5\n",
    "!rsync -av --progress /home/cybuilder/cytoscape-admin-scripts/3.8.0_build/cytoscape/cytoscape/gui-distribution/assembly/target/*.{gz,zip} /var/www/html/cytoscape-builds/Cytoscape-3.8.0/3.8.0-Release-Candidate-5\n"
   ]
  },
  {
   "cell_type": "markdown",
   "metadata": {},
   "source": [
    "- Update core apps to rely on deployed releases, test\n",
    "- Deploy and push them to app store\n",
    "- Merge develop into master branch\n",
    "- Tag and release master, publish release\n",
    "- Change dev branch version"
   ]
  },
  {
   "cell_type": "markdown",
   "metadata": {},
   "source": [
    "## 8. Deploy JARs to Nexus\n",
    "\n",
    "- Need to have our repository properly configured in ~/.m2/settings.xml\n",
    "- Cytoscape Project POM will fail. This is expected"
   ]
  },
  {
   "cell_type": "code",
   "execution_count": null,
   "metadata": {},
   "outputs": [],
   "source": [
    "cd(CYTOSCAPE_DIR)\n",
    "!mvn clean deploy"
   ]
  },
  {
   "cell_type": "markdown",
   "metadata": {},
   "source": [
    "## 9. Notarizing on idekerlab-macmini\n",
    "\n",
    "The install4j generated .dmg must be notarized to run on macOS 10.15 and above. The .dmg will be sent to idekerlab-macmini and submitted for notarization. An email will be sent to William Markuske when the notarization process is complete. As soon as the .dmg is notarized it will work and no further action is needed."
   ]
  },
  {
   "cell_type": "code",
   "execution_count": null,
   "metadata": {
    "scrolled": true
   },
   "outputs": [],
   "source": [
    "!rsync -av --progress /var/www/html/cytoscape-builds/Cytoscape-3.8.0/3.8.0-Release-Candidate-5/*.dmg idekerlab@idekerlab-macmini.ucsd.edu:~/apps_to_notarize/\n",
    "!ssh idekerlab@idekerlab-macmini.ucsd.edu '~/notarizedmg.sh ~/apps_to_notarize/*.dmg Release-Candidate.$(date +%Y%m%d)'    "
   ]
  },
  {
   "cell_type": "markdown",
   "metadata": {},
   "source": [
    "You can check the status of the notarization by pasting in the RequestUUID value into the following command and running."
   ]
  },
  {
   "cell_type": "code",
   "execution_count": null,
   "metadata": {},
   "outputs": [],
   "source": [
    "!ssh idekerlab@idekerlab-macmini.ucsd.edu '~/notarizestatus.sh 0bfde93a-cd86-4e13-8898-ea3eae71a239'\n"
   ]
  },
  {
   "cell_type": "markdown",
   "metadata": {},
   "source": [
    "#### Create a new release with Cytoscape installers: https://github.com/cytoscape/cytoscape/releases/new"
   ]
  },
  {
   "cell_type": "markdown",
   "metadata": {},
   "source": [
    "## 10. Update Cytoscape.org, manual, and admin-scripts\n",
    "\n",
    "Publish JavaDocs by building http://code.cytoscape.org/jenkins/job/cytoscape-3-javadoc/\n",
    "\n",
    "Generate Release Notes from JIRA https://cytoscape.atlassian.net/projects/CYTOSCAPE"
   ]
  },
  {
   "cell_type": "code",
   "execution_count": null,
   "metadata": {},
   "outputs": [],
   "source": [
    "# Update cytoscape.org\n",
    "\n",
    "cd(BUILD_PARENT_DIR)\n",
    "![[ -d cytoscape.github.com ]] || git clone http://github.com/cytoscape/cytoscape.github.com\n",
    "\n",
    "![[ -d cytoscape-manual ]] || git clone http://github.com/cytoscape/cytoscape-manual"
   ]
  },
  {
   "cell_type": "markdown",
   "metadata": {},
   "source": [
    "### Cytoscape.org changes\n",
    "\n",
    "#### Roadmap\n",
    "cytoscape.github.com/roadmap.html\n",
    "- Remove section from Vision\n",
    "- Move release dates 6-8 months forward\n",
    "- Add section to Bottom of page listing features\n",
    "\n",
    "#### JS Files:\n",
    "- js/download.js\n",
    "  - Copy JSON block to previous versions\n",
    "- js/setup_page.js\n",
    "  - Change release version\n",
    "  \n",
    "#### Welcome Letter\n",
    "- Use template at cellar/users/bsettle/Documents/Cytoscape/Releases/\n",
    "- Must update all sections\n",
    "\n",
    "#### Release Notes\n",
    "- releasenotes.html\n",
    "  - Update welcome letter link\n",
    "  - Update Latest Release Notes and Older Versions list\n",
    "- release_notes_3_X_X.html\n",
    "  - Copied from previous release notes\n",
    "  - Edit HTML sections to add div's about new features\n",
    "  - Add screenshots"
   ]
  },
  {
   "cell_type": "code",
   "execution_count": null,
   "metadata": {},
   "outputs": [],
   "source": [
    "cd(BUILD_PARENT_DIR, 'cytoscape.github.com')\n",
    "!git add .\n",
    "!git commit -m \"Updated for release {NEW_VERSION}\""
   ]
  },
  {
   "cell_type": "markdown",
   "metadata": {},
   "source": [
    "### Manual\n",
    "Refer to https://github.com/cytoscape/cytoscape-manual/ for manual changes and building"
   ]
  },
  {
   "cell_type": "code",
   "execution_count": null,
   "metadata": {},
   "outputs": [],
   "source": [
    "#Change docs/conf.py\n",
    "cd(BUILD_PARENT_DIR, 'cytoscape-manual', 'docs')\n",
    "!ls conf.p* | xargs sed -i \"\" -e \"s/{OLD_RELEASE_VERSION}/{NEW_VERSION}/g\"\n",
    "!git add .\n",
    "!git commit -m \"Updated for {NEW_VERSION} release\"\n",
    "!git push"
   ]
  },
  {
   "cell_type": "markdown",
   "metadata": {},
   "source": [
    "- Update all sections with new features and screenshots\n",
    "#### NOTE: ONLY TAG WHEN READY, Tagging posts the manual to ReadTheDocs\n",
    "#### Only Major version updates are published. Not minor\n",
    "\n",
    "Webhooks may be discontinued 1/31/2019. Keep an eye out for auto-building ReadTheDocs\n",
    "To build it manually, you must have access to the ReadTheDocs page:\n",
    "- https://readthedocs.org/projects/cytoscape-working-copy/"
   ]
  },
  {
   "cell_type": "code",
   "execution_count": null,
   "metadata": {},
   "outputs": [],
   "source": [
    "cd(BUILD_PARENT_DIR, 'cytoscape-manual')\n",
    "!git tag {NEW_VERSION}"
   ]
  },
  {
   "cell_type": "markdown",
   "metadata": {},
   "source": [
    "### Update cytoscape-admin-scripts"
   ]
  },
  {
   "cell_type": "code",
   "execution_count": null,
   "metadata": {},
   "outputs": [],
   "source": [
    "#system-checker files are in this repo\n",
    "cd(BUILD_PARENT_DIR)\n",
    "!ls system-checker/* | xargs sed -i \"\" -e \"s/{OLD_RELEASE_VERSION}/{NEW_VERSION}/g\"\n",
    "!git add .\n",
    "!git commit -m \"Updated system checker\""
   ]
  },
  {
   "cell_type": "markdown",
   "metadata": {},
   "source": [
    "### Publish the manual, website, and create a release on github\n",
    "Check status before pushing!"
   ]
  },
  {
   "cell_type": "code",
   "execution_count": null,
   "metadata": {},
   "outputs": [],
   "source": [
    "# Bump up the system checker scripts\n",
    "cd(BUILD_PARENT_DIR)\n",
    "!git status\n",
    "#!git push\n",
    "\n",
    "# Tag and publish Manual\n",
    "cd(BUILD_PARENT_DIR, 'cytoscape-manual')\n",
    "!git status\n",
    "#!git push origin {NEW_VERSION}\n",
    "\n",
    "# Update website\n",
    "cd(BUILD_PARENT_DIR, 'cytoscape.github.com')\n",
    "!git status\n",
    "#!git push"
   ]
  },
  {
   "cell_type": "markdown",
   "metadata": {},
   "source": [
    "### Update the file at /data/chianti/html/cytoscape-news/news.html"
   ]
  },
  {
   "cell_type": "code",
   "execution_count": null,
   "metadata": {},
   "outputs": [],
   "source": [
    "!curl --silent http://chianti.ucsd.edu/cytoscape-news/news.html | grep \"latestVersion\""
   ]
  },
  {
   "cell_type": "markdown",
   "metadata": {},
   "source": [
    "### Announce the release on app-dev, cytoscape-announce, cytostaff"
   ]
  },
  {
   "cell_type": "code",
   "execution_count": null,
   "metadata": {},
   "outputs": [],
   "source": [
    "updates = [\n",
    "    'Java 11 Support',\n",
    "    'Faster Renderering',\n",
    "    'New User Interface Customization Options',\n",
    "    'Updated apps, including CyBrowser, Analyzer, and CyNDEx-2',\n",
    "    'Additional Graph Editing Tools'\n",
    "]\n",
    "update_list = '\\n'.join([' - ' + update for update in updates])\n",
    "welcome_letter = 'http://www.cytoscape.org/cy3_welcome_letter_v21.pdf'\n",
    "release_notes = 'http://www.cytoscape.org/release_notes_3_8_0.html'\n",
    "message = '''Cytoscape {version} is released!\n",
    "\n",
    "=+=+ =+=+ =+=+ =+=+ =+=+ Hello Cytoscapers! =+=+ =+=+ =+=+ =+=+ =+=+\n",
    " \n",
    "We're very pleased and excited to announce availability of Cytoscape {version}, effective immediately!\n",
    "\n",
    "To get a copy, surf to our download page (http://cytoscape.org/download), and download and execute the installer for your workstation.\n",
    "\n",
    "There are many new and exciting features in {version}, including:\n",
    "{update_list}\n",
    "\n",
    "Note that with {version}, Windows & Mac systems can run Java versions 8, 9, and 10 without conflicting with Cytoscape -- it installs and uses a private Java 11.\n",
    "\n",
    "For Linux, you must be sure Java 11 is installed and is first on the PATH or is named via the JAVA_HOME environment variable.\n",
    "\n",
    "If you find any issues with this release, please let us know by posting to cytoscape-helpdesk@googlegroups.com … we very much value your feedback!\n",
    "\n",
    "Please check the {version} materials in our Welcome Letter ({welcome_letter}) and the Release Notes ({release_notes}).\n",
    "\n",
    "Tell all your friends ...\n",
    "\n",
    "We appreciate your checking this out, and we hope you find it as great to work with as we do!\n",
    "\n",
    "=+=+ =+=+ =+=+ =+=+ =+=+ =+=+ =+=+ =+=+ =+=+ =+=+'''\n",
    "print(message.format(version='3.8.0', update_list=update_list, \n",
    "                     welcome_letter=welcome_letter, release_notes=release_notes))"
   ]
  },
  {
   "cell_type": "code",
   "execution_count": null,
   "metadata": {},
   "outputs": [],
   "source": []
  }
 ],
 "metadata": {
  "kernelspec": {
   "display_name": "Python 3",
   "language": "python",
   "name": "python3"
  },
  "language_info": {
   "codemirror_mode": {
    "name": "ipython",
    "version": 3
   },
   "file_extension": ".py",
   "mimetype": "text/x-python",
   "name": "python",
   "nbconvert_exporter": "python",
   "pygments_lexer": "ipython3",
   "version": "3.7.3"
  }
 },
 "nbformat": 4,
 "nbformat_minor": 2
}
