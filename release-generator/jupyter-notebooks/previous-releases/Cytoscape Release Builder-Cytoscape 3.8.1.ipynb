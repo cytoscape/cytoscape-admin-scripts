{
 "cells": [
  {
   "cell_type": "markdown",
   "metadata": {},
   "source": [
    "## Best practices for releases\n",
    "\n",
    "This notebook is a walkthrough of the Cytoscape Release build process. It produces signed installers for Cytoscape, and deploys code to the Nexus server and GitHub.\n",
    "\n",
    "Use the BUILD_PARENT_DIR variable to specify a directory to build cytoscape in.\n",
    "\n",
    "#### NOTE: Make sure BUILD_PARENT_DIR is in `.gitignore`\n",
    "\n",
    "1. Update versions\n",
    "1. Update Core apps to use new API\n",
    "1. Build Installers\n",
    "1. Test on different OSs\n",
    "1. Deploy subrepos to nexus\n",
    "1. Post the installers to http://github.com/cytoscape/cytoscape/releases\n",
    "1. Deploy updated core apps\n",
    "\n",
    "After release:\n",
    "1. Merge the branch used to build installers into master and tag the release\n",
    "1. If master release, update the version in dev branch\n",
    "1. Update Cytoscape manual via https://github.com/cytoscape/cytoscape-manual\n",
    "1. Update www.github.com/cytoscape/cytoscape.github.com (downloads page, roadmap, etc.)\n",
    "1. Update system requirements script at https://github.com/cytoscape/cytoscape-admin-scripts/tree/master/system-checker\n",
    "\n",
    "Before starting this process, it is a good idea to Restart and Clear Output for this notebook's Kernel."
   ]
  },
  {
   "cell_type": "markdown",
   "metadata": {},
   "source": [
    "### 1. Set up Build Environment\n",
    "\n",
    "This sets up the build environment, including Java and Maven versions, and the root directory of the build.\n"
   ]
  },
  {
   "cell_type": "code",
   "execution_count": 1,
   "metadata": {},
   "outputs": [],
   "source": [
    "from subprocess import Popen, PIPE\n",
    "import os\n",
    "import shutil"
   ]
  },
  {
   "cell_type": "markdown",
   "metadata": {},
   "source": [
    "Set the notebook directory. Note that this is system dependent."
   ]
  },
  {
   "cell_type": "code",
   "execution_count": 2,
   "metadata": {},
   "outputs": [
    {
     "name": "stdout",
     "output_type": "stream",
     "text": [
      "/home/cybuilder/cytoscape-admin-scripts\n"
     ]
    }
   ],
   "source": [
    "NOTEBOOK_DIR = '/home/cybuilder/cytoscape-admin-scripts'\n",
    "\n",
    "print(NOTEBOOK_DIR)"
   ]
  },
  {
   "cell_type": "markdown",
   "metadata": {},
   "source": [
    "Set the Java environment. This is Java 11 for Cytoscape 3.8.0 and above.\n",
    "\n",
    "Note that this is system dependent, and may need to be changed to reflect the system's configuration."
   ]
  },
  {
   "cell_type": "code",
   "execution_count": 3,
   "metadata": {},
   "outputs": [
    {
     "name": "stdout",
     "output_type": "stream",
     "text": [
      "env: JAVA_HOME=/usr/lib/jvm/jre-11-openjdk\n"
     ]
    }
   ],
   "source": [
    "%env JAVA_HOME=/usr/lib/jvm/jre-11-openjdk"
   ]
  },
  {
   "cell_type": "markdown",
   "metadata": {},
   "source": [
    "Set the MAVEN_HOME environment variable, as well as point the path to the correct Maven binaries. \n",
    "\n",
    "Note that this is system dependent and may need to be changed to reflect the system's configuration."
   ]
  },
  {
   "cell_type": "code",
   "execution_count": 4,
   "metadata": {},
   "outputs": [
    {
     "name": "stdout",
     "output_type": "stream",
     "text": [
      "env: MAVEN_HOME=/opt/maven\n",
      "env: PATH=/opt/apache-maven-3.6.0/bin/:/usr/local/sbin:/usr/local/bin:/usr/sbin:/usr/bin\n"
     ]
    }
   ],
   "source": [
    "%env MAVEN_HOME=/opt/maven\n",
    "%env PATH=/opt/apache-maven-3.6.0/bin/:/usr/local/sbin:/usr/local/bin:/usr/sbin:/usr/bin"
   ]
  },
  {
   "cell_type": "markdown",
   "metadata": {},
   "source": [
    "Prepare the target directory and clone the cytoscape git repo."
   ]
  },
  {
   "cell_type": "code",
   "execution_count": 5,
   "metadata": {},
   "outputs": [
    {
     "name": "stdout",
     "output_type": "stream",
     "text": [
      "Changing to directory: /home/cybuilder/cytoscape-admin-scripts\n",
      "Cloning into 'cytoscape'...\n",
      "remote: Enumerating objects: 39, done.\u001b[K\n",
      "remote: Counting objects: 100% (39/39), done.\u001b[K\n",
      "remote: Compressing objects: 100% (32/32), done.\u001b[K\n",
      "remote: Total 568 (delta 20), reused 20 (delta 7), pack-reused 529\u001b[K\n",
      "Receiving objects: 100% (568/568), 767.17 KiB | 0 bytes/s, done.\n",
      "Resolving deltas: 100% (273/273), done.\n"
     ]
    }
   ],
   "source": [
    "print('Changing to directory: ' + NOTEBOOK_DIR)\n",
    "os.chdir(NOTEBOOK_DIR)\n",
    "\n",
    "# Point to build location (the directory to clone parent cytoscape into)\n",
    "BUILD_PARENT_DIR = os.path.join(os.getcwd(), 'install4j8_build')\n",
    "if not os.path.exists(BUILD_PARENT_DIR):\n",
    "    os.mkdir(BUILD_PARENT_DIR)\n",
    "else:\n",
    "    shutil.rmtree(BUILD_PARENT_DIR)\n",
    "    os.mkdir(BUILD_PARENT_DIR)\n",
    "\n",
    "os.chdir(BUILD_PARENT_DIR)\n",
    "![[ -d cytoscape ]] || git clone https://github.com/cytoscape/cytoscape\n",
    "CYTOSCAPE_ROOT_DIR = os.path.join(BUILD_PARENT_DIR, 'cytoscape')\n",
    "CYTOSCAPE_DIR = os.path.join(CYTOSCAPE_ROOT_DIR, 'cytoscape')\n",
    "\n",
    "def cd(directory=BUILD_PARENT_DIR, *subdirs):\n",
    "    if subdirs:\n",
    "        directory = os.path.join(directory, *subdirs)\n",
    "    if os.getcwd() != directory:\n",
    "        os.chdir(directory)"
   ]
  },
  {
   "cell_type": "code",
   "execution_count": 6,
   "metadata": {},
   "outputs": [],
   "source": [
    "STARTING_BRANCH = 'release/3.8.1'     # develop for major release, release/3.X.X for minor release"
   ]
  },
  {
   "cell_type": "markdown",
   "metadata": {},
   "source": [
    "### 2. Pull the release/3.8.1 branch of Cytoscape\n",
    "\n",
    "Note that to execute the checkout step here, you will need to have set up an SSH key on this machine that does not use password validation, or else parts of the build will be stall when they require input. "
   ]
  },
  {
   "cell_type": "code",
   "execution_count": 7,
   "metadata": {},
   "outputs": [
    {
     "name": "stdout",
     "output_type": "stream",
     "text": [
      "Target directory = \n",
      "Cytoscape project will be cloned to: /home/cybuilder/cytoscape-admin-scripts/install4j8_build/cytoscape\n",
      "Cloning into 'cytoscape'...\n",
      "Warning: Permanently added the RSA host key for IP address '140.82.112.3' to the list of known hosts.\n",
      "remote: Enumerating objects: 39, done.\u001b[K\n",
      "remote: Counting objects: 100% (39/39), done.\u001b[K\n",
      "remote: Compressing objects: 100% (32/32), done.\u001b[K\n",
      "remote: Total 568 (delta 20), reused 20 (delta 7), pack-reused 529\u001b[K\n",
      "Receiving objects: 100% (568/568), 767.17 KiB | 0 bytes/s, done.\n",
      "Resolving deltas: 100% (273/273), done.\n",
      "Cloning: parent (URI = git@github.com:cytoscape/cytoscape-parent.git)\n",
      "Cloning into 'parent'...\n",
      "remote: Enumerating objects: 1640, done.\u001b[K\n",
      "remote: Total 1640 (delta 0), reused 0 (delta 0), pack-reused 1640\u001b[K\n",
      "Receiving objects: 100% (1640/1640), 255.12 KiB | 0 bytes/s, done.\n",
      "Resolving deltas: 100% (628/628), done.\n",
      "~/cytoscape-admin-scripts/install4j8_build/cytoscape/cytoscape/parent ~/cytoscape-admin-scripts/install4j8_build/cytoscape/cytoscape\n",
      "Already on 'develop'\n",
      "~/cytoscape-admin-scripts/install4j8_build/cytoscape/cytoscape\n",
      "Cloning: api (URI = git@github.com:cytoscape/cytoscape-api.git)\n",
      "Cloning into 'api'...\n",
      "remote: Enumerating objects: 128, done.\u001b[K\n",
      "remote: Counting objects: 100% (128/128), done.\u001b[K\n",
      "remote: Compressing objects: 100% (77/77), done.\u001b[K\n",
      "remote: Total 25183 (delta 18), reused 111 (delta 2), pack-reused 25055\u001b[K\n",
      "Receiving objects: 100% (25183/25183), 5.98 MiB | 9.10 MiB/s, done.\n",
      "Resolving deltas: 100% (8174/8174), done.\n",
      "~/cytoscape-admin-scripts/install4j8_build/cytoscape/cytoscape/api ~/cytoscape-admin-scripts/install4j8_build/cytoscape/cytoscape\n",
      "Already on 'develop'\n",
      "~/cytoscape-admin-scripts/install4j8_build/cytoscape/cytoscape\n",
      "Cloning: impl (URI = git@github.com:cytoscape/cytoscape-impl.git)\n",
      "Cloning into 'impl'...\n",
      "remote: Enumerating objects: 1297, done.\u001b[K\n",
      "remote: Counting objects: 100% (1297/1297), done.\u001b[K\n",
      "remote: Compressing objects: 100% (681/681), done.\u001b[K\n",
      "remote: Total 141789 (delta 425), reused 1061 (delta 259), pack-reused 140492\u001b[K\n",
      "Receiving objects: 100% (141789/141789), 190.85 MiB | 27.55 MiB/s, done.\n",
      "Resolving deltas: 100% (58117/58117), done.\n",
      "~/cytoscape-admin-scripts/install4j8_build/cytoscape/cytoscape/impl ~/cytoscape-admin-scripts/install4j8_build/cytoscape/cytoscape\n",
      "Already on 'develop'\n",
      "~/cytoscape-admin-scripts/install4j8_build/cytoscape/cytoscape\n",
      "Cloning: support (URI = git@github.com:cytoscape/cytoscape-support.git)\n",
      "Cloning into 'support'...\n",
      "remote: Enumerating objects: 296, done.\u001b[K\n",
      "remote: Counting objects: 100% (296/296), done.\u001b[K\n",
      "remote: Compressing objects: 100% (219/219), done.\u001b[K\n",
      "remote: Total 5609 (delta 91), reused 236 (delta 47), pack-reused 5313\u001b[K\n",
      "Receiving objects: 100% (5609/5609), 590.50 KiB | 0 bytes/s, done.\n",
      "Resolving deltas: 100% (1888/1888), done.\n",
      "~/cytoscape-admin-scripts/install4j8_build/cytoscape/cytoscape/support ~/cytoscape-admin-scripts/install4j8_build/cytoscape/cytoscape\n",
      "Already on 'develop'\n",
      "~/cytoscape-admin-scripts/install4j8_build/cytoscape/cytoscape\n",
      "Cloning: gui-distribution (URI = git@github.com:cytoscape/cytoscape-gui-distribution.git)\n",
      "Cloning into 'gui-distribution'...\n",
      "remote: Enumerating objects: 325, done.\u001b[K\n",
      "remote: Counting objects: 100% (325/325), done.\u001b[K\n",
      "remote: Compressing objects: 100% (233/233), done.\u001b[K\n",
      "remote: Total 6789 (delta 136), reused 234 (delta 57), pack-reused 6464\u001b[K\n",
      "Receiving objects: 100% (6789/6789), 52.93 MiB | 25.39 MiB/s, done.\n",
      "Resolving deltas: 100% (2778/2778), done.\n",
      "~/cytoscape-admin-scripts/install4j8_build/cytoscape/cytoscape/gui-distribution ~/cytoscape-admin-scripts/install4j8_build/cytoscape/cytoscape\n",
      "Already on 'develop'\n",
      "~/cytoscape-admin-scripts/install4j8_build/cytoscape/cytoscape\n",
      "Cloning: app-developer (URI = git@github.com:cytoscape/cytoscape-app-developer.git)\n",
      "Cloning into 'app-developer'...\n",
      "remote: Enumerating objects: 19, done.\u001b[K\n",
      "remote: Counting objects: 100% (19/19), done.\u001b[K\n",
      "remote: Compressing objects: 100% (15/15), done.\u001b[K\n",
      "remote: Total 277 (delta 10), reused 13 (delta 4), pack-reused 258\u001b[K\n",
      "Receiving objects: 100% (277/277), 33.37 KiB | 0 bytes/s, done.\n",
      "Resolving deltas: 100% (130/130), done.\n",
      "~/cytoscape-admin-scripts/install4j8_build/cytoscape/cytoscape/app-developer ~/cytoscape-admin-scripts/install4j8_build/cytoscape/cytoscape\n",
      "Already on 'develop'\n",
      "~/cytoscape-admin-scripts/install4j8_build/cytoscape/cytoscape\n",
      "\\n\\n - Finished: here is the current status:\\n\n",
      "------------------------------------------------------------------------\n",
      "- .:\n",
      "\n",
      "# On branch develop\n",
      "nothing to commit, working directory clean\n",
      "------------------------------------------------------------------------\n",
      "- parent:\n",
      "\n",
      "# On branch develop\n",
      "nothing to commit, working directory clean\n",
      "------------------------------------------------------------------------\n",
      "- api:\n",
      "\n",
      "# On branch develop\n",
      "nothing to commit, working directory clean\n",
      "------------------------------------------------------------------------\n",
      "- impl:\n",
      "\n",
      "# On branch develop\n",
      "nothing to commit, working directory clean\n",
      "------------------------------------------------------------------------\n",
      "- support:\n",
      "\n",
      "# On branch develop\n",
      "nothing to commit, working directory clean\n",
      "------------------------------------------------------------------------\n",
      "- gui-distribution:\n",
      "\n",
      "# On branch develop\n",
      "nothing to commit, working directory clean\n",
      "------------------------------------------------------------------------\n",
      "- app-developer:\n",
      "\n",
      "# On branch develop\n",
      "nothing to commit, working directory clean\n",
      "------------------------------------------------------------------------\n",
      "------------------------------------------------------------------------\n",
      "Executing command: git checkout release/3.8.1\n",
      "--in .\n",
      "Branch release/3.8.1 set up to track remote branch release/3.8.1 from origin.\n",
      "Switched to a new branch 'release/3.8.1'\n",
      "------------------------------------------------------------------------\n",
      "--in parent\n",
      "Branch release/3.8.1 set up to track remote branch release/3.8.1 from origin.\n",
      "Switched to a new branch 'release/3.8.1'\n",
      "------------------------------------------------------------------------\n",
      "--in api\n",
      "Branch release/3.8.1 set up to track remote branch release/3.8.1 from origin.\n",
      "Switched to a new branch 'release/3.8.1'\n",
      "------------------------------------------------------------------------\n",
      "--in impl\n",
      "Branch release/3.8.1 set up to track remote branch release/3.8.1 from origin.\n",
      "Switched to a new branch 'release/3.8.1'\n",
      "------------------------------------------------------------------------\n",
      "--in support\n",
      "Branch release/3.8.1 set up to track remote branch release/3.8.1 from origin.\n",
      "Switched to a new branch 'release/3.8.1'\n",
      "------------------------------------------------------------------------\n",
      "--in gui-distribution\n",
      "Branch release/3.8.1 set up to track remote branch release/3.8.1 from origin.\n",
      "Switched to a new branch 'release/3.8.1'\n",
      "------------------------------------------------------------------------\n",
      "--in app-developer\n",
      "Branch release/3.8.1 set up to track remote branch release/3.8.1 from origin.\n",
      "Switched to a new branch 'release/3.8.1'\n",
      "------------------------------------------------------------------------\n"
     ]
    }
   ],
   "source": [
    "cd(CYTOSCAPE_ROOT_DIR)\n",
    "![[ -d cytoscape ]] || ./cy.sh init\n",
    "cd(CYTOSCAPE_DIR)\n",
    "!./cy.sh run-all \"git checkout {STARTING_BRANCH}\""
   ]
  },
  {
   "cell_type": "markdown",
   "metadata": {},
   "source": [
    "## 2a. Reset"
   ]
  },
  {
   "cell_type": "code",
   "execution_count": 8,
   "metadata": {},
   "outputs": [
    {
     "name": "stdout",
     "output_type": "stream",
     "text": [
      "------------------------------------------------------------------------\n",
      "Executing command: git clean -f -d\n",
      "--in .\n",
      "------------------------------------------------------------------------\n",
      "--in parent\n",
      "------------------------------------------------------------------------\n",
      "--in api\n",
      "------------------------------------------------------------------------\n",
      "--in impl\n",
      "------------------------------------------------------------------------\n",
      "--in support\n",
      "------------------------------------------------------------------------\n",
      "--in gui-distribution\n",
      "------------------------------------------------------------------------\n",
      "--in app-developer\n",
      "------------------------------------------------------------------------\n",
      "------------------------------------------------------------------------\n",
      "Executing command: git reset --hard\n",
      "--in .\n",
      "HEAD is now at aed26c0 Branch for 3.8.1\n",
      "------------------------------------------------------------------------\n",
      "--in parent\n",
      "HEAD is now at 46ff74e Branch for 3.8.1\n",
      "------------------------------------------------------------------------\n",
      "--in api\n",
      "HEAD is now at 14d3518 Add argument to force Cytoscape to use desktop browser rather than\n",
      "------------------------------------------------------------------------\n",
      "--in impl\n",
      "HEAD is now at b405495 CYTOSCAPE-12749 Don't use MarkSupportedInputStream when loading session.\n",
      "------------------------------------------------------------------------\n",
      "--in support\n",
      "HEAD is now at 8ab34e8 Branch for 3.8.1\n",
      "------------------------------------------------------------------------\n",
      "--in gui-distribution\n",
      "HEAD is now at a39b46d Use new versions of network-analyzer and merge\n",
      "------------------------------------------------------------------------\n",
      "--in app-developer\n",
      "HEAD is now at 57b1f9b Branch for 3.8.1\n",
      "------------------------------------------------------------------------\n"
     ]
    }
   ],
   "source": [
    "cd(CYTOSCAPE_DIR)\n",
    "!./cy.sh run-all 'git clean -f -d'\n",
    "!./cy.sh run-all 'git reset --hard'"
   ]
  },
  {
   "cell_type": "markdown",
   "metadata": {},
   "source": [
    "## 2. Verify status"
   ]
  },
  {
   "cell_type": "code",
   "execution_count": 28,
   "metadata": {
    "scrolled": false
   },
   "outputs": [
    {
     "name": "stdout",
     "output_type": "stream",
     "text": [
      "------------------------------------------------------------------------\n",
      "Executing command: git status\n",
      "--in .\n",
      "# On branch release/3.8.1\n",
      "# Changes not staged for commit:\n",
      "#   (use \"git add <file>...\" to update what will be committed)\n",
      "#   (use \"git checkout -- <file>...\" to discard changes in working directory)\n",
      "#\n",
      "#\tmodified:   build_output.txt\n",
      "#\n",
      "no changes added to commit (use \"git add\" and/or \"git commit -a\")\n",
      "------------------------------------------------------------------------\n",
      "--in parent\n",
      "# On branch release/3.8.1\n",
      "nothing to commit, working directory clean\n",
      "------------------------------------------------------------------------\n",
      "--in api\n",
      "# On branch release/3.8.1\n",
      "nothing to commit, working directory clean\n",
      "------------------------------------------------------------------------\n",
      "--in impl\n",
      "# On branch feature/3.8.1_fixes_for_large_files\n",
      "nothing to commit, working directory clean\n",
      "------------------------------------------------------------------------\n",
      "--in support\n",
      "# On branch release/3.8.1\n",
      "nothing to commit, working directory clean\n",
      "------------------------------------------------------------------------\n",
      "--in gui-distribution\n",
      "# On branch release/3.8.1\n",
      "nothing to commit, working directory clean\n",
      "------------------------------------------------------------------------\n",
      "--in app-developer\n",
      "# On branch release/3.8.1\n",
      "nothing to commit, working directory clean\n",
      "------------------------------------------------------------------------\n"
     ]
    }
   ],
   "source": [
    "cd(CYTOSCAPE_DIR)\n",
    "!./cy.sh run-all 'git status'"
   ]
  },
  {
   "cell_type": "markdown",
   "metadata": {},
   "source": [
    "## 3. Build Cytoscape and ensure no errors\n",
    "\n",
    "This may take a while. Expect to build subrepos first before building from the root directory\n",
    "\n",
    "Currently, you should expect two or so non-fatal javadoc-bundle-options related errors."
   ]
  },
  {
   "cell_type": "code",
   "execution_count": 29,
   "metadata": {},
   "outputs": [
    {
     "name": "stdout",
     "output_type": "stream",
     "text": [
      "Showing ERROR lines in build...\n",
      "[ERROR] Error fetching link: /home/cybuilder/cytoscape-admin-scripts/install4j8_build/cytoscape/cytoscape/api/app-api/target/javadoc-bundle-options. Ignored it.\n",
      "[ERROR] Error fetching link: /home/cybuilder/cytoscape-admin-scripts/install4j8_build/cytoscape/cytoscape/api/swing-app-api/target/javadoc-bundle-options. Ignored it.\n"
     ]
    }
   ],
   "source": [
    "cd(CYTOSCAPE_DIR)\n",
    "with open('build_output.txt', 'w') as outf:\n",
    "    process = Popen('mvn clean install -Dmaven.test.skip=true'.split(' '), \n",
    "                stdout=outf,\n",
    "                cwd=CYTOSCAPE_DIR)\n",
    "    process.wait()\n",
    "\n",
    "print(\"Showing ERROR lines in build...\")\n",
    "!cat build_output.txt | grep ERROR"
   ]
  },
  {
   "cell_type": "markdown",
   "metadata": {},
   "source": [
    "## 4. Build Cytoscape installers\n",
    "\n",
    "This requires Install4J to be configured on your machine and for the Install4j project file to point to the correct Mac signing file. The keystore password is set below (blank in this config), to be interpreted by the Install4j Maven plugin."
   ]
  },
  {
   "cell_type": "code",
   "execution_count": 30,
   "metadata": {
    "scrolled": true
   },
   "outputs": [
    {
     "name": "stdout",
     "output_type": "stream",
     "text": [
      "env: MAC_KEYSTORE_PASSWORD=\n",
      "[\u001b[1;34mINFO\u001b[m] Scanning for projects...\n",
      "[\u001b[1;33mWARNING\u001b[m] \n",
      "[\u001b[1;33mWARNING\u001b[m] Some problems were encountered while building the effective model for org.cytoscape.distribution:packaging:jar:3.8.1\n",
      "[\u001b[1;33mWARNING\u001b[m] 'build.plugins.plugin.version' for org.sonatype.install4j:install4j-maven-plugin is missing. @ org.cytoscape.distribution:packaging:[unknown-version], /home/cybuilder/cytoscape-admin-scripts/install4j8_build/cytoscape/cytoscape/gui-distribution/packaging/pom.xml, line 104, column 15\n",
      "[\u001b[1;33mWARNING\u001b[m] \n",
      "[\u001b[1;33mWARNING\u001b[m] It is highly recommended to fix these problems because they threaten the stability of your build.\n",
      "[\u001b[1;33mWARNING\u001b[m] \n",
      "[\u001b[1;33mWARNING\u001b[m] For this reason, future Maven versions might no longer support building such malformed projects.\n",
      "[\u001b[1;33mWARNING\u001b[m] \n",
      "[\u001b[1;34mINFO\u001b[m] \n",
      "[\u001b[1;34mINFO\u001b[m] \u001b[1m----------------< \u001b[0;36morg.cytoscape.distribution:packaging\u001b[0;1m >----------------\u001b[m\n",
      "[\u001b[1;34mINFO\u001b[m] \u001b[1mBuilding Cytoscape Release Packaging 3.8.1\u001b[m\n",
      "[\u001b[1;34mINFO\u001b[m] \u001b[1m--------------------------------[ jar ]---------------------------------\u001b[m\n",
      "Downloading from cytoscape_releases: http://nrnb-nexus.ucsd.edu/repository/cytoscape_releases/org/sonatype/install4j/install4j-maven-plugin/maven-metadata.xml\n",
      "Downloading from cytoscape_thirdparty: http://nrnb-nexus.ucsd.edu/repository/cytoscape_thirdparty/org/sonatype/install4j/install4j-maven-plugin/maven-metadata.xml\n",
      "Downloading from cytoscape_snapshots: http://nrnb-nexus.ucsd.edu/repository/cytoscape_snapshots/org/sonatype/install4j/install4j-maven-plugin/maven-metadata.xml\n",
      "Downloading from central: https://repo.maven.apache.org/maven2/org/sonatype/install4j/install4j-maven-plugin/maven-metadata.xml\n",
      "Downloaded from central: https://repo.maven.apache.org/maven2/org/sonatype/install4j/install4j-maven-plugin/maven-metadata.xml (690 B at 1.9 kB/s)\n",
      "[\u001b[1;34mINFO\u001b[m] \n",
      "[\u001b[1;34mINFO\u001b[m] \u001b[1m--- \u001b[0;32mmaven-clean-plugin:2.5:clean\u001b[m \u001b[1m(default-clean)\u001b[m @ \u001b[36mpackaging\u001b[0;1m ---\u001b[m\n",
      "[\u001b[1;34mINFO\u001b[m] Deleting /home/cybuilder/cytoscape-admin-scripts/install4j8_build/cytoscape/cytoscape/gui-distribution/packaging/target\n",
      "[\u001b[1;34mINFO\u001b[m] \n",
      "[\u001b[1;34mINFO\u001b[m] \u001b[1m--- \u001b[0;32mjacoco-maven-plugin:0.8.4:prepare-agent\u001b[m \u001b[1m(default)\u001b[m @ \u001b[36mpackaging\u001b[0;1m ---\u001b[m\n",
      "[\u001b[1;34mINFO\u001b[m] argLine set to -javaagent:/home/cybuilder/.m2/repository/org/jacoco/org.jacoco.agent/0.8.4/org.jacoco.agent-0.8.4-runtime.jar=destfile=/home/cybuilder/cytoscape-admin-scripts/install4j8_build/cytoscape/cytoscape/gui-distribution/packaging/target/jacoco.exec -Djdk.net.URLClassPath.disableClassPathURLCheck=true\n",
      "[\u001b[1;34mINFO\u001b[m] \n",
      "[\u001b[1;34mINFO\u001b[m] \u001b[1m--- \u001b[0;32mmaven-dependency-plugin:3.1.1:unpack-dependencies\u001b[m \u001b[1m(unpack-distribution)\u001b[m @ \u001b[36mpackaging\u001b[0;1m ---\u001b[m\n",
      "[\u001b[1;34mINFO\u001b[m] Unpacking /home/cybuilder/.m2/repository/org/cytoscape/distribution/cytoscape/3.8.1/cytoscape-3.8.1.zip to /home/cybuilder/cytoscape-admin-scripts/install4j8_build/cytoscape/cytoscape/gui-distribution/packaging/target with includes \"\" and excludes \"\"\n",
      "[\u001b[1;34mINFO\u001b[m] Unpacking /home/cybuilder/.m2/repository/org/cytoscape/distribution/cytoscape/3.8.1/cytoscape-3.8.1.tar.gz to /home/cybuilder/cytoscape-admin-scripts/install4j8_build/cytoscape/cytoscape/gui-distribution/packaging/target with includes \"\" and excludes \"\"\n",
      "[\u001b[1;34mINFO\u001b[m] Expanding: /home/cybuilder/.m2/repository/org/cytoscape/distribution/cytoscape/3.8.1/cytoscape-3.8.1.tar.gz into /home/cybuilder/cytoscape-admin-scripts/install4j8_build/cytoscape/cytoscape/gui-distribution/packaging/target\n",
      "[\u001b[1;34mINFO\u001b[m] \n",
      "[\u001b[1;34mINFO\u001b[m] \u001b[1m--- \u001b[0;32mmaven-dependency-plugin:3.1.1:unpack-dependencies\u001b[m \u001b[1m(unpack-javadoc)\u001b[m @ \u001b[36mpackaging\u001b[0;1m ---\u001b[m\n",
      "[\u001b[1;34mINFO\u001b[m] \n",
      "[\u001b[1;34mINFO\u001b[m] \u001b[1m--- \u001b[0;32mmaven-dependency-plugin:3.1.1:copy-dependencies\u001b[m \u001b[1m(copy-distribution)\u001b[m @ \u001b[36mpackaging\u001b[0;1m ---\u001b[m\n",
      "[\u001b[1;34mINFO\u001b[m] Copying cytoscape-3.8.1.zip to /home/cybuilder/cytoscape-admin-scripts/install4j8_build/cytoscape/cytoscape/gui-distribution/packaging/target/install4j/cytoscape-3.8.1.zip\n",
      "[\u001b[1;34mINFO\u001b[m] Copying cytoscape-3.8.1.tar.gz to /home/cybuilder/cytoscape-admin-scripts/install4j8_build/cytoscape/cytoscape/gui-distribution/packaging/target/install4j/cytoscape-3.8.1.tar.gz\n",
      "[\u001b[1;34mINFO\u001b[m] \n",
      "[\u001b[1;34mINFO\u001b[m] \u001b[1m--- \u001b[0;32mmaven-resources-plugin:2.6:resources\u001b[m \u001b[1m(default-resources)\u001b[m @ \u001b[36mpackaging\u001b[0;1m ---\u001b[m\n",
      "[\u001b[1;34mINFO\u001b[m] Using 'UTF-8' encoding to copy filtered resources.\n",
      "[\u001b[1;34mINFO\u001b[m] Copying 2 resources\n",
      "[\u001b[1;34mINFO\u001b[m] Copying 7 resources\n",
      "[\u001b[1;34mINFO\u001b[m] \n",
      "[\u001b[1;34mINFO\u001b[m] \u001b[1m--- \u001b[0;32mmaven-compiler-plugin:3.8.1:compile\u001b[m \u001b[1m(default-compile)\u001b[m @ \u001b[36mpackaging\u001b[0;1m ---\u001b[m\n",
      "[\u001b[1;34mINFO\u001b[m] No sources to compile\n",
      "[\u001b[1;34mINFO\u001b[m] \n",
      "[\u001b[1;34mINFO\u001b[m] \u001b[1m--- \u001b[0;32mmaven-resources-plugin:2.6:testResources\u001b[m \u001b[1m(default-testResources)\u001b[m @ \u001b[36mpackaging\u001b[0;1m ---\u001b[m\n",
      "[\u001b[1;34mINFO\u001b[m] Using 'UTF-8' encoding to copy filtered resources.\n",
      "[\u001b[1;34mINFO\u001b[m] skip non existing resourceDirectory /home/cybuilder/cytoscape-admin-scripts/install4j8_build/cytoscape/cytoscape/gui-distribution/packaging/src/test/resources\n",
      "[\u001b[1;34mINFO\u001b[m] \n",
      "[\u001b[1;34mINFO\u001b[m] \u001b[1m--- \u001b[0;32mmaven-compiler-plugin:3.8.1:testCompile\u001b[m \u001b[1m(default-testCompile)\u001b[m @ \u001b[36mpackaging\u001b[0;1m ---\u001b[m\n",
      "[\u001b[1;34mINFO\u001b[m] No sources to compile\n",
      "[\u001b[1;34mINFO\u001b[m] \n",
      "[\u001b[1;34mINFO\u001b[m] \u001b[1m--- \u001b[0;32mmaven-surefire-plugin:3.0.0-M3:test\u001b[m \u001b[1m(default-test)\u001b[m @ \u001b[36mpackaging\u001b[0;1m ---\u001b[m\n",
      "[\u001b[1;34mINFO\u001b[m] No tests to run.\n",
      "[\u001b[1;34mINFO\u001b[m] \n",
      "[\u001b[1;34mINFO\u001b[m] \u001b[1m--- \u001b[0;32mjacoco-maven-plugin:0.8.4:report\u001b[m \u001b[1m(report)\u001b[m @ \u001b[36mpackaging\u001b[0;1m ---\u001b[m\n",
      "[\u001b[1;34mINFO\u001b[m] Skipping JaCoCo execution due to missing execution data file.\n",
      "[\u001b[1;34mINFO\u001b[m] \n",
      "[\u001b[1;34mINFO\u001b[m] \u001b[1m--- \u001b[0;32mmaven-jar-plugin:2.4:jar\u001b[m \u001b[1m(default-jar)\u001b[m @ \u001b[36mpackaging\u001b[0;1m ---\u001b[m\n",
      "[\u001b[1;34mINFO\u001b[m] Building jar: /home/cybuilder/cytoscape-admin-scripts/install4j8_build/cytoscape/cytoscape/gui-distribution/packaging/target/packaging-3.8.1.jar\n",
      "[\u001b[1;34mINFO\u001b[m] \n",
      "[\u001b[1;34mINFO\u001b[m] \u001b[1m>>> \u001b[0;32mmaven-source-plugin:3.0.1:jar\u001b[m \u001b[1m(attach-sources)\u001b[0;1m > \u001b[0;1mgenerate-sources\u001b[m @ \u001b[36mpackaging\u001b[0;1m >>>\u001b[m\n",
      "[\u001b[1;34mINFO\u001b[m] \n",
      "[\u001b[1;34mINFO\u001b[m] \u001b[1m--- \u001b[0;32mjacoco-maven-plugin:0.8.4:prepare-agent\u001b[m \u001b[1m(default)\u001b[m @ \u001b[36mpackaging\u001b[0;1m ---\u001b[m\n",
      "[\u001b[1;34mINFO\u001b[m] argLine set to -javaagent:/home/cybuilder/.m2/repository/org/jacoco/org.jacoco.agent/0.8.4/org.jacoco.agent-0.8.4-runtime.jar=destfile=/home/cybuilder/cytoscape-admin-scripts/install4j8_build/cytoscape/cytoscape/gui-distribution/packaging/target/jacoco.exec -Djdk.net.URLClassPath.disableClassPathURLCheck=true\n",
      "[\u001b[1;34mINFO\u001b[m] \n",
      "[\u001b[1;34mINFO\u001b[m] \u001b[1m<<< \u001b[0;32mmaven-source-plugin:3.0.1:jar\u001b[m \u001b[1m(attach-sources)\u001b[0;1m < \u001b[0;1mgenerate-sources\u001b[m @ \u001b[36mpackaging\u001b[0;1m <<<\u001b[m\n",
      "[\u001b[1;34mINFO\u001b[m] \n",
      "[\u001b[1;34mINFO\u001b[m] \n",
      "[\u001b[1;34mINFO\u001b[m] \u001b[1m--- \u001b[0;32mmaven-source-plugin:3.0.1:jar\u001b[m \u001b[1m(attach-sources)\u001b[m @ \u001b[36mpackaging\u001b[0;1m ---\u001b[m\n",
      "[\u001b[1;34mINFO\u001b[m] Building jar: /home/cybuilder/cytoscape-admin-scripts/install4j8_build/cytoscape/cytoscape/gui-distribution/packaging/target/packaging-3.8.1-sources.jar\n",
      "[\u001b[1;34mINFO\u001b[m] \n",
      "[\u001b[1;34mINFO\u001b[m] \u001b[1m--- \u001b[0;32mmaven-dependency-plugin:3.1.1:copy-dependencies\u001b[m \u001b[1m(copy-dependencies)\u001b[m @ \u001b[36mpackaging\u001b[0;1m ---\u001b[m\n",
      "[\u001b[1;34mINFO\u001b[m] Copying cytoscape-3.8.1.zip to /home/cybuilder/cytoscape-admin-scripts/install4j8_build/cytoscape/cytoscape/gui-distribution/packaging/target/bundles/cytoscape-3.8.1.zip\n",
      "[\u001b[1;34mINFO\u001b[m] Copying cytoscape-3.8.1.tar.gz to /home/cybuilder/cytoscape-admin-scripts/install4j8_build/cytoscape/cytoscape/gui-distribution/packaging/target/bundles/cytoscape-3.8.1.tar.gz\n",
      "[\u001b[1;34mINFO\u001b[m] \n",
      "[\u001b[1;34mINFO\u001b[m] \u001b[1m--- \u001b[0;32minstall4j-maven-plugin:1.1.2:compile\u001b[m \u001b[1m(compile-installers)\u001b[m @ \u001b[36mpackaging\u001b[0;1m ---\u001b[m\n",
      "[\u001b[1;34mINFO\u001b[m] chmod: changing permissions of ‘/opt/install4j8/bin/install4jc’: Operation not permitted\n",
      "[\u001b[1;31mERROR\u001b[m] Result: 1\n",
      "[\u001b[1;34mINFO\u001b[m] install4j version 8.0.2 (build 8057), built on 2019-09-25\n",
      "[\u001b[1;34mINFO\u001b[m] Using Java 11.0.4 from /usr/lib/jvm/java-11-openjdk-11.0.4.11-1.el7_7.x86_64\n",
      "[\u001b[1;34mINFO\u001b[m] Registered to Cytoscape Builder, Cytoscape Consortium\n",
      "[\u001b[1;34mINFO\u001b[m] \n"
     ]
    },
    {
     "name": "stdout",
     "output_type": "stream",
     "text": [
      "[\u001b[1;34mINFO\u001b[m] Loading config file /home/cybuilder/cytoscape-admin-scripts/install4j8_build/cytoscape/cytoscape/gui-distribution/packaging/target/classes/Cytoscape.install4j\n",
      "[\u001b[1;34mINFO\u001b[m] Creating media file 'Windows 64 bit':\n",
      "[\u001b[1;34mINFO\u001b[m] Created media file output directory /home/cybuilder/cytoscape-admin-scripts/install4j8_build/cytoscape/cytoscape/gui-distribution/packaging/target/media\n",
      "[\u001b[1;34mINFO\u001b[m] \n",
      "[\u001b[1;34mINFO\u001b[m]   Collecting files:\n",
      "[\u001b[1;34mINFO\u001b[m]   Compiling launchers:\n",
      "[\u001b[1;34mINFO\u001b[m]     Compiling launcher 'Cytoscape':\n",
      "[\u001b[1;34mINFO\u001b[m]   Creating media file: \n",
      "[\u001b[1;34mINFO\u001b[m]     Zipping custom code & resources JAR file\n",
      "[\u001b[1;34mINFO\u001b[m]     Identifying components\n",
      "[\u001b[1;34mINFO\u001b[m]     Shrinking runtime\n",
      "[\u001b[1;34mINFO\u001b[m]   \n",
      "[\u001b[1;34mINFO\u001b[m] Creating media file 'Windows 32 bit':\n",
      "[\u001b[1;34mINFO\u001b[m]   Collecting files:\n",
      "[\u001b[1;34mINFO\u001b[m]   Compiling launchers:\n",
      "[\u001b[1;34mINFO\u001b[m]     Compiling launcher 'Cytoscape':\n",
      "[\u001b[1;34mINFO\u001b[m]   Creating media file: \n",
      "[\u001b[1;34mINFO\u001b[m]     Zipping custom code & resources JAR file\n",
      "[\u001b[1;34mINFO\u001b[m]     Identifying components\n",
      "[\u001b[1;34mINFO\u001b[m]     Shrinking runtime\n",
      "[\u001b[1;34mINFO\u001b[m]   \n",
      "[\u001b[1;34mINFO\u001b[m] Creating media file 'Mac OS X':\n",
      "[\u001b[1;34mINFO\u001b[m]   Collecting files:\n",
      "[\u001b[1;34mINFO\u001b[m]   Compiling launchers:\n",
      "[\u001b[1;34mINFO\u001b[m]     Compiling launcher 'Cytoscape':\n",
      "[\u001b[1;34mINFO\u001b[m]       Signing launcher\n",
      "[\u001b[1;34mINFO\u001b[m]   Creating media file: \n",
      "[\u001b[1;34mINFO\u001b[m]     Signing launcher\n",
      "[\u001b[1;34mINFO\u001b[m]     Zipping custom code & resources JAR file\n",
      "[\u001b[1;34mINFO\u001b[m]     Identifying components\n",
      "[\u001b[1;34mINFO\u001b[m]     Shrinking runtime\n",
      "[\u001b[1;34mINFO\u001b[m]   \n",
      "[\u001b[1;34mINFO\u001b[m] Creating media file 'Unix':\n",
      "[\u001b[1;34mINFO\u001b[m]   Collecting files:\n",
      "[\u001b[1;34mINFO\u001b[m]   Compiling launchers:\n",
      "[\u001b[1;34mINFO\u001b[m]     Compiling launcher 'Cytoscape':\n",
      "[\u001b[1;34mINFO\u001b[m]       Generating launcher script file\n",
      "[\u001b[1;34mINFO\u001b[m]   Creating media file: \n",
      "[\u001b[1;34mINFO\u001b[m]     Generating launcher script file\n",
      "[\u001b[1;34mINFO\u001b[m]     Zipping custom code & resources JAR file\n",
      "[\u001b[1;34mINFO\u001b[m]     Identifying components\n",
      "[\u001b[1;34mINFO\u001b[m]     Shrinking runtime\n",
      "[\u001b[1;34mINFO\u001b[m]   \n",
      "[\u001b[1;34mINFO\u001b[m] Compressing 4 media files with 4 threads:\n",
      "[\u001b[1;34mINFO\u001b[m] \n",
      "[\u001b[1;34mINFO\u001b[m] Compressed media file 'Unix':\n",
      "[\u001b[1;34mINFO\u001b[m]   Compressing files\n",
      "[\u001b[1;34mINFO\u001b[m]   Moving media files to media directory /home/cybuilder/cytoscape-admin-scripts/install4j8_build/cytoscape/cytoscape/gui-distribution/packaging/target/media\n",
      "[\u001b[1;34mINFO\u001b[m]   The name of the media file is Cytoscape_3_8_1_unix.sh.\n",
      "[\u001b[1;34mINFO\u001b[m]   The size of the media file is 264.6 MB\n",
      "[\u001b[1;34mINFO\u001b[m] \n",
      "[\u001b[1;34mINFO\u001b[m] Compressed media file 'Windows 64 bit':\n",
      "[\u001b[1;34mINFO\u001b[m]   Compressing files\n",
      "[\u001b[1;34mINFO\u001b[m]   Moving media files to media directory /home/cybuilder/cytoscape-admin-scripts/install4j8_build/cytoscape/cytoscape/gui-distribution/packaging/target/media\n",
      "[\u001b[1;34mINFO\u001b[m]   The name of the media file is Cytoscape_3_8_1_windows_64bit.exe.\n",
      "[\u001b[1;34mINFO\u001b[m]   The size of the media file is 266.1 MB\n",
      "[\u001b[1;34mINFO\u001b[m]   \n",
      "[\u001b[1;34mINFO\u001b[m]   Important: Please make sure that the file\n",
      "[\u001b[1;34mINFO\u001b[m]       /home/cybuilder/.install4j8/jres/windows-amd64-11.0.6.tar.gz\n",
      "[\u001b[1;34mINFO\u001b[m]   can be downloaded from\n",
      "[\u001b[1;34mINFO\u001b[m]       https://cytoscape-builds.ucsd.edu/jres/windows-amd64-11.0.6.tar.gz\n",
      "[\u001b[1;34mINFO\u001b[m] \n",
      "[\u001b[1;34mINFO\u001b[m] Compressed media file 'Windows 32 bit':\n",
      "[\u001b[1;34mINFO\u001b[m]   Compressing files\n",
      "[\u001b[1;34mINFO\u001b[m]   Moving media files to media directory /home/cybuilder/cytoscape-admin-scripts/install4j8_build/cytoscape/cytoscape/gui-distribution/packaging/target/media\n",
      "[\u001b[1;34mINFO\u001b[m]   The name of the media file is Cytoscape_3_8_1_windows_32bit.exe.\n",
      "[\u001b[1;34mINFO\u001b[m]   The size of the media file is 266.0 MB\n",
      "[\u001b[1;34mINFO\u001b[m] \n",
      "[\u001b[1;34mINFO\u001b[m] Compressed media file 'Mac OS X':\n",
      "[\u001b[1;34mINFO\u001b[m]   Compressing files\n",
      "[\u001b[1;34mINFO\u001b[m]   Searching .i4j_external_228/framework/lib/openjfx/linux/javafx-swing-13-linux.jar for binaries\n",
      "[\u001b[1;34mINFO\u001b[m]   Searching .i4j_external_228/framework/lib/openjfx/linux/javafx-web-13-linux.jar for binaries\n",
      "[\u001b[1;34mINFO\u001b[m]   Searching .i4j_external_228/framework/lib/openjfx/linux/javafx-controls-13-linux.jar for binaries\n",
      "[\u001b[1;34mINFO\u001b[m]   Searching .i4j_external_228/framework/lib/openjfx/linux/javafx-fxml-13-linux.jar for binaries\n",
      "[\u001b[1;34mINFO\u001b[m]   Searching .i4j_external_228/framework/lib/openjfx/linux/javafx-media-13-linux.jar for binaries\n",
      "[\u001b[1;34mINFO\u001b[m]   Searching .i4j_external_228/framework/lib/openjfx/linux/javafx-base-13-linux.jar for binaries\n",
      "[\u001b[1;34mINFO\u001b[m]   Searching .i4j_external_228/framework/lib/openjfx/linux/javafx-graphics-13-linux.jar for binaries\n",
      "[\u001b[1;34mINFO\u001b[m]   Searching .i4j_external_228/framework/lib/openjfx/win/javafx-web-13-win.jar for binaries\n",
      "[\u001b[1;34mINFO\u001b[m]   Searching .i4j_external_228/framework/lib/openjfx/win/javafx-controls-13-win.jar for binaries\n",
      "[\u001b[1;34mINFO\u001b[m]   Searching .i4j_external_228/framework/lib/openjfx/win/javafx-media-13-win.jar for binaries\n",
      "[\u001b[1;34mINFO\u001b[m]   Searching .i4j_external_228/framework/lib/openjfx/win/javafx-graphics-13-win.jar for binaries\n",
      "[\u001b[1;34mINFO\u001b[m]   Searching .i4j_external_228/framework/lib/openjfx/win/javafx-swing-13-win.jar for binaries\n",
      "[\u001b[1;34mINFO\u001b[m]   Searching .i4j_external_228/framework/lib/openjfx/win/javafx-base-13-win.jar for binaries\n",
      "[\u001b[1;34mINFO\u001b[m]   Searching .i4j_external_228/framework/lib/openjfx/win/javafx-fxml-13-win.jar for binaries\n",
      "[\u001b[1;34mINFO\u001b[m]   Searching .i4j_external_228/framework/lib/openjfx/mac/javafx-web-13-mac.jar for binaries\n",
      "[\u001b[1;34mINFO\u001b[m]   Signing /libjfxwebkit.dylib\n",
      "[\u001b[1;34mINFO\u001b[m]   Searching .i4j_external_228/framework/lib/openjfx/mac/javafx-swing-13-mac.jar for binaries\n",
      "[\u001b[1;34mINFO\u001b[m]   Searching .i4j_external_228/framework/lib/openjfx/mac/javafx-controls-13-mac.jar for binaries\n",
      "[\u001b[1;34mINFO\u001b[m]   Searching .i4j_external_228/framework/lib/openjfx/mac/javafx-media-13-mac.jar for binaries\n",
      "[\u001b[1;34mINFO\u001b[m]   Signing /libjfxmedia.dylib\n",
      "[\u001b[1;34mINFO\u001b[m]   Signing /libgstreamer-lite.dylib\n",
      "[\u001b[1;34mINFO\u001b[m]   Signing /libfxplugins.dylib\n",
      "[\u001b[1;34mINFO\u001b[m]   Signing /libglib-lite.dylib\n",
      "[\u001b[1;34mINFO\u001b[m]   Signing /libjfxmedia_avf.dylib\n",
      "[\u001b[1;34mINFO\u001b[m]   Searching .i4j_external_228/framework/lib/openjfx/mac/javafx-fxml-13-mac.jar for binaries\n",
      "[\u001b[1;34mINFO\u001b[m]   Searching .i4j_external_228/framework/lib/openjfx/mac/javafx-graphics-13-mac.jar for binaries\n",
      "[\u001b[1;34mINFO\u001b[m]   Signing /libprism_sw.dylib\n",
      "[\u001b[1;34mINFO\u001b[m]   Signing /libdecora_sse.dylib\n",
      "[\u001b[1;34mINFO\u001b[m]   Signing /libprism_es2.dylib\n",
      "[\u001b[1;34mINFO\u001b[m]   Signing /libprism_common.dylib\n",
      "[\u001b[1;34mINFO\u001b[m]   Signing /libjavafx_font.dylib\n",
      "[\u001b[1;34mINFO\u001b[m]   Signing /libglass.dylib\n",
      "[\u001b[1;34mINFO\u001b[m]   Signing /libjavafx_iio.dylib\n",
      "[\u001b[1;34mINFO\u001b[m]   Searching .i4j_external_228/framework/lib/openjfx/mac/javafx-base-13-mac.jar for binaries\n",
      "[\u001b[1;34mINFO\u001b[m]   Generating VM options file vmoptions.txt.\n",
      "[\u001b[1;34mINFO\u001b[m]   Signing libi4jinst2.dylib\n",
      "[\u001b[1;34mINFO\u001b[m]   Signing install4j\n",
      "[\u001b[1;34mINFO\u001b[m]   Signing libi4jinst.dylib\n",
      "[\u001b[1;34mINFO\u001b[m]   Signing installer\n",
      "[\u001b[1;34mINFO\u001b[m]   Signing DMG\n",
      "[\u001b[1;34mINFO\u001b[m]   Moving media files to media directory /home/cybuilder/cytoscape-admin-scripts/install4j8_build/cytoscape/cytoscape/gui-distribution/packaging/target/media\n",
      "[\u001b[1;34mINFO\u001b[m]   The name of the media file is Cytoscape_3_8_1_macos.dmg.\n",
      "[\u001b[1;34mINFO\u001b[m]   The size of the media file is 266.6 MB\n",
      "[\u001b[1;34mINFO\u001b[m]   \n",
      "[\u001b[1;34mINFO\u001b[m]   Important: Please make sure that the file\n",
      "[\u001b[1;34mINFO\u001b[m]       /home/cybuilder/.install4j8/jres/macosx-amd64-11.0.6.tar.gz\n",
      "[\u001b[1;34mINFO\u001b[m]   can be downloaded from\n",
      "[\u001b[1;34mINFO\u001b[m]       https://cytoscape-builds.ucsd.edu/jres/macosx-amd64-11.0.6.tar.gz\n",
      "[\u001b[1;34mINFO\u001b[m] \n",
      "[\u001b[1;34mINFO\u001b[m] Important: macOS media sets have to be notarized before distribution.\n",
      "[\u001b[1;34mINFO\u001b[m]   More information in the code signing help.\n",
      "[\u001b[1;34mINFO\u001b[m] \n",
      "[\u001b[1;34mINFO\u001b[m] Writing md5sums.\n",
      "[\u001b[1;34mINFO\u001b[m] Writing sha256sums.\n",
      "[\u001b[1;34mINFO\u001b[m] Writing updates.xml.\n",
      "[\u001b[1;34mINFO\u001b[m] Build completed in 85.5 seconds.\n",
      "[\u001b[1;34mINFO\u001b[m] \n",
      "[\u001b[1;34mINFO\u001b[m] \u001b[1m--- \u001b[0;32mmaven-install-plugin:2.4:install\u001b[m \u001b[1m(default-install)\u001b[m @ \u001b[36mpackaging\u001b[0;1m ---\u001b[m\n",
      "[\u001b[1;34mINFO\u001b[m] Installing /home/cybuilder/cytoscape-admin-scripts/install4j8_build/cytoscape/cytoscape/gui-distribution/packaging/target/packaging-3.8.1.jar to /home/cybuilder/.m2/repository/org/cytoscape/distribution/packaging/3.8.1/packaging-3.8.1.jar\n",
      "[\u001b[1;34mINFO\u001b[m] Installing /home/cybuilder/cytoscape-admin-scripts/install4j8_build/cytoscape/cytoscape/gui-distribution/packaging/pom.xml to /home/cybuilder/.m2/repository/org/cytoscape/distribution/packaging/3.8.1/packaging-3.8.1.pom\n"
     ]
    },
    {
     "name": "stdout",
     "output_type": "stream",
     "text": [
      "[\u001b[1;34mINFO\u001b[m] Installing /home/cybuilder/cytoscape-admin-scripts/install4j8_build/cytoscape/cytoscape/gui-distribution/packaging/target/packaging-3.8.1-sources.jar to /home/cybuilder/.m2/repository/org/cytoscape/distribution/packaging/3.8.1/packaging-3.8.1-sources.jar\r\n",
      "[\u001b[1;34mINFO\u001b[m] \u001b[1m------------------------------------------------------------------------\u001b[m\r\n",
      "[\u001b[1;34mINFO\u001b[m] \u001b[1;32mBUILD SUCCESS\u001b[m\r\n",
      "[\u001b[1;34mINFO\u001b[m] \u001b[1m------------------------------------------------------------------------\u001b[m\r\n",
      "[\u001b[1;34mINFO\u001b[m] Total time:  01:37 min\r\n",
      "[\u001b[1;34mINFO\u001b[m] Finished at: 2020-10-05T14:11:44-07:00\r\n",
      "[\u001b[1;34mINFO\u001b[m] \u001b[1m------------------------------------------------------------------------\u001b[m\r\n"
     ]
    }
   ],
   "source": [
    "cd(CYTOSCAPE_DIR, 'gui-distribution', 'packaging')\n",
    "%env MAC_KEYSTORE_PASSWORD=\n",
    "!mvn clean install -U"
   ]
  },
  {
   "cell_type": "markdown",
   "metadata": {},
   "source": [
    "# 5. Copying Cytoscape installers to weekly download page\n",
    "\n",
    "When completed installer executables can be found in `cytoscape/cytoscape/gui-distribution/packaging/target/media` and compressed builds for Linux and Windows can be found in `cytoscape/cytoscape/gui-distribution/assembly/target`\n",
    "\n",
    "all of which should be copied to `/var/www/html/cytoscape-builds/Cytoscape-3.8.1/<DATE>`\n",
    "\n"
   ]
  },
  {
   "cell_type": "code",
   "execution_count": 31,
   "metadata": {
    "scrolled": true
   },
   "outputs": [
    {
     "name": "stdout",
     "output_type": "stream",
     "text": [
      "sending incremental file list\n",
      "Cytoscape_3_8_1_macos.dmg\n",
      "    279,590,192 100%  217.82MB/s    0:00:01 (xfr#1, to-chk=7/8)\n",
      "Cytoscape_3_8_1_unix.sh\n",
      "    277,460,925 100%  243.21MB/s    0:00:01 (xfr#2, to-chk=6/8)\n",
      "Cytoscape_3_8_1_windows_32bit.exe\n",
      "    278,970,880 100%  248.41MB/s    0:00:01 (xfr#3, to-chk=5/8)\n",
      "Cytoscape_3_8_1_windows_64bit.exe\n",
      "    279,078,400 100%  232.45MB/s    0:00:01 (xfr#4, to-chk=4/8)\n",
      "md5sums\n",
      "            254 100%    1.70kB/s    0:00:00 (xfr#5, to-chk=3/8)\n",
      "output.txt\n",
      "            789 100%    5.28kB/s    0:00:00 (xfr#6, to-chk=2/8)\n",
      "sha256sums\n",
      "            382 100%    2.56kB/s    0:00:00 (xfr#7, to-chk=1/8)\n",
      "updates.xml\n",
      "          1,666 100%   11.14kB/s    0:00:00 (xfr#8, to-chk=0/8)\n",
      "\n",
      "sent 1,115,376,303 bytes  received 168 bytes  247,861,438.00 bytes/sec\n",
      "total size is 1,115,103,488  speedup is 1.00\n",
      "sending incremental file list\n",
      "cytoscape-unix-3.8.1.tar.gz\n",
      "    274,734,055 100%  304.62MB/s    0:00:00 (xfr#1, to-chk=1/2)\n",
      "cytoscape-windows-3.8.1.zip\n",
      "    275,590,551 100%  138.40MB/s    0:00:01 (xfr#2, to-chk=0/2)\n",
      "\n",
      "sent 550,459,167 bytes  received 54 bytes  220,183,688.40 bytes/sec\n",
      "total size is 550,324,606  speedup is 1.00\n"
     ]
    }
   ],
   "source": [
    "!mkdir -p /var/www/html/cytoscape-builds/Cytoscape-3.8.1/$(date +%Y_%m_%d)\n",
    "!rsync -av --progress /home/cybuilder/cytoscape-admin-scripts/install4j8_build/cytoscape/cytoscape/gui-distribution/packaging/target/media/* /var/www/html/cytoscape-builds/Cytoscape-3.8.1/$(date +%Y_%m_%d)\n",
    "!rsync -av --progress /home/cybuilder/cytoscape-admin-scripts/install4j8_build/cytoscape/cytoscape/gui-distribution/assembly/target/*.{gz,zip} /var/www/html/cytoscape-builds/Cytoscape-3.8.1/$(date +%Y_%m_%d)\n"
   ]
  },
  {
   "cell_type": "markdown",
   "metadata": {},
   "source": [
    "## 6. Notarizing on idekerlab-macmini\n",
    "\n",
    "The install4j generated .dmg must be notarized to run on macOS 10.15 and above. The .dmg will be sent to idekerlab-macmini and submitted for notarization. An email will be sent to William Markuske when the notarization process is complete. As soon as the .dmg is notarized it will work and no further action is needed."
   ]
  },
  {
   "cell_type": "code",
   "execution_count": 32,
   "metadata": {
    "scrolled": true
   },
   "outputs": [
    {
     "name": "stdout",
     "output_type": "stream",
     "text": [
      "building file list ... \n",
      "1 file to consider\n",
      "Cytoscape_3_8_1_macos.dmg\n",
      "    279,590,192 100%   56.97MB/s    0:00:04 (xfr#1, to-chk=0/1)\n",
      "\n",
      "sent 279,624,466 bytes  received 46 bytes  43,019,155.69 bytes/sec\n",
      "total size is 279,590,192  speedup is 1.00\n",
      "No errors uploading '/Users/idekerlab/apps_to_notarize/Cytoscape_3_8_1_macos.dmg'.\n",
      "RequestUUID = 1baeec4d-f3f4-4c6d-9984-798d338dec72\n",
      "\n",
      "\n"
     ]
    }
   ],
   "source": [
    "!rsync -av --progress /var/www/html/cytoscape-builds/Cytoscape-3.8.1/$(date +%Y_%m_%d)/*.dmg idekerlab@idekerlab-macmini.ucsd.edu:~/apps_to_notarize/\n",
    "!ssh idekerlab@idekerlab-macmini.ucsd.edu '~/notarizedmg_jing.sh ~/apps_to_notarize/*.dmg Snapshot.$(date +%Y%m%d)'    "
   ]
  },
  {
   "cell_type": "markdown",
   "metadata": {},
   "source": [
    "You can check the status of the notarization by pasting in the `RequestUUID` value into the following command and running."
   ]
  },
  {
   "cell_type": "code",
   "execution_count": 37,
   "metadata": {},
   "outputs": [
    {
     "name": "stdout",
     "output_type": "stream",
     "text": [
      "No errors getting notarization info.\r\n",
      "\r\n",
      "          Date: 2020-10-05 21:19:04 +0000\r\n",
      "          Hash: ec8e45d3c8a082e743beecf024c4d9f8c8c94db4b1e89d830a71e91b63d2c4df\r\n",
      "    LogFileURL: https://osxapps-ssl.itunes.apple.com/itunes-assets/Enigma124/v4/18/44/da/1844da25-b50f-3ab5-860b-baa645754990/developer_log.json?accessKey=1602127481_2485699796868385843_VvjK82d69qfTDAMUbApOXgnwbj1lONbOeCtylMsB8x8SnQLrvhyUkEYTXpym7APnVKTLShgsrEks2kAVNeXgdE7OqNbYl5zFdbuRbxL7WypuIjyE5UxpaG50CHef7IeVZKYac1Cvxi1K%2FZpIzjOZU4GdKHsCjyVG4p%2FJpuY39Y0%3D\r\n",
      "   RequestUUID: 1baeec4d-f3f4-4c6d-9984-798d338dec72\r\n",
      "        Status: success\r\n",
      "   Status Code: 0\r\n",
      "Status Message: Package Approved\r\n",
      "\r\n"
     ]
    }
   ],
   "source": [
    "!ssh idekerlab@idekerlab-macmini.ucsd.edu '~/notarizestatus_jing.sh 1baeec4d-f3f4-4c6d-9984-798d338dec72'"
   ]
  },
  {
   "cell_type": "code",
   "execution_count": null,
   "metadata": {},
   "outputs": [],
   "source": [
    "updates = [\n",
    "    'Bug fixes to address memory leaks and race conditions in automation scripts.',\n",
    "    'Fix for edge tooltips not rendering',\n",
    "    'New U',\n",
    "    'Updated apps, including CyBrowser, Analyzer, and CyNDEx-2',\n",
    "    'Additional Graph Editing Tools'\n",
    "]\n",
    "update_list = '\\n'.join([' - ' + update for update in updates])\n",
    "welcome_letter = 'http://www.cytoscape.org/cy3_welcome_letter_v22.pdf'\n",
    "release_notes = 'http://www.cytoscape.org/release_notes_3_8_1.html'\n",
    "message = '''Cytoscape {version} is released!\n",
    "\n",
    "=+=+ =+=+ =+=+ =+=+ =+=+ Hello Cytoscapers! =+=+ =+=+ =+=+ =+=+ =+=+\n",
    " \n",
    "We're very pleased and excited to announce availability of Cytoscape {version}, effective immediately!\n",
    "\n",
    "To get a copy, surf to our download page (http://cytoscape.org/download), and download and execute the installer for your workstation.\n",
    "\n",
    "There are many new and exciting features in {version}, including:\n",
    "{update_list}\n",
    "\n",
    "Note that with {version}, Windows & Mac systems can run Java versions 8, 9, and 10 without conflicting with Cytoscape -- it installs and uses a private Java 11.\n",
    "\n",
    "For Linux, you must be sure Java 11 is installed and is first on the PATH or is named via the JAVA_HOME environment variable.\n",
    "\n",
    "If you find any issues with this release, please let us know by posting to cytoscape-helpdesk@googlegroups.com … we very much value your feedback!\n",
    "\n",
    "Please check the {version} materials in our Welcome Letter ({welcome_letter}) and the Release Notes ({release_notes}).\n",
    "\n",
    "Tell all your friends ...\n",
    "\n",
    "We appreciate your checking this out, and we hope you find it as great to work with as we do!\n",
    "\n",
    "=+=+ =+=+ =+=+ =+=+ =+=+ =+=+ =+=+ =+=+ =+=+ =+=+'''\n",
    "print(message.format(version='3.8.0', update_list=update_list, \n",
    "                     welcome_letter=welcome_letter, release_notes=release_notes))"
   ]
  },
  {
   "cell_type": "code",
   "execution_count": null,
   "metadata": {},
   "outputs": [],
   "source": []
  }
 ],
 "metadata": {
  "kernelspec": {
   "display_name": "Python 3",
   "language": "python",
   "name": "python3"
  },
  "language_info": {
   "codemirror_mode": {
    "name": "ipython",
    "version": 3
   },
   "file_extension": ".py",
   "mimetype": "text/x-python",
   "name": "python",
   "nbconvert_exporter": "python",
   "pygments_lexer": "ipython3",
   "version": "3.7.3"
  }
 },
 "nbformat": 4,
 "nbformat_minor": 2
}
